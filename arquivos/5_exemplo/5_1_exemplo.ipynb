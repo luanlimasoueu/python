{
 "cells": [
  {
   "cell_type": "code",
   "execution_count": 6,
   "metadata": {},
   "outputs": [
    {
     "name": "stdout",
     "output_type": "stream",
     "text": [
      "       dates  status\n",
      "0 2021-03-05  Opened\n",
      "1 2021-03-16  Opened\n",
      "2 2021-03-28  Closed\n",
      "dates     datetime64[ns]\n",
      "status            object\n",
      "dtype: object\n"
     ]
    }
   ],
   "source": [
    "import pandas as pd\n",
    "\n",
    "values = {'dates':  ['05-Mar-2021','16-Mar-2021','28-Mar-2021'],\n",
    "          'status': ['Opened','Opened','Closed']\n",
    "          }\n",
    "\n",
    "df = pd.DataFrame(values)\n",
    "\n",
    "df['dates'] = pd.to_datetime(df['dates'], format='%d-%b-%Y')\n",
    "\n",
    "print(df)\n",
    "print(df.dtypes)"
   ]
  },
  {
   "cell_type": "code",
   "execution_count": 7,
   "metadata": {},
   "outputs": [
    {
     "name": "stdout",
     "output_type": "stream",
     "text": [
      "       dates  status\n",
      "0 2021-03-05  Opened\n",
      "1 2021-03-16  Opened\n",
      "2 2021-03-28  Closed\n",
      "dates     datetime64[ns]\n",
      "status            object\n",
      "dtype: object\n"
     ]
    }
   ],
   "source": [
    "import pandas as pd\n",
    "\n",
    "values = {'dates':  ['05032021','16032021','28032021'],\n",
    "          'status': ['Opened','Opened','Closed']\n",
    "          }\n",
    "\n",
    "df = pd.DataFrame(values)\n",
    "\n",
    "df['dates'] = pd.to_datetime(df['dates'], format='%d%m%Y')\n",
    "\n",
    "print(df)\n",
    "print(df.dtypes)"
   ]
  },
  {
   "cell_type": "code",
   "execution_count": 86,
   "metadata": {},
   "outputs": [],
   "source": [
    "# Python code demonstrate creating \n",
    "# DataFrame from dict narray / lists \n",
    "# By default addresses.\n",
    " \n",
    "import pandas as pd\n",
    " \n",
    "# intialise data of lists.\n",
    "data = {'Name':['Tom', 'nick', 'krish', 'jack'],\n",
    "        'Dates':['05032021','16032021','28032021','28032021']}\n",
    " \n",
    "df1 = pd.DataFrame(data)\n",
    "\n",
    "df1['Dates'] = pd.to_datetime(df1['Dates'], format='%d%m%Y')"
   ]
  },
  {
   "cell_type": "code",
   "execution_count": 87,
   "metadata": {},
   "outputs": [
    {
     "data": {
      "text/html": [
       "<div>\n",
       "<style scoped>\n",
       "    .dataframe tbody tr th:only-of-type {\n",
       "        vertical-align: middle;\n",
       "    }\n",
       "\n",
       "    .dataframe tbody tr th {\n",
       "        vertical-align: top;\n",
       "    }\n",
       "\n",
       "    .dataframe thead th {\n",
       "        text-align: right;\n",
       "    }\n",
       "</style>\n",
       "<table border=\"1\" class=\"dataframe\">\n",
       "  <thead>\n",
       "    <tr style=\"text-align: right;\">\n",
       "      <th></th>\n",
       "      <th>Name</th>\n",
       "      <th>Dates</th>\n",
       "    </tr>\n",
       "  </thead>\n",
       "  <tbody>\n",
       "    <tr>\n",
       "      <th>0</th>\n",
       "      <td>Tom</td>\n",
       "      <td>2021-03-05</td>\n",
       "    </tr>\n",
       "    <tr>\n",
       "      <th>1</th>\n",
       "      <td>nick</td>\n",
       "      <td>2021-03-16</td>\n",
       "    </tr>\n",
       "    <tr>\n",
       "      <th>2</th>\n",
       "      <td>krish</td>\n",
       "      <td>2021-03-28</td>\n",
       "    </tr>\n",
       "    <tr>\n",
       "      <th>3</th>\n",
       "      <td>jack</td>\n",
       "      <td>2021-03-28</td>\n",
       "    </tr>\n",
       "  </tbody>\n",
       "</table>\n",
       "</div>"
      ],
      "text/plain": [
       "    Name      Dates\n",
       "0    Tom 2021-03-05\n",
       "1   nick 2021-03-16\n",
       "2  krish 2021-03-28\n",
       "3   jack 2021-03-28"
      ]
     },
     "execution_count": 87,
     "metadata": {},
     "output_type": "execute_result"
    }
   ],
   "source": [
    "df1"
   ]
  },
  {
   "cell_type": "code",
   "execution_count": 88,
   "metadata": {},
   "outputs": [],
   "source": [
    "import pandas as pd\n",
    " \n",
    "# intialise data of lists.\n",
    "data = {'Name':['Lucas', 'nick', 'krish', 'jack', 'jack', 'jack', 'Erika', 'Joice'],\n",
    "        'Dates':['05032021','16032021','28032021','28032021', '05032021','16032021', '05032021', '16032021']}\n",
    " \n",
    "df2 = pd.DataFrame(data)\n",
    "\n",
    "df2['Dates'] = pd.to_datetime(df2['Dates'], format='%d%m%Y')"
   ]
  },
  {
   "cell_type": "code",
   "execution_count": 89,
   "metadata": {},
   "outputs": [
    {
     "data": {
      "text/html": [
       "<div>\n",
       "<style scoped>\n",
       "    .dataframe tbody tr th:only-of-type {\n",
       "        vertical-align: middle;\n",
       "    }\n",
       "\n",
       "    .dataframe tbody tr th {\n",
       "        vertical-align: top;\n",
       "    }\n",
       "\n",
       "    .dataframe thead th {\n",
       "        text-align: right;\n",
       "    }\n",
       "</style>\n",
       "<table border=\"1\" class=\"dataframe\">\n",
       "  <thead>\n",
       "    <tr style=\"text-align: right;\">\n",
       "      <th></th>\n",
       "      <th>Name</th>\n",
       "      <th>Dates</th>\n",
       "    </tr>\n",
       "  </thead>\n",
       "  <tbody>\n",
       "    <tr>\n",
       "      <th>0</th>\n",
       "      <td>Lucas</td>\n",
       "      <td>2021-03-05</td>\n",
       "    </tr>\n",
       "    <tr>\n",
       "      <th>1</th>\n",
       "      <td>nick</td>\n",
       "      <td>2021-03-16</td>\n",
       "    </tr>\n",
       "    <tr>\n",
       "      <th>2</th>\n",
       "      <td>krish</td>\n",
       "      <td>2021-03-28</td>\n",
       "    </tr>\n",
       "    <tr>\n",
       "      <th>3</th>\n",
       "      <td>jack</td>\n",
       "      <td>2021-03-28</td>\n",
       "    </tr>\n",
       "    <tr>\n",
       "      <th>4</th>\n",
       "      <td>jack</td>\n",
       "      <td>2021-03-05</td>\n",
       "    </tr>\n",
       "    <tr>\n",
       "      <th>5</th>\n",
       "      <td>jack</td>\n",
       "      <td>2021-03-16</td>\n",
       "    </tr>\n",
       "    <tr>\n",
       "      <th>6</th>\n",
       "      <td>Erika</td>\n",
       "      <td>2021-03-05</td>\n",
       "    </tr>\n",
       "    <tr>\n",
       "      <th>7</th>\n",
       "      <td>Joice</td>\n",
       "      <td>2021-03-16</td>\n",
       "    </tr>\n",
       "  </tbody>\n",
       "</table>\n",
       "</div>"
      ],
      "text/plain": [
       "    Name      Dates\n",
       "0  Lucas 2021-03-05\n",
       "1   nick 2021-03-16\n",
       "2  krish 2021-03-28\n",
       "3   jack 2021-03-28\n",
       "4   jack 2021-03-05\n",
       "5   jack 2021-03-16\n",
       "6  Erika 2021-03-05\n",
       "7  Joice 2021-03-16"
      ]
     },
     "execution_count": 89,
     "metadata": {},
     "output_type": "execute_result"
    }
   ],
   "source": [
    "df2"
   ]
  },
  {
   "cell_type": "code",
   "execution_count": 90,
   "metadata": {},
   "outputs": [],
   "source": [
    "tamanho = 5\n",
    "tamanho_dfs = len(list(set (list(df2['Name'].unique()) + list(df['Name'].unique()))))\n",
    "d1_tam = 0.4 * 5\n",
    "d2_tam = 0.6 * 5"
   ]
  },
  {
   "cell_type": "code",
   "execution_count": 91,
   "metadata": {},
   "outputs": [
    {
     "name": "stdout",
     "output_type": "stream",
     "text": [
      "   Name      Dates\n",
      "0   Tom 2021-03-05\n",
      "1  nick 2021-03-16\n"
     ]
    }
   ],
   "source": [
    "if len(list(df['Name'].unique())) < d1_tam:\n",
    "    df_final = df\n",
    "else:\n",
    "    interator = 1\n",
    "    it = 0\n",
    "    while it <  d1_tam  :\n",
    "        interator = interator +1 \n",
    "        df_iterator = df[:interator]\n",
    "        it = len(list(df_iterator['Name'].unique()))\n",
    "        print( df_iterator)"
   ]
  },
  {
   "cell_type": "code",
   "execution_count": 92,
   "metadata": {},
   "outputs": [],
   "source": [
    "df2 = df2[~df2['Name'].isin( df_iterator['Name'].unique())]"
   ]
  },
  {
   "cell_type": "code",
   "execution_count": 93,
   "metadata": {},
   "outputs": [
    {
     "data": {
      "text/plain": [
       "array(['Tom', 'nick'], dtype=object)"
      ]
     },
     "execution_count": 93,
     "metadata": {},
     "output_type": "execute_result"
    }
   ],
   "source": [
    "df_iterator['Name'].unique()"
   ]
  },
  {
   "cell_type": "code",
   "execution_count": 94,
   "metadata": {},
   "outputs": [
    {
     "data": {
      "text/html": [
       "<div>\n",
       "<style scoped>\n",
       "    .dataframe tbody tr th:only-of-type {\n",
       "        vertical-align: middle;\n",
       "    }\n",
       "\n",
       "    .dataframe tbody tr th {\n",
       "        vertical-align: top;\n",
       "    }\n",
       "\n",
       "    .dataframe thead th {\n",
       "        text-align: right;\n",
       "    }\n",
       "</style>\n",
       "<table border=\"1\" class=\"dataframe\">\n",
       "  <thead>\n",
       "    <tr style=\"text-align: right;\">\n",
       "      <th></th>\n",
       "      <th>Name</th>\n",
       "      <th>Dates</th>\n",
       "    </tr>\n",
       "  </thead>\n",
       "  <tbody>\n",
       "    <tr>\n",
       "      <th>0</th>\n",
       "      <td>Lucas</td>\n",
       "      <td>2021-03-05</td>\n",
       "    </tr>\n",
       "    <tr>\n",
       "      <th>2</th>\n",
       "      <td>krish</td>\n",
       "      <td>2021-03-28</td>\n",
       "    </tr>\n",
       "    <tr>\n",
       "      <th>3</th>\n",
       "      <td>jack</td>\n",
       "      <td>2021-03-28</td>\n",
       "    </tr>\n",
       "    <tr>\n",
       "      <th>4</th>\n",
       "      <td>jack</td>\n",
       "      <td>2021-03-05</td>\n",
       "    </tr>\n",
       "    <tr>\n",
       "      <th>5</th>\n",
       "      <td>jack</td>\n",
       "      <td>2021-03-16</td>\n",
       "    </tr>\n",
       "    <tr>\n",
       "      <th>6</th>\n",
       "      <td>Erika</td>\n",
       "      <td>2021-03-05</td>\n",
       "    </tr>\n",
       "    <tr>\n",
       "      <th>7</th>\n",
       "      <td>Joice</td>\n",
       "      <td>2021-03-16</td>\n",
       "    </tr>\n",
       "  </tbody>\n",
       "</table>\n",
       "</div>"
      ],
      "text/plain": [
       "    Name      Dates\n",
       "0  Lucas 2021-03-05\n",
       "2  krish 2021-03-28\n",
       "3   jack 2021-03-28\n",
       "4   jack 2021-03-05\n",
       "5   jack 2021-03-16\n",
       "6  Erika 2021-03-05\n",
       "7  Joice 2021-03-16"
      ]
     },
     "execution_count": 94,
     "metadata": {},
     "output_type": "execute_result"
    }
   ],
   "source": [
    "df2"
   ]
  },
  {
   "cell_type": "code",
   "execution_count": 95,
   "metadata": {},
   "outputs": [
    {
     "name": "stdout",
     "output_type": "stream",
     "text": [
      "    Name      Dates\n",
      "0  Lucas 2021-03-05\n",
      "2  krish 2021-03-28\n",
      "    Name      Dates\n",
      "0  Lucas 2021-03-05\n",
      "2  krish 2021-03-28\n",
      "3   jack 2021-03-28\n"
     ]
    }
   ],
   "source": [
    "if len(list(df2['Name'].unique())) < d2_tam:\n",
    "    df_final = df2\n",
    "else:\n",
    "    interator = 1\n",
    "    it = 0\n",
    "    while it <  d2_tam  :\n",
    "        interator = interator +1 \n",
    "        df_iterator = df2[:interator]\n",
    "        it = len(list(df_iterator['Name'].unique()))\n",
    "        print( df_iterator)"
   ]
  },
  {
   "cell_type": "code",
   "execution_count": 96,
   "metadata": {},
   "outputs": [
    {
     "data": {
      "text/html": [
       "<div>\n",
       "<style scoped>\n",
       "    .dataframe tbody tr th:only-of-type {\n",
       "        vertical-align: middle;\n",
       "    }\n",
       "\n",
       "    .dataframe tbody tr th {\n",
       "        vertical-align: top;\n",
       "    }\n",
       "\n",
       "    .dataframe thead th {\n",
       "        text-align: right;\n",
       "    }\n",
       "</style>\n",
       "<table border=\"1\" class=\"dataframe\">\n",
       "  <thead>\n",
       "    <tr style=\"text-align: right;\">\n",
       "      <th></th>\n",
       "      <th>Name</th>\n",
       "      <th>Dates</th>\n",
       "    </tr>\n",
       "  </thead>\n",
       "  <tbody>\n",
       "    <tr>\n",
       "      <th>0</th>\n",
       "      <td>Tom</td>\n",
       "      <td>2021-03-05</td>\n",
       "    </tr>\n",
       "    <tr>\n",
       "      <th>1</th>\n",
       "      <td>nick</td>\n",
       "      <td>2021-03-16</td>\n",
       "    </tr>\n",
       "    <tr>\n",
       "      <th>2</th>\n",
       "      <td>krish</td>\n",
       "      <td>2021-03-28</td>\n",
       "    </tr>\n",
       "    <tr>\n",
       "      <th>3</th>\n",
       "      <td>jack</td>\n",
       "      <td>2021-03-28</td>\n",
       "    </tr>\n",
       "  </tbody>\n",
       "</table>\n",
       "</div>"
      ],
      "text/plain": [
       "    Name      Dates\n",
       "0    Tom 2021-03-05\n",
       "1   nick 2021-03-16\n",
       "2  krish 2021-03-28\n",
       "3   jack 2021-03-28"
      ]
     },
     "execution_count": 96,
     "metadata": {},
     "output_type": "execute_result"
    }
   ],
   "source": [
    "df[:len(df['Name'])]"
   ]
  },
  {
   "cell_type": "code",
   "execution_count": 97,
   "metadata": {},
   "outputs": [
    {
     "data": {
      "text/plain": [
       "3.0"
      ]
     },
     "execution_count": 97,
     "metadata": {},
     "output_type": "execute_result"
    }
   ],
   "source": [
    "d2_tam "
   ]
  },
  {
   "cell_type": "code",
   "execution_count": 98,
   "metadata": {},
   "outputs": [],
   "source": [
    "import pandas as pd\n",
    " \n",
    "# intialise data of lists.\n",
    "data = {'Name':['Lucas', 'nick', 'krish', 'jack', 'jack', 'jack', 'Erika', 'Joice'],\n",
    "        'Dates':['05032021','16032021','28032021','28032021', '05032021','16032021', '05032021', '16032021'],\n",
    "        'Compra':[ 5, 10 , 21 , 6 , 7 , 1 , 11 , 10]       \n",
    "        }\n",
    " \n",
    "df3 = pd.DataFrame(data)\n",
    "\n",
    "df3['Dates'] = pd.to_datetime(df3['Dates'], format='%d%m%Y')"
   ]
  },
  {
   "cell_type": "code",
   "execution_count": 99,
   "metadata": {},
   "outputs": [],
   "source": [
    "df3 = df3[~df3['Name'].isin( df_iterator['Name'].unique())]"
   ]
  },
  {
   "cell_type": "code",
   "execution_count": 100,
   "metadata": {},
   "outputs": [],
   "source": [
    "df3 = df3.sort_values('Compra')"
   ]
  },
  {
   "cell_type": "code",
   "execution_count": 101,
   "metadata": {},
   "outputs": [
    {
     "data": {
      "text/html": [
       "<div>\n",
       "<style scoped>\n",
       "    .dataframe tbody tr th:only-of-type {\n",
       "        vertical-align: middle;\n",
       "    }\n",
       "\n",
       "    .dataframe tbody tr th {\n",
       "        vertical-align: top;\n",
       "    }\n",
       "\n",
       "    .dataframe thead th {\n",
       "        text-align: right;\n",
       "    }\n",
       "</style>\n",
       "<table border=\"1\" class=\"dataframe\">\n",
       "  <thead>\n",
       "    <tr style=\"text-align: right;\">\n",
       "      <th></th>\n",
       "      <th>Name</th>\n",
       "      <th>Dates</th>\n",
       "      <th>Compra</th>\n",
       "    </tr>\n",
       "  </thead>\n",
       "  <tbody>\n",
       "    <tr>\n",
       "      <th>1</th>\n",
       "      <td>nick</td>\n",
       "      <td>2021-03-16</td>\n",
       "      <td>10</td>\n",
       "    </tr>\n",
       "    <tr>\n",
       "      <th>7</th>\n",
       "      <td>Joice</td>\n",
       "      <td>2021-03-16</td>\n",
       "      <td>10</td>\n",
       "    </tr>\n",
       "    <tr>\n",
       "      <th>6</th>\n",
       "      <td>Erika</td>\n",
       "      <td>2021-03-05</td>\n",
       "      <td>11</td>\n",
       "    </tr>\n",
       "  </tbody>\n",
       "</table>\n",
       "</div>"
      ],
      "text/plain": [
       "    Name      Dates  Compra\n",
       "1   nick 2021-03-16      10\n",
       "7  Joice 2021-03-16      10\n",
       "6  Erika 2021-03-05      11"
      ]
     },
     "execution_count": 101,
     "metadata": {},
     "output_type": "execute_result"
    }
   ],
   "source": [
    "df3"
   ]
  },
  {
   "cell_type": "code",
   "execution_count": 102,
   "metadata": {},
   "outputs": [],
   "source": [
    "d3_tam = 4"
   ]
  },
  {
   "cell_type": "code",
   "execution_count": 103,
   "metadata": {},
   "outputs": [],
   "source": [
    "if len(list(df3['Name'].unique())) < d3_tam:\n",
    "    df_final = df3\n",
    "else:\n",
    "    interator = 1\n",
    "    it = 0\n",
    "    while it <  d3_tam  :\n",
    "        interator = interator +1 \n",
    "        df_iterator = df3[:interator]\n",
    "        it = len(list(df_iterator['Name'].unique()))\n",
    "        print( df_iterator)"
   ]
  },
  {
   "cell_type": "code",
   "execution_count": 105,
   "metadata": {},
   "outputs": [
    {
     "data": {
      "text/html": [
       "<div>\n",
       "<style scoped>\n",
       "    .dataframe tbody tr th:only-of-type {\n",
       "        vertical-align: middle;\n",
       "    }\n",
       "\n",
       "    .dataframe tbody tr th {\n",
       "        vertical-align: top;\n",
       "    }\n",
       "\n",
       "    .dataframe thead th {\n",
       "        text-align: right;\n",
       "    }\n",
       "</style>\n",
       "<table border=\"1\" class=\"dataframe\">\n",
       "  <thead>\n",
       "    <tr style=\"text-align: right;\">\n",
       "      <th></th>\n",
       "      <th>Name</th>\n",
       "      <th>Dates</th>\n",
       "      <th>Compra</th>\n",
       "    </tr>\n",
       "  </thead>\n",
       "  <tbody>\n",
       "    <tr>\n",
       "      <th>1</th>\n",
       "      <td>nick</td>\n",
       "      <td>2021-03-16</td>\n",
       "      <td>10</td>\n",
       "    </tr>\n",
       "    <tr>\n",
       "      <th>7</th>\n",
       "      <td>Joice</td>\n",
       "      <td>2021-03-16</td>\n",
       "      <td>10</td>\n",
       "    </tr>\n",
       "    <tr>\n",
       "      <th>6</th>\n",
       "      <td>Erika</td>\n",
       "      <td>2021-03-05</td>\n",
       "      <td>11</td>\n",
       "    </tr>\n",
       "  </tbody>\n",
       "</table>\n",
       "</div>"
      ],
      "text/plain": [
       "    Name      Dates  Compra\n",
       "1   nick 2021-03-16      10\n",
       "7  Joice 2021-03-16      10\n",
       "6  Erika 2021-03-05      11"
      ]
     },
     "execution_count": 105,
     "metadata": {},
     "output_type": "execute_result"
    }
   ],
   "source": [
    "df_final"
   ]
  },
  {
   "cell_type": "code",
   "execution_count": 106,
   "metadata": {},
   "outputs": [
    {
     "name": "stdout",
     "output_type": "stream",
     "text": [
      "    Name      Dates  Compra\n",
      "5   jack 2021-03-16       1\n",
      "0  Lucas 2021-03-05       5\n",
      "    Name      Dates  Compra\n",
      "5   jack 2021-03-16       1\n",
      "0  Lucas 2021-03-05       5\n",
      "3   jack 2021-03-28       6\n",
      "    Name      Dates  Compra\n",
      "5   jack 2021-03-16       1\n",
      "0  Lucas 2021-03-05       5\n",
      "3   jack 2021-03-28       6\n",
      "4   jack 2021-03-05       7\n",
      "    Name      Dates  Compra\n",
      "5   jack 2021-03-16       1\n",
      "0  Lucas 2021-03-05       5\n",
      "3   jack 2021-03-28       6\n",
      "4   jack 2021-03-05       7\n",
      "1   nick 2021-03-16      10\n",
      "    Name      Dates  Compra\n",
      "5   jack 2021-03-16       1\n",
      "0  Lucas 2021-03-05       5\n",
      "3   jack 2021-03-28       6\n",
      "4   jack 2021-03-05       7\n",
      "1   nick 2021-03-16      10\n",
      "7  Joice 2021-03-16      10\n"
     ]
    }
   ],
   "source": [
    "import pandas as pd\n",
    " \n",
    "# intialise data of lists.\n",
    "data = {'Name':['Lucas', 'nick', 'krish', 'jack', 'jack', 'jack', 'Erika', 'Joice'],\n",
    "        'Dates':['05032021','16032021','28032021','28032021', '05032021','16032021', '05032021', '16032021'],\n",
    "        'Compra':[ 5, 10 , 21 , 6 , 7 , 1 , 11 , 10]       \n",
    "        }\n",
    " \n",
    "df3 = pd.DataFrame(data)\n",
    "\n",
    "df3['Dates'] = pd.to_datetime(df3['Dates'], format='%d%m%Y')\n",
    "\n",
    "df3 = df3.sort_values('Compra')\n",
    "\n",
    "if len(list(df3['Name'].unique())) < d3_tam:\n",
    "    df_final = df3\n",
    "else:\n",
    "    interator = 1\n",
    "    it = 0\n",
    "    while it <  d3_tam  :\n",
    "        interator = interator +1 \n",
    "        df_iterator = df3[:interator]\n",
    "        it = len(list(df_iterator['Name'].unique()))\n",
    "        print( df_iterator)\n",
    "        "
   ]
  },
  {
   "cell_type": "code",
   "execution_count": null,
   "metadata": {},
   "outputs": [],
   "source": [
    "dfs =[]"
   ]
  },
  {
   "cell_type": "code",
   "execution_count": null,
   "metadata": {},
   "outputs": [],
   "source": []
  },
  {
   "cell_type": "code",
   "execution_count": null,
   "metadata": {},
   "outputs": [],
   "source": []
  }
 ],
 "metadata": {
  "kernelspec": {
   "display_name": "Python 3",
   "language": "python",
   "name": "python3"
  },
  "language_info": {
   "codemirror_mode": {
    "name": "ipython",
    "version": 3
   },
   "file_extension": ".py",
   "mimetype": "text/x-python",
   "name": "python",
   "nbconvert_exporter": "python",
   "pygments_lexer": "ipython3",
   "version": "3.10.7"
  }
 },
 "nbformat": 4,
 "nbformat_minor": 2
}
