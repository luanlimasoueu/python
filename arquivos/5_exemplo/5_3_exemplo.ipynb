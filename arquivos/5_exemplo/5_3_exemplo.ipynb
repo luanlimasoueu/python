{
 "cells": [
  {
   "cell_type": "code",
   "execution_count": 89,
   "metadata": {},
   "outputs": [],
   "source": [
    "import pandas as pd\n",
    " \n",
    "data = {'Name':['Tom191', 'nick256', 'krish356', 'jack456'],\n",
    "        'Dates':['05032021','16032021','28032021','28032021']}\n",
    " \n",
    "df1 = pd.DataFrame(data)\n",
    "\n",
    "df1['Dates'] = pd.to_datetime(df1['Dates'], format='%d%m%Y')"
   ]
  },
  {
   "cell_type": "code",
   "execution_count": 90,
   "metadata": {},
   "outputs": [],
   "source": [
    "data = {'Name':['Lucas1yu', 'nick2yu', 'krish3yu', 'jack4yu', 'jack5yu', 'jack6yu', 'Erika7yu', 'Joice8yu'],\n",
    "        'Dates':['05032021','16032021','28032021','28032021', '05032021','16032021', '05032021', '16032021']}\n",
    " \n",
    "df2 = pd.DataFrame(data)\n",
    "\n",
    "df2['Dates'] = pd.to_datetime(df2['Dates'], format='%d%m%Y')"
   ]
  },
  {
   "cell_type": "code",
   "execution_count": 91,
   "metadata": {},
   "outputs": [],
   "source": [
    "data = {'Name':['Zack', 'Luiza'],\n",
    "        'Dates':['05032021','16032021'], \n",
    "        }\n",
    " \n",
    "df3 = pd.DataFrame(data)\n",
    "\n",
    "df3['Dates'] = pd.to_datetime(df3['Dates'], format='%d%m%Y')\n",
    "\n",
    "\n",
    "data = {'Name':['Zack1', 'Luiza1', 'Zack2', 'Luiza2', 'Zack3', 'Luiza3', 'Zack1', 'Zack13', 'Zack14'],\n",
    "        'Dates':['05032021','16032021', '05032021','16032021', '05032021','16032021','16032021','16032021','16032021'], \n",
    "        'Compra':[ 5, 10 , 21 , 6 , 7 , 1 , 11 , 1 , 11]\n",
    "        }\n",
    " \n",
    "df4 = pd.DataFrame(data)\n",
    "\n",
    "df4['Dates'] = pd.to_datetime(df4['Dates'], format='%d%m%Y')\n",
    "\n",
    "\n",
    "data = {'Name':['Zack16', 'Luiza16', 'Zack26', 'Luiza7', 'Zack9'],\n",
    "        'Dates':['05032021','16032021', '05032021','16032021', '05032021'], \n",
    "        'Compra':[ 5, 10 , 21 , 6 , 7 ]\n",
    "        }\n",
    " \n",
    "df5 = pd.DataFrame(data)\n",
    "\n",
    "df5['Dates'] = pd.to_datetime(df4['Dates'], format='%d%m%Y')\n",
    "\n"
   ]
  },
  {
   "cell_type": "code",
   "execution_count": 92,
   "metadata": {},
   "outputs": [],
   "source": [
    "data_sets = [df1, df2, df3, df4]"
   ]
  },
  {
   "cell_type": "code",
   "execution_count": 93,
   "metadata": {},
   "outputs": [],
   "source": [
    "df = pd.DataFrame()\n",
    "\n",
    "df_0 = data_sets[0] \n",
    "len_df_0 = len(list(df_0['Name'].unique()))\n",
    "mult0 = len_df_0  \n",
    "df_total = pd.concat([df, df_0])"
   ]
  },
  {
   "cell_type": "code",
   "execution_count": 94,
   "metadata": {},
   "outputs": [
    {
     "data": {
      "text/html": [
       "<div>\n",
       "<style scoped>\n",
       "    .dataframe tbody tr th:only-of-type {\n",
       "        vertical-align: middle;\n",
       "    }\n",
       "\n",
       "    .dataframe tbody tr th {\n",
       "        vertical-align: top;\n",
       "    }\n",
       "\n",
       "    .dataframe thead th {\n",
       "        text-align: right;\n",
       "    }\n",
       "</style>\n",
       "<table border=\"1\" class=\"dataframe\">\n",
       "  <thead>\n",
       "    <tr style=\"text-align: right;\">\n",
       "      <th></th>\n",
       "      <th>Name</th>\n",
       "      <th>Dates</th>\n",
       "    </tr>\n",
       "  </thead>\n",
       "  <tbody>\n",
       "    <tr>\n",
       "      <th>0</th>\n",
       "      <td>Tom191</td>\n",
       "      <td>2021-03-05</td>\n",
       "    </tr>\n",
       "    <tr>\n",
       "      <th>1</th>\n",
       "      <td>nick256</td>\n",
       "      <td>2021-03-16</td>\n",
       "    </tr>\n",
       "    <tr>\n",
       "      <th>2</th>\n",
       "      <td>krish356</td>\n",
       "      <td>2021-03-28</td>\n",
       "    </tr>\n",
       "    <tr>\n",
       "      <th>3</th>\n",
       "      <td>jack456</td>\n",
       "      <td>2021-03-28</td>\n",
       "    </tr>\n",
       "  </tbody>\n",
       "</table>\n",
       "</div>"
      ],
      "text/plain": [
       "       Name      Dates\n",
       "0    Tom191 2021-03-05\n",
       "1   nick256 2021-03-16\n",
       "2  krish356 2021-03-28\n",
       "3   jack456 2021-03-28"
      ]
     },
     "execution_count": 94,
     "metadata": {},
     "output_type": "execute_result"
    }
   ],
   "source": [
    "df_total"
   ]
  },
  {
   "cell_type": "code",
   "execution_count": 95,
   "metadata": {},
   "outputs": [],
   "source": [
    "df_1 = data_sets[1] \n",
    "df_1 = df_1[~df_1['Name'].isin(df_0['Name'].unique())]\n",
    "len_df_1 = len(list(df_1['Name'].unique()))\n",
    "mult1 = len_df_1  \n",
    "df_total = pd.concat([df_total, df_1], ignore_index=True)"
   ]
  },
  {
   "cell_type": "code",
   "execution_count": 96,
   "metadata": {},
   "outputs": [
    {
     "data": {
      "text/html": [
       "<div>\n",
       "<style scoped>\n",
       "    .dataframe tbody tr th:only-of-type {\n",
       "        vertical-align: middle;\n",
       "    }\n",
       "\n",
       "    .dataframe tbody tr th {\n",
       "        vertical-align: top;\n",
       "    }\n",
       "\n",
       "    .dataframe thead th {\n",
       "        text-align: right;\n",
       "    }\n",
       "</style>\n",
       "<table border=\"1\" class=\"dataframe\">\n",
       "  <thead>\n",
       "    <tr style=\"text-align: right;\">\n",
       "      <th></th>\n",
       "      <th>Name</th>\n",
       "      <th>Dates</th>\n",
       "    </tr>\n",
       "  </thead>\n",
       "  <tbody>\n",
       "    <tr>\n",
       "      <th>0</th>\n",
       "      <td>Tom191</td>\n",
       "      <td>2021-03-05</td>\n",
       "    </tr>\n",
       "    <tr>\n",
       "      <th>1</th>\n",
       "      <td>nick256</td>\n",
       "      <td>2021-03-16</td>\n",
       "    </tr>\n",
       "    <tr>\n",
       "      <th>2</th>\n",
       "      <td>krish356</td>\n",
       "      <td>2021-03-28</td>\n",
       "    </tr>\n",
       "    <tr>\n",
       "      <th>3</th>\n",
       "      <td>jack456</td>\n",
       "      <td>2021-03-28</td>\n",
       "    </tr>\n",
       "    <tr>\n",
       "      <th>4</th>\n",
       "      <td>Lucas1yu</td>\n",
       "      <td>2021-03-05</td>\n",
       "    </tr>\n",
       "    <tr>\n",
       "      <th>5</th>\n",
       "      <td>nick2yu</td>\n",
       "      <td>2021-03-16</td>\n",
       "    </tr>\n",
       "    <tr>\n",
       "      <th>6</th>\n",
       "      <td>krish3yu</td>\n",
       "      <td>2021-03-28</td>\n",
       "    </tr>\n",
       "    <tr>\n",
       "      <th>7</th>\n",
       "      <td>jack4yu</td>\n",
       "      <td>2021-03-28</td>\n",
       "    </tr>\n",
       "    <tr>\n",
       "      <th>8</th>\n",
       "      <td>jack5yu</td>\n",
       "      <td>2021-03-05</td>\n",
       "    </tr>\n",
       "    <tr>\n",
       "      <th>9</th>\n",
       "      <td>jack6yu</td>\n",
       "      <td>2021-03-16</td>\n",
       "    </tr>\n",
       "    <tr>\n",
       "      <th>10</th>\n",
       "      <td>Erika7yu</td>\n",
       "      <td>2021-03-05</td>\n",
       "    </tr>\n",
       "    <tr>\n",
       "      <th>11</th>\n",
       "      <td>Joice8yu</td>\n",
       "      <td>2021-03-16</td>\n",
       "    </tr>\n",
       "  </tbody>\n",
       "</table>\n",
       "</div>"
      ],
      "text/plain": [
       "        Name      Dates\n",
       "0     Tom191 2021-03-05\n",
       "1    nick256 2021-03-16\n",
       "2   krish356 2021-03-28\n",
       "3    jack456 2021-03-28\n",
       "4   Lucas1yu 2021-03-05\n",
       "5    nick2yu 2021-03-16\n",
       "6   krish3yu 2021-03-28\n",
       "7    jack4yu 2021-03-28\n",
       "8    jack5yu 2021-03-05\n",
       "9    jack6yu 2021-03-16\n",
       "10  Erika7yu 2021-03-05\n",
       "11  Joice8yu 2021-03-16"
      ]
     },
     "execution_count": 96,
     "metadata": {},
     "output_type": "execute_result"
    }
   ],
   "source": [
    "df_total"
   ]
  },
  {
   "cell_type": "code",
   "execution_count": 97,
   "metadata": {},
   "outputs": [],
   "source": [
    "df_2 = data_sets[2] \n",
    "df_2 = df_2[~df_2['Name'].isin(df_total['Name'].unique())]\n",
    "len_df_2 = len(list(df_2['Name'].unique()))\n",
    "df_total = pd.concat([df_total, df_2], ignore_index=True)"
   ]
  },
  {
   "cell_type": "code",
   "execution_count": 98,
   "metadata": {},
   "outputs": [
    {
     "data": {
      "text/html": [
       "<div>\n",
       "<style scoped>\n",
       "    .dataframe tbody tr th:only-of-type {\n",
       "        vertical-align: middle;\n",
       "    }\n",
       "\n",
       "    .dataframe tbody tr th {\n",
       "        vertical-align: top;\n",
       "    }\n",
       "\n",
       "    .dataframe thead th {\n",
       "        text-align: right;\n",
       "    }\n",
       "</style>\n",
       "<table border=\"1\" class=\"dataframe\">\n",
       "  <thead>\n",
       "    <tr style=\"text-align: right;\">\n",
       "      <th></th>\n",
       "      <th>Name</th>\n",
       "      <th>Dates</th>\n",
       "    </tr>\n",
       "  </thead>\n",
       "  <tbody>\n",
       "    <tr>\n",
       "      <th>0</th>\n",
       "      <td>Tom191</td>\n",
       "      <td>2021-03-05</td>\n",
       "    </tr>\n",
       "    <tr>\n",
       "      <th>1</th>\n",
       "      <td>nick256</td>\n",
       "      <td>2021-03-16</td>\n",
       "    </tr>\n",
       "    <tr>\n",
       "      <th>2</th>\n",
       "      <td>krish356</td>\n",
       "      <td>2021-03-28</td>\n",
       "    </tr>\n",
       "    <tr>\n",
       "      <th>3</th>\n",
       "      <td>jack456</td>\n",
       "      <td>2021-03-28</td>\n",
       "    </tr>\n",
       "    <tr>\n",
       "      <th>4</th>\n",
       "      <td>Lucas1yu</td>\n",
       "      <td>2021-03-05</td>\n",
       "    </tr>\n",
       "    <tr>\n",
       "      <th>5</th>\n",
       "      <td>nick2yu</td>\n",
       "      <td>2021-03-16</td>\n",
       "    </tr>\n",
       "    <tr>\n",
       "      <th>6</th>\n",
       "      <td>krish3yu</td>\n",
       "      <td>2021-03-28</td>\n",
       "    </tr>\n",
       "    <tr>\n",
       "      <th>7</th>\n",
       "      <td>jack4yu</td>\n",
       "      <td>2021-03-28</td>\n",
       "    </tr>\n",
       "    <tr>\n",
       "      <th>8</th>\n",
       "      <td>jack5yu</td>\n",
       "      <td>2021-03-05</td>\n",
       "    </tr>\n",
       "    <tr>\n",
       "      <th>9</th>\n",
       "      <td>jack6yu</td>\n",
       "      <td>2021-03-16</td>\n",
       "    </tr>\n",
       "    <tr>\n",
       "      <th>10</th>\n",
       "      <td>Erika7yu</td>\n",
       "      <td>2021-03-05</td>\n",
       "    </tr>\n",
       "    <tr>\n",
       "      <th>11</th>\n",
       "      <td>Joice8yu</td>\n",
       "      <td>2021-03-16</td>\n",
       "    </tr>\n",
       "    <tr>\n",
       "      <th>12</th>\n",
       "      <td>Zack</td>\n",
       "      <td>2021-03-05</td>\n",
       "    </tr>\n",
       "    <tr>\n",
       "      <th>13</th>\n",
       "      <td>Luiza</td>\n",
       "      <td>2021-03-16</td>\n",
       "    </tr>\n",
       "  </tbody>\n",
       "</table>\n",
       "</div>"
      ],
      "text/plain": [
       "        Name      Dates\n",
       "0     Tom191 2021-03-05\n",
       "1    nick256 2021-03-16\n",
       "2   krish356 2021-03-28\n",
       "3    jack456 2021-03-28\n",
       "4   Lucas1yu 2021-03-05\n",
       "5    nick2yu 2021-03-16\n",
       "6   krish3yu 2021-03-28\n",
       "7    jack4yu 2021-03-28\n",
       "8    jack5yu 2021-03-05\n",
       "9    jack6yu 2021-03-16\n",
       "10  Erika7yu 2021-03-05\n",
       "11  Joice8yu 2021-03-16\n",
       "12      Zack 2021-03-05\n",
       "13     Luiza 2021-03-16"
      ]
     },
     "execution_count": 98,
     "metadata": {},
     "output_type": "execute_result"
    }
   ],
   "source": [
    "df_total"
   ]
  },
  {
   "cell_type": "code",
   "execution_count": 99,
   "metadata": {},
   "outputs": [],
   "source": [
    "mult_total = len_df_0 + len_df_1"
   ]
  },
  {
   "cell_type": "code",
   "execution_count": 100,
   "metadata": {},
   "outputs": [
    {
     "name": "stdout",
     "output_type": "stream",
     "text": [
      "Número de nomes adicionados  12\n",
      "Novo dataframe devera ter  26  nomes\n"
     ]
    }
   ],
   "source": [
    "print('Número de nomes adicionados ' , mult_total)\n",
    "print( 'Novo dataframe devera ter ', len(df_total) + mult_total , ' nomes' )"
   ]
  },
  {
   "cell_type": "code",
   "execution_count": 101,
   "metadata": {},
   "outputs": [],
   "source": [
    "df_4 = df4[~df4['Name'].isin(df_total['Name'].unique())]\n",
    "df_4 = df_4.sort_values('Compra',ascending=False)\n",
    "df_4 = df_4.reset_index(drop=True)"
   ]
  },
  {
   "cell_type": "code",
   "execution_count": 102,
   "metadata": {},
   "outputs": [
    {
     "name": "stdout",
     "output_type": "stream",
     "text": [
      "        Name      Dates\n",
      "0     Tom191 2021-03-05\n",
      "1    nick256 2021-03-16\n",
      "2   krish356 2021-03-28\n",
      "3    jack456 2021-03-28\n",
      "4   Lucas1yu 2021-03-05\n",
      "5    nick2yu 2021-03-16\n",
      "6   krish3yu 2021-03-28\n",
      "7    jack4yu 2021-03-28\n",
      "8    jack5yu 2021-03-05\n",
      "9    jack6yu 2021-03-16\n",
      "10  Erika7yu 2021-03-05\n",
      "11  Joice8yu 2021-03-16\n",
      "12      Zack 2021-03-05\n",
      "13     Luiza 2021-03-16\n"
     ]
    }
   ],
   "source": [
    "print(df_total)"
   ]
  },
  {
   "cell_type": "code",
   "execution_count": 103,
   "metadata": {},
   "outputs": [
    {
     "name": "stdout",
     "output_type": "stream",
     "text": [
      "Número de nomes  restantes  4\n",
      "        Name      Dates  Compra\n",
      "0     Tom191 2021-03-05     NaN\n",
      "1    nick256 2021-03-16     NaN\n",
      "2   krish356 2021-03-28     NaN\n",
      "3    jack456 2021-03-28     NaN\n",
      "4   Lucas1yu 2021-03-05     NaN\n",
      "5    nick2yu 2021-03-16     NaN\n",
      "6   krish3yu 2021-03-28     NaN\n",
      "7    jack4yu 2021-03-28     NaN\n",
      "8    jack5yu 2021-03-05     NaN\n",
      "9    jack6yu 2021-03-16     NaN\n",
      "10  Erika7yu 2021-03-05     NaN\n",
      "11  Joice8yu 2021-03-16     NaN\n",
      "12      Zack 2021-03-05     NaN\n",
      "13     Luiza 2021-03-16     NaN\n",
      "14     Zack2 2021-03-05    21.0\n",
      "15     Zack1 2021-03-16    11.0\n",
      "16    Zack14 2021-03-16    11.0\n",
      "17    Luiza1 2021-03-16    10.0\n",
      "18     Zack3 2021-03-05     7.0\n",
      "19    Luiza2 2021-03-16     6.0\n",
      "20     Zack1 2021-03-05     5.0\n",
      "21    Luiza3 2021-03-16     1.0\n",
      "22    Zack13 2021-03-16     1.0\n"
     ]
    }
   ],
   "source": [
    "if len(list(df_4['Name'].unique())) <= mult_total:\n",
    "    df_total = pd.concat([df_total, df_4], ignore_index=True)\n",
    "    #print(\"Executado\")\n",
    "    mult_total =  mult_total - len(list(df_4['Name'].unique()))\n",
    "    print('Número de nomes  restantes ' , mult_total)\n",
    "    print(df_total)\n",
    "\n",
    "else:\n",
    "    df_total = pd.concat([df_total, df_4[:mult_total]], ignore_index=True)\n",
    "    print(\"Dataframe completo com \", len(df_total))"
   ]
  },
  {
   "cell_type": "code",
   "execution_count": 104,
   "metadata": {},
   "outputs": [],
   "source": [
    "df_5 = df5[~df5['Name'].isin(df_total['Name'].unique())]\n",
    "df_5 = df_5.sort_values('Compra',ascending=False)\n",
    "df_5 = df_5.reset_index(drop=True)"
   ]
  },
  {
   "cell_type": "code",
   "execution_count": 105,
   "metadata": {},
   "outputs": [
    {
     "name": "stdout",
     "output_type": "stream",
     "text": [
      "Dataframe completo com  26\n",
      "        Name      Dates  Compra\n",
      "0     Tom191 2021-03-05     NaN\n",
      "1    nick256 2021-03-16     NaN\n",
      "2   krish356 2021-03-28     NaN\n",
      "3    jack456 2021-03-28     NaN\n",
      "4   Lucas1yu 2021-03-05     NaN\n",
      "5    nick2yu 2021-03-16     NaN\n",
      "6   krish3yu 2021-03-28     NaN\n",
      "7    jack4yu 2021-03-28     NaN\n",
      "8    jack5yu 2021-03-05     NaN\n",
      "9    jack6yu 2021-03-16     NaN\n",
      "10  Erika7yu 2021-03-05     NaN\n",
      "11  Joice8yu 2021-03-16     NaN\n",
      "12      Zack 2021-03-05     NaN\n",
      "13     Luiza 2021-03-16     NaN\n",
      "14     Zack2 2021-03-05    21.0\n",
      "15     Zack1 2021-03-16    11.0\n",
      "16    Zack14 2021-03-16    11.0\n",
      "17    Luiza1 2021-03-16    10.0\n",
      "18     Zack3 2021-03-05     7.0\n",
      "19    Luiza2 2021-03-16     6.0\n",
      "20     Zack1 2021-03-05     5.0\n",
      "21    Luiza3 2021-03-16     1.0\n",
      "22    Zack13 2021-03-16     1.0\n",
      "23    Zack26 2021-03-05    21.0\n",
      "24   Luiza16 2021-03-16    10.0\n",
      "25     Zack9 2021-03-05     7.0\n",
      "26    Luiza7 2021-03-16     6.0\n"
     ]
    }
   ],
   "source": [
    "if len(list(df_5['Name'].unique())) <= mult_total:\n",
    "    df_total = pd.concat([df_total, df_5], ignore_index=True)\n",
    "    print(\"Executado\")\n",
    "    mult_total =  mult_total - len(list(df_5['Name'].unique()))\n",
    "    print('Número de nomes  restantes ' , mult_total)\n",
    "else:\n",
    "    #print(\"Não executado\")\n",
    "    df_total = pd.concat([df_total, df_5[:mult_total]], ignore_index=True)\n",
    "    print(\"Dataframe completo com \", len(df_total['Name'].unique()))\n",
    "    print(df_total)"
   ]
  }
 ],
 "metadata": {
  "kernelspec": {
   "display_name": "Python 3",
   "language": "python",
   "name": "python3"
  },
  "language_info": {
   "codemirror_mode": {
    "name": "ipython",
    "version": 3
   },
   "file_extension": ".py",
   "mimetype": "text/x-python",
   "name": "python",
   "nbconvert_exporter": "python",
   "pygments_lexer": "ipython3",
   "version": "3.10.7"
  }
 },
 "nbformat": 4,
 "nbformat_minor": 2
}
