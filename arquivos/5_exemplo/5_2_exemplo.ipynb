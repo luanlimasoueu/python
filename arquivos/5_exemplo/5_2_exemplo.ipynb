{
 "cells": [
  {
   "cell_type": "code",
   "execution_count": 40,
   "metadata": {},
   "outputs": [],
   "source": [
    "import pandas as pd\n",
    " \n",
    "data = {'Name':['Tom', 'nick', 'krish', 'jack'],\n",
    "        'Dates':['05032021','16032021','28032021','28032021']}\n",
    " \n",
    "df1 = pd.DataFrame(data)\n",
    "\n",
    "df1['Dates'] = pd.to_datetime(df1['Dates'], format='%d%m%Y')"
   ]
  },
  {
   "cell_type": "code",
   "execution_count": 41,
   "metadata": {},
   "outputs": [],
   "source": [
    "data = {'Name':['Lucas', 'nick', 'krish', 'jack', 'jack', 'jack', 'Erika', 'Joice'],\n",
    "        'Dates':['05032021','16032021','28032021','28032021', '05032021','16032021', '05032021', '16032021']}\n",
    " \n",
    "df2 = pd.DataFrame(data)\n",
    "\n",
    "df2['Dates'] = pd.to_datetime(df2['Dates'], format='%d%m%Y')"
   ]
  },
  {
   "cell_type": "code",
   "execution_count": 42,
   "metadata": {},
   "outputs": [],
   "source": [
    "data = {'Name':['Zack', 'Luiza'],\n",
    "        'Dates':['05032021','16032021'], \n",
    "        }\n",
    " \n",
    "df3 = pd.DataFrame(data)\n",
    "\n",
    "df3['Dates'] = pd.to_datetime(df3['Dates'], format='%d%m%Y')"
   ]
  },
  {
   "cell_type": "code",
   "execution_count": 43,
   "metadata": {},
   "outputs": [],
   "source": [
    "data_sets = [df1, df2, df3]"
   ]
  },
  {
   "cell_type": "code",
   "execution_count": 51,
   "metadata": {},
   "outputs": [],
   "source": [
    "df = pd.DataFrame()\n",
    "\n",
    "df_0 = data_sets[0] \n",
    "len_df_0 = len(list(df_0['Name'].unique()))\n",
    "mult0 = len_df_0 * 1 \n",
    "df_total = pd.concat([df, df_0])\n",
    "\n",
    "\n",
    "df_1 = data_sets[1] \n",
    "df_1 = df_1[~df_1['Name'].isin(df_0['Name'].unique())]\n",
    "len_df_1 = len(list(df_1['Name'].unique()))\n",
    "mult1 = len_df_1 * 1 \n",
    "df_total = pd.concat([df_total, df_1])\n",
    "\n",
    "\n",
    "df_2 = data_sets[2] \n",
    "df_2 = df_2[~df_2['Name'].isin(df_total['Name'].unique())]\n",
    "len_df_2 = len(list(df_2['Name'].unique()))\n",
    "df_total = pd.concat([df_total, df_2])\n",
    "\n"
   ]
  },
  {
   "cell_type": "code",
   "execution_count": 52,
   "metadata": {},
   "outputs": [
    {
     "data": {
      "text/plain": [
       "3"
      ]
     },
     "execution_count": 52,
     "metadata": {},
     "output_type": "execute_result"
    }
   ],
   "source": [
    "mult1"
   ]
  },
  {
   "cell_type": "code",
   "execution_count": 46,
   "metadata": {},
   "outputs": [
    {
     "data": {
      "text/html": [
       "<div>\n",
       "<style scoped>\n",
       "    .dataframe tbody tr th:only-of-type {\n",
       "        vertical-align: middle;\n",
       "    }\n",
       "\n",
       "    .dataframe tbody tr th {\n",
       "        vertical-align: top;\n",
       "    }\n",
       "\n",
       "    .dataframe thead th {\n",
       "        text-align: right;\n",
       "    }\n",
       "</style>\n",
       "<table border=\"1\" class=\"dataframe\">\n",
       "  <thead>\n",
       "    <tr style=\"text-align: right;\">\n",
       "      <th></th>\n",
       "      <th>Name</th>\n",
       "      <th>Dates</th>\n",
       "    </tr>\n",
       "  </thead>\n",
       "  <tbody>\n",
       "    <tr>\n",
       "      <th>0</th>\n",
       "      <td>Zack</td>\n",
       "      <td>2021-03-05</td>\n",
       "    </tr>\n",
       "    <tr>\n",
       "      <th>1</th>\n",
       "      <td>Luiza</td>\n",
       "      <td>2021-03-16</td>\n",
       "    </tr>\n",
       "  </tbody>\n",
       "</table>\n",
       "</div>"
      ],
      "text/plain": [
       "    Name      Dates\n",
       "0   Zack 2021-03-05\n",
       "1  Luiza 2021-03-16"
      ]
     },
     "execution_count": 46,
     "metadata": {},
     "output_type": "execute_result"
    }
   ],
   "source": [
    "df_2"
   ]
  },
  {
   "cell_type": "code",
   "execution_count": 47,
   "metadata": {},
   "outputs": [
    {
     "data": {
      "text/html": [
       "<div>\n",
       "<style scoped>\n",
       "    .dataframe tbody tr th:only-of-type {\n",
       "        vertical-align: middle;\n",
       "    }\n",
       "\n",
       "    .dataframe tbody tr th {\n",
       "        vertical-align: top;\n",
       "    }\n",
       "\n",
       "    .dataframe thead th {\n",
       "        text-align: right;\n",
       "    }\n",
       "</style>\n",
       "<table border=\"1\" class=\"dataframe\">\n",
       "  <thead>\n",
       "    <tr style=\"text-align: right;\">\n",
       "      <th></th>\n",
       "      <th>Name</th>\n",
       "      <th>Dates</th>\n",
       "    </tr>\n",
       "  </thead>\n",
       "  <tbody>\n",
       "    <tr>\n",
       "      <th>0</th>\n",
       "      <td>Tom</td>\n",
       "      <td>2021-03-05</td>\n",
       "    </tr>\n",
       "    <tr>\n",
       "      <th>1</th>\n",
       "      <td>nick</td>\n",
       "      <td>2021-03-16</td>\n",
       "    </tr>\n",
       "    <tr>\n",
       "      <th>2</th>\n",
       "      <td>krish</td>\n",
       "      <td>2021-03-28</td>\n",
       "    </tr>\n",
       "    <tr>\n",
       "      <th>3</th>\n",
       "      <td>jack</td>\n",
       "      <td>2021-03-28</td>\n",
       "    </tr>\n",
       "    <tr>\n",
       "      <th>0</th>\n",
       "      <td>Lucas</td>\n",
       "      <td>2021-03-05</td>\n",
       "    </tr>\n",
       "    <tr>\n",
       "      <th>6</th>\n",
       "      <td>Erika</td>\n",
       "      <td>2021-03-05</td>\n",
       "    </tr>\n",
       "    <tr>\n",
       "      <th>7</th>\n",
       "      <td>Joice</td>\n",
       "      <td>2021-03-16</td>\n",
       "    </tr>\n",
       "    <tr>\n",
       "      <th>0</th>\n",
       "      <td>Zack</td>\n",
       "      <td>2021-03-05</td>\n",
       "    </tr>\n",
       "    <tr>\n",
       "      <th>1</th>\n",
       "      <td>Luiza</td>\n",
       "      <td>2021-03-16</td>\n",
       "    </tr>\n",
       "  </tbody>\n",
       "</table>\n",
       "</div>"
      ],
      "text/plain": [
       "    Name      Dates\n",
       "0    Tom 2021-03-05\n",
       "1   nick 2021-03-16\n",
       "2  krish 2021-03-28\n",
       "3   jack 2021-03-28\n",
       "0  Lucas 2021-03-05\n",
       "6  Erika 2021-03-05\n",
       "7  Joice 2021-03-16\n",
       "0   Zack 2021-03-05\n",
       "1  Luiza 2021-03-16"
      ]
     },
     "execution_count": 47,
     "metadata": {},
     "output_type": "execute_result"
    }
   ],
   "source": [
    "df_total "
   ]
  },
  {
   "cell_type": "code",
   "execution_count": 90,
   "metadata": {},
   "outputs": [],
   "source": [
    "tamanho = 5\n",
    "tamanho_dfs = len(list(set (list(df2['Name'].unique()) + list(df['Name'].unique()))))\n",
    "d1_tam = 0.4 * 5\n",
    "d2_tam = 0.6 * 5"
   ]
  },
  {
   "cell_type": "code",
   "execution_count": 91,
   "metadata": {},
   "outputs": [
    {
     "name": "stdout",
     "output_type": "stream",
     "text": [
      "   Name      Dates\n",
      "0   Tom 2021-03-05\n",
      "1  nick 2021-03-16\n"
     ]
    }
   ],
   "source": [
    "if len(list(df['Name'].unique())) < d1_tam:\n",
    "    df_final = df\n",
    "else:\n",
    "    interator = 1\n",
    "    it = 0\n",
    "    while it <  d1_tam  :\n",
    "        interator = interator +1 \n",
    "        df_iterator = df[:interator]\n",
    "        it = len(list(df_iterator['Name'].unique()))\n",
    "        print( df_iterator)"
   ]
  },
  {
   "cell_type": "code",
   "execution_count": 92,
   "metadata": {},
   "outputs": [],
   "source": [
    "df2 = df2[~df2['Name'].isin( df_iterator['Name'].unique())]"
   ]
  },
  {
   "cell_type": "code",
   "execution_count": 93,
   "metadata": {},
   "outputs": [
    {
     "data": {
      "text/plain": [
       "array(['Tom', 'nick'], dtype=object)"
      ]
     },
     "execution_count": 93,
     "metadata": {},
     "output_type": "execute_result"
    }
   ],
   "source": [
    "df_iterator['Name'].unique()"
   ]
  },
  {
   "cell_type": "code",
   "execution_count": 94,
   "metadata": {},
   "outputs": [
    {
     "data": {
      "text/html": [
       "<div>\n",
       "<style scoped>\n",
       "    .dataframe tbody tr th:only-of-type {\n",
       "        vertical-align: middle;\n",
       "    }\n",
       "\n",
       "    .dataframe tbody tr th {\n",
       "        vertical-align: top;\n",
       "    }\n",
       "\n",
       "    .dataframe thead th {\n",
       "        text-align: right;\n",
       "    }\n",
       "</style>\n",
       "<table border=\"1\" class=\"dataframe\">\n",
       "  <thead>\n",
       "    <tr style=\"text-align: right;\">\n",
       "      <th></th>\n",
       "      <th>Name</th>\n",
       "      <th>Dates</th>\n",
       "    </tr>\n",
       "  </thead>\n",
       "  <tbody>\n",
       "    <tr>\n",
       "      <th>0</th>\n",
       "      <td>Lucas</td>\n",
       "      <td>2021-03-05</td>\n",
       "    </tr>\n",
       "    <tr>\n",
       "      <th>2</th>\n",
       "      <td>krish</td>\n",
       "      <td>2021-03-28</td>\n",
       "    </tr>\n",
       "    <tr>\n",
       "      <th>3</th>\n",
       "      <td>jack</td>\n",
       "      <td>2021-03-28</td>\n",
       "    </tr>\n",
       "    <tr>\n",
       "      <th>4</th>\n",
       "      <td>jack</td>\n",
       "      <td>2021-03-05</td>\n",
       "    </tr>\n",
       "    <tr>\n",
       "      <th>5</th>\n",
       "      <td>jack</td>\n",
       "      <td>2021-03-16</td>\n",
       "    </tr>\n",
       "    <tr>\n",
       "      <th>6</th>\n",
       "      <td>Erika</td>\n",
       "      <td>2021-03-05</td>\n",
       "    </tr>\n",
       "    <tr>\n",
       "      <th>7</th>\n",
       "      <td>Joice</td>\n",
       "      <td>2021-03-16</td>\n",
       "    </tr>\n",
       "  </tbody>\n",
       "</table>\n",
       "</div>"
      ],
      "text/plain": [
       "    Name      Dates\n",
       "0  Lucas 2021-03-05\n",
       "2  krish 2021-03-28\n",
       "3   jack 2021-03-28\n",
       "4   jack 2021-03-05\n",
       "5   jack 2021-03-16\n",
       "6  Erika 2021-03-05\n",
       "7  Joice 2021-03-16"
      ]
     },
     "execution_count": 94,
     "metadata": {},
     "output_type": "execute_result"
    }
   ],
   "source": [
    "df2"
   ]
  },
  {
   "cell_type": "code",
   "execution_count": 95,
   "metadata": {},
   "outputs": [
    {
     "name": "stdout",
     "output_type": "stream",
     "text": [
      "    Name      Dates\n",
      "0  Lucas 2021-03-05\n",
      "2  krish 2021-03-28\n",
      "    Name      Dates\n",
      "0  Lucas 2021-03-05\n",
      "2  krish 2021-03-28\n",
      "3   jack 2021-03-28\n"
     ]
    }
   ],
   "source": [
    "if len(list(df2['Name'].unique())) < d2_tam:\n",
    "    df_final = df2\n",
    "else:\n",
    "    interator = 1\n",
    "    it = 0\n",
    "    while it <  d2_tam  :\n",
    "        interator = interator +1 \n",
    "        df_iterator = df2[:interator]\n",
    "        it = len(list(df_iterator['Name'].unique()))\n",
    "        print( df_iterator)"
   ]
  },
  {
   "cell_type": "code",
   "execution_count": 96,
   "metadata": {},
   "outputs": [
    {
     "data": {
      "text/html": [
       "<div>\n",
       "<style scoped>\n",
       "    .dataframe tbody tr th:only-of-type {\n",
       "        vertical-align: middle;\n",
       "    }\n",
       "\n",
       "    .dataframe tbody tr th {\n",
       "        vertical-align: top;\n",
       "    }\n",
       "\n",
       "    .dataframe thead th {\n",
       "        text-align: right;\n",
       "    }\n",
       "</style>\n",
       "<table border=\"1\" class=\"dataframe\">\n",
       "  <thead>\n",
       "    <tr style=\"text-align: right;\">\n",
       "      <th></th>\n",
       "      <th>Name</th>\n",
       "      <th>Dates</th>\n",
       "    </tr>\n",
       "  </thead>\n",
       "  <tbody>\n",
       "    <tr>\n",
       "      <th>0</th>\n",
       "      <td>Tom</td>\n",
       "      <td>2021-03-05</td>\n",
       "    </tr>\n",
       "    <tr>\n",
       "      <th>1</th>\n",
       "      <td>nick</td>\n",
       "      <td>2021-03-16</td>\n",
       "    </tr>\n",
       "    <tr>\n",
       "      <th>2</th>\n",
       "      <td>krish</td>\n",
       "      <td>2021-03-28</td>\n",
       "    </tr>\n",
       "    <tr>\n",
       "      <th>3</th>\n",
       "      <td>jack</td>\n",
       "      <td>2021-03-28</td>\n",
       "    </tr>\n",
       "  </tbody>\n",
       "</table>\n",
       "</div>"
      ],
      "text/plain": [
       "    Name      Dates\n",
       "0    Tom 2021-03-05\n",
       "1   nick 2021-03-16\n",
       "2  krish 2021-03-28\n",
       "3   jack 2021-03-28"
      ]
     },
     "execution_count": 96,
     "metadata": {},
     "output_type": "execute_result"
    }
   ],
   "source": [
    "df[:len(df['Name'])]"
   ]
  },
  {
   "cell_type": "code",
   "execution_count": 97,
   "metadata": {},
   "outputs": [
    {
     "data": {
      "text/plain": [
       "3.0"
      ]
     },
     "execution_count": 97,
     "metadata": {},
     "output_type": "execute_result"
    }
   ],
   "source": [
    "d2_tam "
   ]
  },
  {
   "cell_type": "code",
   "execution_count": 98,
   "metadata": {},
   "outputs": [],
   "source": [
    "import pandas as pd\n",
    " \n",
    "# intialise data of lists.\n",
    "data = {'Name':['Lucas', 'nick', 'krish', 'jack', 'jack', 'jack', 'Erika', 'Joice'],\n",
    "        'Dates':['05032021','16032021','28032021','28032021', '05032021','16032021', '05032021', '16032021'],\n",
    "        'Compra':[ 5, 10 , 21 , 6 , 7 , 1 , 11 , 10]       \n",
    "        }\n",
    " \n",
    "df3 = pd.DataFrame(data)\n",
    "\n",
    "df3['Dates'] = pd.to_datetime(df3['Dates'], format='%d%m%Y')"
   ]
  },
  {
   "cell_type": "code",
   "execution_count": 99,
   "metadata": {},
   "outputs": [],
   "source": [
    "df3 = df3[~df3['Name'].isin( df_iterator['Name'].unique())]"
   ]
  },
  {
   "cell_type": "code",
   "execution_count": 100,
   "metadata": {},
   "outputs": [],
   "source": [
    "df3 = df3.sort_values('Compra')"
   ]
  },
  {
   "cell_type": "code",
   "execution_count": 101,
   "metadata": {},
   "outputs": [
    {
     "data": {
      "text/html": [
       "<div>\n",
       "<style scoped>\n",
       "    .dataframe tbody tr th:only-of-type {\n",
       "        vertical-align: middle;\n",
       "    }\n",
       "\n",
       "    .dataframe tbody tr th {\n",
       "        vertical-align: top;\n",
       "    }\n",
       "\n",
       "    .dataframe thead th {\n",
       "        text-align: right;\n",
       "    }\n",
       "</style>\n",
       "<table border=\"1\" class=\"dataframe\">\n",
       "  <thead>\n",
       "    <tr style=\"text-align: right;\">\n",
       "      <th></th>\n",
       "      <th>Name</th>\n",
       "      <th>Dates</th>\n",
       "      <th>Compra</th>\n",
       "    </tr>\n",
       "  </thead>\n",
       "  <tbody>\n",
       "    <tr>\n",
       "      <th>1</th>\n",
       "      <td>nick</td>\n",
       "      <td>2021-03-16</td>\n",
       "      <td>10</td>\n",
       "    </tr>\n",
       "    <tr>\n",
       "      <th>7</th>\n",
       "      <td>Joice</td>\n",
       "      <td>2021-03-16</td>\n",
       "      <td>10</td>\n",
       "    </tr>\n",
       "    <tr>\n",
       "      <th>6</th>\n",
       "      <td>Erika</td>\n",
       "      <td>2021-03-05</td>\n",
       "      <td>11</td>\n",
       "    </tr>\n",
       "  </tbody>\n",
       "</table>\n",
       "</div>"
      ],
      "text/plain": [
       "    Name      Dates  Compra\n",
       "1   nick 2021-03-16      10\n",
       "7  Joice 2021-03-16      10\n",
       "6  Erika 2021-03-05      11"
      ]
     },
     "execution_count": 101,
     "metadata": {},
     "output_type": "execute_result"
    }
   ],
   "source": [
    "df3"
   ]
  },
  {
   "cell_type": "code",
   "execution_count": 102,
   "metadata": {},
   "outputs": [],
   "source": [
    "d3_tam = 4"
   ]
  },
  {
   "cell_type": "code",
   "execution_count": 103,
   "metadata": {},
   "outputs": [],
   "source": [
    "if len(list(df3['Name'].unique())) < d3_tam:\n",
    "    df_final = df3\n",
    "else:\n",
    "    interator = 1\n",
    "    it = 0\n",
    "    while it <  d3_tam  :\n",
    "        interator = interator +1 \n",
    "        df_iterator = df3[:interator]\n",
    "        it = len(list(df_iterator['Name'].unique()))\n",
    "        print( df_iterator)"
   ]
  },
  {
   "cell_type": "code",
   "execution_count": 105,
   "metadata": {},
   "outputs": [
    {
     "data": {
      "text/html": [
       "<div>\n",
       "<style scoped>\n",
       "    .dataframe tbody tr th:only-of-type {\n",
       "        vertical-align: middle;\n",
       "    }\n",
       "\n",
       "    .dataframe tbody tr th {\n",
       "        vertical-align: top;\n",
       "    }\n",
       "\n",
       "    .dataframe thead th {\n",
       "        text-align: right;\n",
       "    }\n",
       "</style>\n",
       "<table border=\"1\" class=\"dataframe\">\n",
       "  <thead>\n",
       "    <tr style=\"text-align: right;\">\n",
       "      <th></th>\n",
       "      <th>Name</th>\n",
       "      <th>Dates</th>\n",
       "      <th>Compra</th>\n",
       "    </tr>\n",
       "  </thead>\n",
       "  <tbody>\n",
       "    <tr>\n",
       "      <th>1</th>\n",
       "      <td>nick</td>\n",
       "      <td>2021-03-16</td>\n",
       "      <td>10</td>\n",
       "    </tr>\n",
       "    <tr>\n",
       "      <th>7</th>\n",
       "      <td>Joice</td>\n",
       "      <td>2021-03-16</td>\n",
       "      <td>10</td>\n",
       "    </tr>\n",
       "    <tr>\n",
       "      <th>6</th>\n",
       "      <td>Erika</td>\n",
       "      <td>2021-03-05</td>\n",
       "      <td>11</td>\n",
       "    </tr>\n",
       "  </tbody>\n",
       "</table>\n",
       "</div>"
      ],
      "text/plain": [
       "    Name      Dates  Compra\n",
       "1   nick 2021-03-16      10\n",
       "7  Joice 2021-03-16      10\n",
       "6  Erika 2021-03-05      11"
      ]
     },
     "execution_count": 105,
     "metadata": {},
     "output_type": "execute_result"
    }
   ],
   "source": [
    "df_final"
   ]
  },
  {
   "cell_type": "code",
   "execution_count": 106,
   "metadata": {},
   "outputs": [
    {
     "name": "stdout",
     "output_type": "stream",
     "text": [
      "    Name      Dates  Compra\n",
      "5   jack 2021-03-16       1\n",
      "0  Lucas 2021-03-05       5\n",
      "    Name      Dates  Compra\n",
      "5   jack 2021-03-16       1\n",
      "0  Lucas 2021-03-05       5\n",
      "3   jack 2021-03-28       6\n",
      "    Name      Dates  Compra\n",
      "5   jack 2021-03-16       1\n",
      "0  Lucas 2021-03-05       5\n",
      "3   jack 2021-03-28       6\n",
      "4   jack 2021-03-05       7\n",
      "    Name      Dates  Compra\n",
      "5   jack 2021-03-16       1\n",
      "0  Lucas 2021-03-05       5\n",
      "3   jack 2021-03-28       6\n",
      "4   jack 2021-03-05       7\n",
      "1   nick 2021-03-16      10\n",
      "    Name      Dates  Compra\n",
      "5   jack 2021-03-16       1\n",
      "0  Lucas 2021-03-05       5\n",
      "3   jack 2021-03-28       6\n",
      "4   jack 2021-03-05       7\n",
      "1   nick 2021-03-16      10\n",
      "7  Joice 2021-03-16      10\n"
     ]
    }
   ],
   "source": [
    "import pandas as pd\n",
    " \n",
    "# intialise data of lists.\n",
    "data = {'Name':['Lucas', 'nick', 'krish', 'jack', 'jack', 'jack', 'Erika', 'Joice'],\n",
    "        'Dates':['05032021','16032021','28032021','28032021', '05032021','16032021', '05032021', '16032021'],\n",
    "        'Compra':[ 5, 10 , 21 , 6 , 7 , 1 , 11 , 10]       \n",
    "        }\n",
    " \n",
    "df3 = pd.DataFrame(data)\n",
    "\n",
    "df3['Dates'] = pd.to_datetime(df3['Dates'], format='%d%m%Y')\n",
    "\n",
    "df3 = df3.sort_values('Compra')\n",
    "\n",
    "if len(list(df3['Name'].unique())) < d3_tam:\n",
    "    df_final = df3\n",
    "else:\n",
    "    interator = 1\n",
    "    it = 0\n",
    "    while it <  d3_tam  :\n",
    "        interator = interator +1 \n",
    "        df_iterator = df3[:interator]\n",
    "        it = len(list(df_iterator['Name'].unique()))\n",
    "        print( df_iterator)\n",
    "        "
   ]
  },
  {
   "cell_type": "code",
   "execution_count": null,
   "metadata": {},
   "outputs": [],
   "source": [
    "dfs =[]"
   ]
  },
  {
   "cell_type": "code",
   "execution_count": null,
   "metadata": {},
   "outputs": [],
   "source": []
  },
  {
   "cell_type": "code",
   "execution_count": null,
   "metadata": {},
   "outputs": [],
   "source": []
  }
 ],
 "metadata": {
  "kernelspec": {
   "display_name": "Python 3",
   "language": "python",
   "name": "python3"
  },
  "language_info": {
   "codemirror_mode": {
    "name": "ipython",
    "version": 3
   },
   "file_extension": ".py",
   "mimetype": "text/x-python",
   "name": "python",
   "nbconvert_exporter": "python",
   "pygments_lexer": "ipython3",
   "version": "3.10.7"
  }
 },
 "nbformat": 4,
 "nbformat_minor": 2
}
