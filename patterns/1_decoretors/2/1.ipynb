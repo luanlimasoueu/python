{
 "cells": [
  {
   "cell_type": "markdown",
   "id": "c0e52f71",
   "metadata": {},
   "source": [
    "Regra 1: Uma instrução por linha\n",
    "Evite: Escrever várias ações na mesma linha."
   ]
  },
  {
   "cell_type": "code",
   "execution_count": 1,
   "id": "28c8c85f",
   "metadata": {},
   "outputs": [
    {
     "name": "stdout",
     "output_type": "stream",
     "text": [
      "12\n"
     ]
    }
   ],
   "source": [
    "x = 10; x += 2 ; print(x)"
   ]
  },
  {
   "cell_type": "code",
   "execution_count": 2,
   "id": "44b025de",
   "metadata": {},
   "outputs": [
    {
     "name": "stdout",
     "output_type": "stream",
     "text": [
      "12\n"
     ]
    }
   ],
   "source": [
    "x = 10\n",
    "x += 2\n",
    "print(x)"
   ]
  },
  {
   "cell_type": "markdown",
   "id": "47128482",
   "metadata": {},
   "source": [
    "Regra 2: Não usar o comando else\n",
    "Motivo: Reduz aninhamento e melhora o fluxo de leitura."
   ]
  },
  {
   "cell_type": "code",
   "execution_count": null,
   "id": "5a7e0e5a",
   "metadata": {},
   "outputs": [],
   "source": [
    "if user.is_logged_in():\n",
    "    show_dashboard()\n",
    "else:\n",
    "    show_login()\n"
   ]
  },
  {
   "cell_type": "code",
   "execution_count": null,
   "id": "a48de802",
   "metadata": {},
   "outputs": [],
   "source": [
    "if not user.is_logged_in():\n",
    "    show_login()\n",
    "    return \n",
    "show_dashboard()"
   ]
  },
  {
   "cell_type": "markdown",
   "id": "1794a5a3",
   "metadata": {},
   "source": [
    "Regra 3: Encapsular todos os tipos primitivos e strings\n",
    "Objetivo: Evitar \"dados burros\" e criar objetos com comportamento."
   ]
  },
  {
   "cell_type": "code",
   "execution_count": null,
   "id": "ecaea7b0",
   "metadata": {},
   "outputs": [],
   "source": [
    "class Produto:\n",
    "    def __init__(self, preco):\n",
    "        self.preco = preco\n",
    "\n",
    "class Preco:\n",
    "    def __init__(self, valor):\n",
    "        self.valor = valor\n",
    "\n",
    "    def maior_que(self, outro):\n",
    "        return self.valor > outro.valor"
   ]
  },
  {
   "cell_type": "markdown",
   "id": "33bd1142",
   "metadata": {},
   "source": [
    "Regra 4: Um ponto por linha\n",
    "Motivo: Evita violação do Princípio do Mínimo Conhecimento (Lei de Demeter)."
   ]
  },
  {
   "cell_type": "code",
   "execution_count": null,
   "id": "46d0c6fb",
   "metadata": {},
   "outputs": [],
   "source": [
    "cidade = pedido.cliente.endereco.cidade"
   ]
  },
  {
   "cell_type": "code",
   "execution_count": null,
   "id": "035195fd",
   "metadata": {},
   "outputs": [],
   "source": [
    "cidade = pedido.get_cidade_do_cliente()"
   ]
  },
  {
   "cell_type": "markdown",
   "id": "7cabf424",
   "metadata": {},
   "source": [
    "Regra 5: Não abreviar nomes\n",
    "Motivo: Código deve ser autoexplicativo."
   ]
  },
  {
   "cell_type": "code",
   "execution_count": null,
   "id": "3295cbfa",
   "metadata": {},
   "outputs": [],
   "source": [
    "num_user = 5\n",
    "\n",
    "numero_de_usuarios = 5"
   ]
  },
  {
   "cell_type": "markdown",
   "id": "79ad1e64",
   "metadata": {},
   "source": [
    "Regra 6: Classes com menos de 50 linhas\n",
    "Objetivo: Forçar responsabilidade única e coesão."
   ]
  },
  {
   "cell_type": "markdown",
   "id": "7f1a658d",
   "metadata": {},
   "source": [
    "Regra 7: No máximo 2 variáveis de instância por classe\n",
    "Motivo: Reduz complexidade e dependências internas."
   ]
  }
 ],
 "metadata": {
  "kernelspec": {
   "display_name": "base",
   "language": "python",
   "name": "python3"
  },
  "language_info": {
   "codemirror_mode": {
    "name": "ipython",
    "version": 3
   },
   "file_extension": ".py",
   "mimetype": "text/x-python",
   "name": "python",
   "nbconvert_exporter": "python",
   "pygments_lexer": "ipython3",
   "version": "3.12.7"
  }
 },
 "nbformat": 4,
 "nbformat_minor": 5
}
