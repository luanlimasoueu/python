{
 "cells": [
  {
   "cell_type": "markdown",
   "id": "c0e52f71",
   "metadata": {},
   "source": [
    "Regra 1: Uma instrução por linha\n",
    "Evite: Escrever várias ações na mesma linha."
   ]
  },
  {
   "cell_type": "code",
   "execution_count": 1,
   "id": "28c8c85f",
   "metadata": {},
   "outputs": [
    {
     "name": "stdout",
     "output_type": "stream",
     "text": [
      "12\n"
     ]
    }
   ],
   "source": [
    "x = 10; x += 2 ; print(x)"
   ]
  },
  {
   "cell_type": "code",
   "execution_count": 2,
   "id": "44b025de",
   "metadata": {},
   "outputs": [
    {
     "name": "stdout",
     "output_type": "stream",
     "text": [
      "12\n"
     ]
    }
   ],
   "source": [
    "x = 10\n",
    "x += 2\n",
    "print(x)"
   ]
  },
  {
   "cell_type": "markdown",
   "id": "47128482",
   "metadata": {},
   "source": [
    "Regra 2: Não usar o comando else\n",
    "Motivo: Reduz aninhamento e melhora o fluxo de leitura."
   ]
  },
  {
   "cell_type": "code",
   "execution_count": null,
   "id": "a48de802",
   "metadata": {},
   "outputs": [],
   "source": []
  }
 ],
 "metadata": {
  "kernelspec": {
   "display_name": "base",
   "language": "python",
   "name": "python3"
  },
  "language_info": {
   "codemirror_mode": {
    "name": "ipython",
    "version": 3
   },
   "file_extension": ".py",
   "mimetype": "text/x-python",
   "name": "python",
   "nbconvert_exporter": "python",
   "pygments_lexer": "ipython3",
   "version": "3.12.7"
  }
 },
 "nbformat": 4,
 "nbformat_minor": 5
}
