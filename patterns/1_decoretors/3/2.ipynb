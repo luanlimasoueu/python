{
 "cells": [
  {
   "cell_type": "code",
   "execution_count": 17,
   "id": "cefad23b",
   "metadata": {},
   "outputs": [],
   "source": [
    "class Casa:\n",
    "\n",
    "\tdef __init__(self, preco):\n",
    "\t\tself._preco = preco\n",
    "\n",
    "\t@property\n",
    "\tdef preco(self):\n",
    "\t\treturn self._preco\n",
    "\t\n",
    "\t@preco.setter\n",
    "\tdef preco(self, novo_preco):\n",
    "\t\tif novo_preco > 0 and isinstance(novo_preco, float):\n",
    "\t\t\tself._preco = novo_preco\n",
    "\t\telse:\n",
    "\t\t\tprint(\"Insira um preço válido\")\n",
    "\n",
    "\t@preco.deleter\n",
    "\tdef preco(self):\n",
    "\t\tdel self._preco"
   ]
  },
  {
   "cell_type": "code",
   "execution_count": 21,
   "id": "05bfb841",
   "metadata": {},
   "outputs": [
    {
     "name": "stdout",
     "output_type": "stream",
     "text": [
      "50000.0\n",
      "20.0\n"
     ]
    }
   ],
   "source": [
    "casa = Casa(50000.0) # Criar instância\n",
    "print(casa.preco )\n",
    "casa.preco = 20.0\n",
    "print(casa.preco)"
   ]
  }
 ],
 "metadata": {
  "kernelspec": {
   "display_name": "base",
   "language": "python",
   "name": "python3"
  },
  "language_info": {
   "codemirror_mode": {
    "name": "ipython",
    "version": 3
   },
   "file_extension": ".py",
   "mimetype": "text/x-python",
   "name": "python",
   "nbconvert_exporter": "python",
   "pygments_lexer": "ipython3",
   "version": "3.12.7"
  }
 },
 "nbformat": 4,
 "nbformat_minor": 5
}
