{
 "cells": [
  {
   "cell_type": "code",
   "execution_count": 1,
   "metadata": {},
   "outputs": [],
   "source": [
    "from math import pi"
   ]
  },
  {
   "cell_type": "code",
   "execution_count": 2,
   "metadata": {},
   "outputs": [],
   "source": [
    "class Circle:\n",
    "\n",
    "    shape_object = 'Circle'\n",
    "\n",
    "    def __init__(self, radius = 1.0):\n",
    "        ''' Initializer with default radius of 1.0'''\n",
    "        self.radius =  radius\n",
    "    \n",
    "    def __str__(self):\n",
    "        ''' Return a descripte string for this instance, invoked by print() and str()'''\n",
    "        return 'This is a circle with radius of {:.2f}'.format(self.radius)\n",
    "\n",
    "    def get_area(self):\n",
    "        ''' Return the area of this Circle instance'''\n",
    "        return self.radius * self.radius * pi"
   ]
  },
  {
   "cell_type": "code",
   "execution_count": 6,
   "metadata": {},
   "outputs": [],
   "source": [
    "class Cylinder (Circle):\n",
    "\n",
    "    def __init__(self, radius = 1.0 , height = 1.0):\n",
    "        super().__init__(radius)\n",
    "        #or\n",
    "        #super(Cylinder , self).__init__(radius)\n",
    "        #Circle.__init__(self, radius)\n",
    "        self.height = height\n",
    "\n",
    "    def __str__(self):\n",
    "        ''' Return a descripte string for this instance, invoked by print() and str()'''\n",
    "        return 'Cylinder(radius = {}, height ={})'.format(self.radius, self.height)\n",
    "    \n",
    "    def get_volume(self):\n",
    "        return self.get_area() * self.height"
   ]
  },
  {
   "cell_type": "code",
   "execution_count": 7,
   "metadata": {},
   "outputs": [],
   "source": [
    "cy1 = Cylinder(1.1, 1.2)"
   ]
  },
  {
   "cell_type": "code",
   "execution_count": 8,
   "metadata": {},
   "outputs": [
    {
     "name": "stdout",
     "output_type": "stream",
     "text": [
      "Cylinder(radius = 1.1, height =1.2)\n"
     ]
    }
   ],
   "source": [
    "print(cy1)"
   ]
  },
  {
   "cell_type": "code",
   "execution_count": 9,
   "metadata": {},
   "outputs": [
    {
     "name": "stdout",
     "output_type": "stream",
     "text": [
      "3.8013271108436504\n"
     ]
    }
   ],
   "source": [
    "print(cy1.get_area())"
   ]
  },
  {
   "cell_type": "code",
   "execution_count": 10,
   "metadata": {},
   "outputs": [
    {
     "name": "stdout",
     "output_type": "stream",
     "text": [
      "4.56159253301238\n"
     ]
    }
   ],
   "source": [
    "print(cy1.get_volume())"
   ]
  },
  {
   "cell_type": "code",
   "execution_count": 11,
   "metadata": {},
   "outputs": [
    {
     "name": "stdout",
     "output_type": "stream",
     "text": [
      "1.1\n",
      "1.2\n"
     ]
    }
   ],
   "source": [
    "print(cy1.radius)\n",
    "print(cy1.height)"
   ]
  },
  {
   "cell_type": "code",
   "execution_count": 12,
   "metadata": {},
   "outputs": [
    {
     "name": "stdout",
     "output_type": "stream",
     "text": [
      "Cylinder(radius = 1.0, height =1.0)\n",
      "3.141592653589793\n",
      "3.141592653589793\n"
     ]
    }
   ],
   "source": [
    "cy2 = Cylinder()\n",
    "print(cy2)\n",
    "print(cy2.get_area())\n",
    "print(cy2.get_volume())"
   ]
  },
  {
   "cell_type": "code",
   "execution_count": 13,
   "metadata": {},
   "outputs": [
    {
     "name": "stdout",
     "output_type": "stream",
     "text": [
      "['__class__', '__delattr__', '__dict__', '__dir__', '__doc__', '__eq__', '__format__', '__ge__', '__getattribute__', '__gt__', '__hash__', '__init__', '__init_subclass__', '__le__', '__lt__', '__module__', '__ne__', '__new__', '__reduce__', '__reduce_ex__', '__repr__', '__setattr__', '__sizeof__', '__str__', '__subclasshook__', '__weakref__', 'get_area', 'get_volume', 'height', 'radius', 'shape_object']\n"
     ]
    }
   ],
   "source": [
    "print(dir(cy1))"
   ]
  },
  {
   "cell_type": "code",
   "execution_count": 14,
   "metadata": {},
   "outputs": [
    {
     "name": "stdout",
     "output_type": "stream",
     "text": [
      "<function Circle.get_area at 0x0000023A0D8F23B0>\n"
     ]
    }
   ],
   "source": [
    "print(Cylinder.get_area)"
   ]
  },
  {
   "cell_type": "code",
   "execution_count": 15,
   "metadata": {},
   "outputs": [
    {
     "name": "stdout",
     "output_type": "stream",
     "text": [
      "This is a circle with radius of 3.30\n",
      "True\n",
      "False\n"
     ]
    }
   ],
   "source": [
    "c1 = Circle(3.3)\n",
    "print(c1)\n",
    "\n",
    "print(isinstance(c1, Circle))\n",
    "print(isinstance(c1,Cylinder))"
   ]
  }
 ],
 "metadata": {
  "kernelspec": {
   "display_name": "Python 3",
   "language": "python",
   "name": "python3"
  },
  "language_info": {
   "codemirror_mode": {
    "name": "ipython",
    "version": 3
   },
   "file_extension": ".py",
   "mimetype": "text/x-python",
   "name": "python",
   "nbconvert_exporter": "python",
   "pygments_lexer": "ipython3",
   "version": "3.10.7"
  }
 },
 "nbformat": 4,
 "nbformat_minor": 2
}
