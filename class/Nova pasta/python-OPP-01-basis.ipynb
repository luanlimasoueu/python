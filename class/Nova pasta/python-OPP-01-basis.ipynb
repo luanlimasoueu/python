{
 "cells": [
  {
   "cell_type": "code",
   "execution_count": 9,
   "metadata": {},
   "outputs": [],
   "source": [
    "from math import pi"
   ]
  },
  {
   "cell_type": "code",
   "execution_count": 19,
   "metadata": {},
   "outputs": [],
   "source": [
    "class Circle:\n",
    "\n",
    "    def __init__(self, radius = 1.0):\n",
    "        ''' Initializer with default radius of 1.0'''\n",
    "        self.radius =  radius\n",
    "    \n",
    "    def __str__(self):\n",
    "        ''' Return a descripte string for this instance, invoked by print() and str()'''\n",
    "        return 'This is a circle with radius of {:.2f}'.format(self.radius)\n",
    "    \n",
    "    def __repr__(self):\n",
    "        ''' Return a formal string that can be used to re-create this instance, invoked by repr()'''\n",
    "        return 'Circle (radius={})'.format(self.radius)\n",
    "\n",
    "    def get_area(self):\n",
    "        ''' Return the area of this Circle instance'''\n",
    "        return self.radius * self.radius * pi"
   ]
  },
  {
   "cell_type": "code",
   "execution_count": 22,
   "metadata": {},
   "outputs": [
    {
     "name": "stdout",
     "output_type": "stream",
     "text": [
      "This is a circle with radius of 2.10\n",
      "13.854423602330987\n",
      "2.1\n"
     ]
    }
   ],
   "source": [
    "c1 = Circle(2.1)\n",
    "\n",
    "print(c1)\n",
    "print(c1.get_area())\n",
    "print(c1.radius)"
   ]
  },
  {
   "cell_type": "code",
   "execution_count": 23,
   "metadata": {},
   "outputs": [
    {
     "name": "stdout",
     "output_type": "stream",
     "text": [
      "3.141592653589793\n",
      "1.0\n"
     ]
    }
   ],
   "source": [
    "c2 = Circle()\n",
    "print(c2.get_area())\n",
    "print(c2.radius)"
   ]
  }
 ],
 "metadata": {
  "kernelspec": {
   "display_name": "Python 3",
   "language": "python",
   "name": "python3"
  },
  "language_info": {
   "codemirror_mode": {
    "name": "ipython",
    "version": 3
   },
   "file_extension": ".py",
   "mimetype": "text/x-python",
   "name": "python",
   "nbconvert_exporter": "python",
   "pygments_lexer": "ipython3",
   "version": "3.10.7"
  }
 },
 "nbformat": 4,
 "nbformat_minor": 2
}
