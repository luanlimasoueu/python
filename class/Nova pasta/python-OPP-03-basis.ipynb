{
 "cells": [
  {
   "cell_type": "code",
   "execution_count": 1,
   "metadata": {},
   "outputs": [
    {
     "name": "stdout",
     "output_type": "stream",
     "text": [
      "This is India\n",
      "This is State\n"
     ]
    }
   ],
   "source": [
    "class Country:\n",
    "    def ShowCountry(self):\n",
    "        print('This is India')\n",
    "\n",
    "class State(Country):\n",
    "    def ShowState(self):\n",
    "        print('This is State')\n",
    "\n",
    "st = State()\n",
    "st.ShowCountry()\n",
    "st.ShowState()"
   ]
  },
  {
   "cell_type": "code",
   "execution_count": 2,
   "metadata": {},
   "outputs": [],
   "source": [
    "class student:\n",
    "    def method1(self, sno, sname):\n",
    "        self.sno = sno\n",
    "        self.sname = sname\n",
    "    \n",
    "    def method2(self):\n",
    "        print(\"Student No: \", self.sno)\n",
    "        print(\"Student Name: \", self.sname)\n",
    "\n",
    "class marks:\n",
    "    def setmarks(self, m1, m2):\n",
    "        self.mark1 = m1\n",
    "        self.mark2 = m2\n",
    "\n",
    "    def putmarks(self):\n",
    "        print(\"Mark 1 : \", self.mark1 )\n",
    "        print(\"Mark 2 : \", self.mark2 )\n",
    "\n",
    "class result(marks, student):\n",
    "    def calc(self):\n",
    "        self.total = self.mark1 + self.mark2\n",
    "\n",
    "    def puttotal(self):\n",
    "        print('Total : ', self.total)"
   ]
  },
  {
   "cell_type": "code",
   "execution_count": 3,
   "metadata": {},
   "outputs": [],
   "source": [
    "r= result()\n",
    "r.method1( 60, \"Lucky\")\n",
    "r.setmarks(50, 60)"
   ]
  },
  {
   "cell_type": "code",
   "execution_count": 4,
   "metadata": {},
   "outputs": [],
   "source": [
    "r.calc()"
   ]
  },
  {
   "cell_type": "code",
   "execution_count": 5,
   "metadata": {},
   "outputs": [
    {
     "name": "stdout",
     "output_type": "stream",
     "text": [
      "Student No:  60\n",
      "Student Name:  Lucky\n"
     ]
    }
   ],
   "source": [
    "r.method2()"
   ]
  },
  {
   "cell_type": "code",
   "execution_count": 6,
   "metadata": {},
   "outputs": [
    {
     "name": "stdout",
     "output_type": "stream",
     "text": [
      "Mark 1 :  50\n",
      "Mark 2 :  60\n"
     ]
    }
   ],
   "source": [
    "r.putmarks()"
   ]
  },
  {
   "cell_type": "code",
   "execution_count": 7,
   "metadata": {},
   "outputs": [
    {
     "name": "stdout",
     "output_type": "stream",
     "text": [
      "Total :  110\n"
     ]
    }
   ],
   "source": [
    "r.puttotal()"
   ]
  },
  {
   "cell_type": "code",
   "execution_count": 8,
   "metadata": {},
   "outputs": [],
   "source": [
    "class student:\n",
    "    def method1(self, sno, sname):\n",
    "        self.sno = sno\n",
    "        self.sname = sname\n",
    "    \n",
    "    def method2(self):\n",
    "        print(\"Student No: \", self.sno)\n",
    "        print(\"Student Name: \", self.sname)\n",
    "\n",
    "class marks(student):\n",
    "    def setmarks(self, m1, m2):\n",
    "        self.mark1 = m1\n",
    "        self.mark2 = m2\n",
    "\n",
    "    def putmarks(self):\n",
    "        print(\"Mark 1 : \", self.mark1 )\n",
    "        print(\"Mark 2 : \", self.mark2 )\n",
    "\n",
    "class result(marks):\n",
    "    def calc(self):\n",
    "        self.total = self.mark1 + self.mark2\n",
    "\n",
    "    def puttotal(self):\n",
    "        print('Total : ', self.total)"
   ]
  },
  {
   "cell_type": "code",
   "execution_count": 9,
   "metadata": {},
   "outputs": [],
   "source": [
    "r= result()\n",
    "r.method1( 60, \"Lucas\")\n",
    "r.setmarks(50, 60)"
   ]
  },
  {
   "cell_type": "code",
   "execution_count": 10,
   "metadata": {},
   "outputs": [],
   "source": [
    "r.calc()"
   ]
  },
  {
   "cell_type": "code",
   "execution_count": 11,
   "metadata": {},
   "outputs": [
    {
     "name": "stdout",
     "output_type": "stream",
     "text": [
      "Student No:  60\n",
      "Student Name:  Lucas\n"
     ]
    }
   ],
   "source": [
    "r.method2()"
   ]
  },
  {
   "cell_type": "code",
   "execution_count": 12,
   "metadata": {},
   "outputs": [
    {
     "name": "stdout",
     "output_type": "stream",
     "text": [
      "Mark 1 :  50\n",
      "Mark 2 :  60\n"
     ]
    }
   ],
   "source": [
    "r.putmarks()"
   ]
  },
  {
   "cell_type": "code",
   "execution_count": 13,
   "metadata": {},
   "outputs": [
    {
     "name": "stdout",
     "output_type": "stream",
     "text": [
      "Total :  110\n"
     ]
    }
   ],
   "source": [
    "r.puttotal()"
   ]
  },
  {
   "cell_type": "code",
   "execution_count": 15,
   "metadata": {},
   "outputs": [],
   "source": [
    "class one:\n",
    "    def display(self):\n",
    "        self.x = 1000\n",
    "        self.y = 2000\n",
    "        print(\"This is the method in class one\")\n",
    "        print(\"Value of X = \", self.x)\n",
    "        print(\"Value of X = \", self.y)\n",
    "\n",
    "class two (one):\n",
    "    def add(self):\n",
    "        print(\"This is the method in class two\")\n",
    "        print(\"X + Y = \", (self.x +self.y ))\n",
    "\n",
    "class three (one):\n",
    "    def mul(self):\n",
    "        print(\"This is the method in class three\")\n",
    "        print(\"X + Y = \", (self.x  * self.y ))\n"
   ]
  },
  {
   "cell_type": "code",
   "execution_count": 16,
   "metadata": {},
   "outputs": [],
   "source": [
    "t1 = two()\n",
    "t2 = three()"
   ]
  },
  {
   "cell_type": "code",
   "execution_count": 17,
   "metadata": {},
   "outputs": [
    {
     "name": "stdout",
     "output_type": "stream",
     "text": [
      "This is the method in class one\n",
      "Value of X =  1000\n",
      "Value of X =  2000\n",
      "This is the method in class one\n",
      "Value of X =  1000\n",
      "Value of X =  2000\n"
     ]
    }
   ],
   "source": [
    "t1.display()\n",
    "t2.display()"
   ]
  },
  {
   "cell_type": "code",
   "execution_count": 18,
   "metadata": {},
   "outputs": [
    {
     "name": "stdout",
     "output_type": "stream",
     "text": [
      "This is the method in class two\n",
      "X + Y =  3000\n",
      "This is the method in class three\n",
      "X + Y =  2000000\n"
     ]
    }
   ],
   "source": [
    "t1.add()\n",
    "t2.mul()"
   ]
  },
  {
   "cell_type": "code",
   "execution_count": 20,
   "metadata": {},
   "outputs": [
    {
     "name": "stdout",
     "output_type": "stream",
     "text": [
      "Practical mark 100\n",
      "Total :  210\n"
     ]
    }
   ],
   "source": [
    "class student:\n",
    "    def setstudent(self, sno, sname):\n",
    "        self.sno = sno\n",
    "        self.sname = sname\n",
    "    \n",
    "    def putstudent(self):\n",
    "        print(\"Student No: \", self.sno)\n",
    "        print(\"Student Name: \", self.sname)\n",
    "\n",
    "class marks(student):\n",
    "    def setmarks(self, m1, m2):\n",
    "        self.mark1 = m1\n",
    "        self.mark2 = m2\n",
    "\n",
    "    def putmarks(self):\n",
    "        print(\"Mark 1 : \", self.mark1 )\n",
    "        print(\"Mark 2 : \", self.mark2 )\n",
    "\n",
    "class pratical:\n",
    "    def getpractical(self, p1):\n",
    "        self.p1 = p1\n",
    "\n",
    "    def putpractical(self):\n",
    "        print(\"Practical mark\", self.p1)\n",
    "\n",
    "class result(marks, pratical):\n",
    "    def calc(self):\n",
    "        self.total = self.mark1 + self.mark2 + self.p1\n",
    "\n",
    "    def puttotal(self):\n",
    "        print( \"Total : \", self.total)\n",
    "\n",
    "\n",
    "r =  result()\n",
    "r.setstudent(60, \"Ash\")\n",
    "r.setmarks(50, 60)\n",
    "r.getpractical(100)\n",
    "r.calc()\n",
    "r.putpractical()\n",
    "r.puttotal()\n"
   ]
  }
 ],
 "metadata": {
  "kernelspec": {
   "display_name": "Python 3",
   "language": "python",
   "name": "python3"
  },
  "language_info": {
   "codemirror_mode": {
    "name": "ipython",
    "version": 3
   },
   "file_extension": ".py",
   "mimetype": "text/x-python",
   "name": "python",
   "nbconvert_exporter": "python",
   "pygments_lexer": "ipython3",
   "version": "3.10.7"
  }
 },
 "nbformat": 4,
 "nbformat_minor": 2
}
