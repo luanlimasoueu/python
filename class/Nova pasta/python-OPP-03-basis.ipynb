{
 "cells": [
  {
   "cell_type": "code",
   "execution_count": 1,
   "metadata": {},
   "outputs": [
    {
     "name": "stdout",
     "output_type": "stream",
     "text": [
      "This is India\n",
      "This is State\n"
     ]
    }
   ],
   "source": [
    "class Country:\n",
    "    def ShowCountry(self):\n",
    "        print('This is India')\n",
    "\n",
    "class State(Country):\n",
    "    def ShowState(self):\n",
    "        print('This is State')\n",
    "\n",
    "st = State()\n",
    "st.ShowCountry()\n",
    "st.ShowState()"
   ]
  },
  {
   "cell_type": "code",
   "execution_count": 2,
   "metadata": {},
   "outputs": [],
   "source": [
    "class student:\n",
    "    def method1(self, sno, sname):\n",
    "        self.sno = sno\n",
    "        self.sname = sname\n",
    "    \n",
    "    def method2(self):\n",
    "        print(\"Student No: \", self.sno)\n",
    "        print(\"Student Name: \", self.sname)\n",
    "\n",
    "class marks:\n",
    "    def setmarks(self, m1, m2):\n",
    "        self.mark1 = m1\n",
    "        self.mark2 = m2\n",
    "\n",
    "    def putmarks(self):\n",
    "        print(\"Mark 1 : \", self.mark1 )\n",
    "        print(\"Mark 2 : \", self.mark2 )\n",
    "\n",
    "class result(marks, student):\n",
    "    def calc(self):\n",
    "        self.total = self.mark1 + self.mark2\n",
    "\n",
    "    def puttotal(self):\n",
    "        print('Total : ', self.total)"
   ]
  },
  {
   "cell_type": "code",
   "execution_count": 3,
   "metadata": {},
   "outputs": [],
   "source": [
    "r= result()\n",
    "r.method1( 60, \"Lucky\")\n",
    "r.setmarks(50, 60)"
   ]
  },
  {
   "cell_type": "code",
   "execution_count": 4,
   "metadata": {},
   "outputs": [],
   "source": [
    "r.calc()"
   ]
  },
  {
   "cell_type": "code",
   "execution_count": 5,
   "metadata": {},
   "outputs": [
    {
     "name": "stdout",
     "output_type": "stream",
     "text": [
      "Student No:  60\n",
      "Student Name:  Lucky\n"
     ]
    }
   ],
   "source": [
    "r.method2()"
   ]
  },
  {
   "cell_type": "code",
   "execution_count": 6,
   "metadata": {},
   "outputs": [
    {
     "name": "stdout",
     "output_type": "stream",
     "text": [
      "Mark 1 :  50\n",
      "Mark 2 :  60\n"
     ]
    }
   ],
   "source": [
    "r.putmarks()"
   ]
  },
  {
   "cell_type": "code",
   "execution_count": 7,
   "metadata": {},
   "outputs": [
    {
     "name": "stdout",
     "output_type": "stream",
     "text": [
      "Total :  110\n"
     ]
    }
   ],
   "source": [
    "r.puttotal()"
   ]
  },
  {
   "cell_type": "code",
   "execution_count": 8,
   "metadata": {},
   "outputs": [],
   "source": [
    "class student:\n",
    "    def method1(self, sno, sname):\n",
    "        self.sno = sno\n",
    "        self.sname = sname\n",
    "    \n",
    "    def method2(self):\n",
    "        print(\"Student No: \", self.sno)\n",
    "        print(\"Student Name: \", self.sname)\n",
    "\n",
    "class marks(student):\n",
    "    def setmarks(self, m1, m2):\n",
    "        self.mark1 = m1\n",
    "        self.mark2 = m2\n",
    "\n",
    "    def putmarks(self):\n",
    "        print(\"Mark 1 : \", self.mark1 )\n",
    "        print(\"Mark 2 : \", self.mark2 )\n",
    "\n",
    "class result(marks):\n",
    "    def calc(self):\n",
    "        self.total = self.mark1 + self.mark2\n",
    "\n",
    "    def puttotal(self):\n",
    "        print('Total : ', self.total)"
   ]
  },
  {
   "cell_type": "code",
   "execution_count": 9,
   "metadata": {},
   "outputs": [],
   "source": [
    "r= result()\n",
    "r.method1( 60, \"Lucas\")\n",
    "r.setmarks(50, 60)"
   ]
  },
  {
   "cell_type": "code",
   "execution_count": 10,
   "metadata": {},
   "outputs": [],
   "source": [
    "r.calc()"
   ]
  },
  {
   "cell_type": "code",
   "execution_count": 11,
   "metadata": {},
   "outputs": [
    {
     "name": "stdout",
     "output_type": "stream",
     "text": [
      "Student No:  60\n",
      "Student Name:  Lucas\n"
     ]
    }
   ],
   "source": [
    "r.method2()"
   ]
  },
  {
   "cell_type": "code",
   "execution_count": 12,
   "metadata": {},
   "outputs": [
    {
     "name": "stdout",
     "output_type": "stream",
     "text": [
      "Mark 1 :  50\n",
      "Mark 2 :  60\n"
     ]
    }
   ],
   "source": [
    "r.putmarks()"
   ]
  },
  {
   "cell_type": "code",
   "execution_count": 13,
   "metadata": {},
   "outputs": [
    {
     "name": "stdout",
     "output_type": "stream",
     "text": [
      "Total :  110\n"
     ]
    }
   ],
   "source": [
    "r.puttotal()"
   ]
  },
  {
   "cell_type": "code",
   "execution_count": null,
   "metadata": {},
   "outputs": [],
   "source": [
    "class one:\n",
    "    display(self):\n",
    "    self.x"
   ]
  },
  {
   "cell_type": "code",
   "execution_count": null,
   "metadata": {},
   "outputs": [],
   "source": []
  },
  {
   "cell_type": "code",
   "execution_count": null,
   "metadata": {},
   "outputs": [],
   "source": []
  },
  {
   "cell_type": "code",
   "execution_count": null,
   "metadata": {},
   "outputs": [],
   "source": []
  },
  {
   "cell_type": "code",
   "execution_count": null,
   "metadata": {},
   "outputs": [],
   "source": []
  }
 ],
 "metadata": {
  "kernelspec": {
   "display_name": "Python 3",
   "language": "python",
   "name": "python3"
  },
  "language_info": {
   "codemirror_mode": {
    "name": "ipython",
    "version": 3
   },
   "file_extension": ".py",
   "mimetype": "text/x-python",
   "name": "python",
   "nbconvert_exporter": "python",
   "pygments_lexer": "ipython3",
   "version": "3.10.7"
  }
 },
 "nbformat": 4,
 "nbformat_minor": 2
}
