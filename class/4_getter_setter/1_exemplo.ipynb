{
 "cells": [
  {
   "cell_type": "code",
   "execution_count": 11,
   "metadata": {},
   "outputs": [],
   "source": [
    "from datetime import date\n",
    "\n",
    "class Pessoa:\n",
    "    def __init__(self, nome, data_nascimento):\n",
    "        self.nome = nome\n",
    "        self.data_nascimento = data_nascimento\n",
    "\n",
    "    def dias_vividos(self):\n",
    "        return (date.today() - self.data_nascimento).days\n",
    "    \n",
    "    @property\n",
    "    def data_nascimento(self):\n",
    "        return self._data_nascimento\n",
    "    \n",
    "    @data_nascimento.setter\n",
    "    def data_nascimento(self, value):\n",
    "        self._data_nascimento = value\n"
   ]
  },
  {
   "cell_type": "code",
   "execution_count": 12,
   "metadata": {},
   "outputs": [
    {
     "name": "stdout",
     "output_type": "stream",
     "text": [
      "8595\n"
     ]
    }
   ],
   "source": [
    "p1 = Pessoa('Caio', date(2000, 8, 30))\n",
    "print(p1.dias_vividos())"
   ]
  },
  {
   "cell_type": "code",
   "execution_count": 13,
   "metadata": {},
   "outputs": [],
   "source": [
    "from datetime import date\n",
    "\n",
    "class Pessoa:\n",
    "    def __init__(self, nome, data_nascimento):\n",
    "        self.nome = nome\n",
    "        self.data_nascimento = data_nascimento\n",
    "\n",
    "    def dias_vividos(self):\n",
    "        return (date.today() - self.data_nascimento).days\n",
    "    \n",
    "    @property\n",
    "    def data_nascimento(self):\n",
    "        return self._data_nascimento\n",
    "    \n",
    "    @data_nascimento.setter\n",
    "    def data_nascimento(self, value):\n",
    "        self._data_nascimento = date(2000, 8, 31)\n"
   ]
  },
  {
   "cell_type": "code",
   "execution_count": 14,
   "metadata": {},
   "outputs": [
    {
     "name": "stdout",
     "output_type": "stream",
     "text": [
      "8594\n"
     ]
    }
   ],
   "source": [
    "p1 = Pessoa('Caio', date(2000, 8, 30))\n",
    "print(p1.dias_vividos())"
   ]
  }
 ],
 "metadata": {
  "kernelspec": {
   "display_name": "Python 3",
   "language": "python",
   "name": "python3"
  },
  "language_info": {
   "codemirror_mode": {
    "name": "ipython",
    "version": 3
   },
   "file_extension": ".py",
   "mimetype": "text/x-python",
   "name": "python",
   "nbconvert_exporter": "python",
   "pygments_lexer": "ipython3",
   "version": "3.10.7"
  }
 },
 "nbformat": 4,
 "nbformat_minor": 2
}
