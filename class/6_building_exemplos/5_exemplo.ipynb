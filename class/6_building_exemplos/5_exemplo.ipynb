{
 "cells": [
  {
   "cell_type": "code",
   "execution_count": 14,
   "metadata": {},
   "outputs": [
    {
     "name": "stdout",
     "output_type": "stream",
     "text": [
      "Hello, my name is Alice\n",
      "14\n"
     ]
    }
   ],
   "source": [
    "class Person:\n",
    "    # init method or constructor\n",
    "    def __init__(self, name, numero):\n",
    "        self.name = name\n",
    "        self.meu_numero = numero\n",
    "    \n",
    "    def numero(self, n):\n",
    "        return self.meu_numero + 3 + n\n",
    "\n",
    "    # Sample Method\n",
    "    def say_hi(self):\n",
    "        print('Hello, my name is', self.name)\n",
    "        n = 9\n",
    "        print(self.numero(n))  # Chamando o método numero corretamente\n",
    "\n",
    "# Exemplo de uso\n",
    "p = Person(\"Alice\", 2)\n",
    "p.say_hi()\n"
   ]
  }
 ],
 "metadata": {
  "kernelspec": {
   "display_name": "Python 3",
   "language": "python",
   "name": "python3"
  },
  "language_info": {
   "codemirror_mode": {
    "name": "ipython",
    "version": 3
   },
   "file_extension": ".py",
   "mimetype": "text/x-python",
   "name": "python",
   "nbconvert_exporter": "python",
   "pygments_lexer": "ipython3",
   "version": "3.10.7"
  }
 },
 "nbformat": 4,
 "nbformat_minor": 2
}
