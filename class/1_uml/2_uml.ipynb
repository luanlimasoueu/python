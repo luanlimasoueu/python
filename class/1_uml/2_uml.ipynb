{
 "cells": [
  {
   "cell_type": "code",
   "execution_count": 1,
   "metadata": {},
   "outputs": [],
   "source": [
    "import datetime\n",
    "\n",
    "class Document:\n",
    "    def __init__(self, documentID, authors):\n",
    "        self.documentID = documentID\n",
    "        self.authors = authors\n",
    "\n",
    "    def __repr__(self):\n",
    "        return f'Document ID: {self.documentID}, Authors: {self.authors}'\n",
    "    \n",
    "    def addAuthorName(self, authorName):\n",
    "        self.authors.append(authorName)\n",
    "\n",
    "class Book(Document):\n",
    "    def __init__(self, documentID, authors, publisher, title):\n",
    "        super().__init__(documentID, authors)\n",
    "        self.publisher = publisher\n",
    "        self.title = title\n",
    "\n",
    "    def __repr__(self):\n",
    "        return f'{super().__repr__()} Publisher: {self.publisher}, Title: {self.title}'\n",
    "    \n",
    "\n",
    "class Email(Document):\n",
    "    def __init__(self, documentID, authors, subject, sentTo, sentDate):\n",
    "        super().__init__(documentID, authors)\n",
    "        self.subject = subject\n",
    "        self.sentTo= sentTo\n",
    "        self.sentDate =  sentDate\n",
    "\n",
    "    def __repr__(self):\n",
    "        return f'{super().__repr__()} Subject: {self.subject}, Sent To: {self.sentTo}, Sent Date: {self.sentDate}'\n",
    "\n",
    "    "
   ]
  },
  {
   "cell_type": "code",
   "execution_count": 2,
   "metadata": {},
   "outputs": [
    {
     "name": "stdout",
     "output_type": "stream",
     "text": [
      "Document ID: 101, Authors: ['anto', 'brenda', 'cate']\n",
      "Document ID: 101, Authors: ['anto', 'brenda', 'cate', 'dave']\n"
     ]
    }
   ],
   "source": [
    "doc1 = Document( 101, ['anto', 'brenda', 'cate'])\n",
    "print(doc1)\n",
    "doc1.addAuthorName('dave')\n",
    "print(doc1)"
   ]
  },
  {
   "cell_type": "code",
   "execution_count": 3,
   "metadata": {},
   "outputs": [
    {
     "name": "stdout",
     "output_type": "stream",
     "text": [
      "Document ID: 102, Authors: ['boyd', 'carson'] Publisher: Wiley, Title: Basic\n"
     ]
    }
   ],
   "source": [
    "doc2 = Book( 102, ['boyd', 'carson'], 'Wiley', 'Basic')\n",
    "print(doc2)"
   ]
  },
  {
   "cell_type": "code",
   "execution_count": 4,
   "metadata": {},
   "outputs": [
    {
     "name": "stdout",
     "output_type": "stream",
     "text": [
      "Document ID: 103, Authors: ['lucas', 'Farias'] Subject: Wiley, Sent To: Basic, Sent Date: 2024-03-10\n"
     ]
    }
   ],
   "source": [
    "doc3 = Email( 103, ['lucas', 'Farias'], 'Wiley', 'Basic', datetime.date(2021, 2, 5))\n",
    "print(doc3)"
   ]
  }
 ],
 "metadata": {
  "kernelspec": {
   "display_name": "Python 3",
   "language": "python",
   "name": "python3"
  },
  "language_info": {
   "codemirror_mode": {
    "name": "ipython",
    "version": 3
   },
   "file_extension": ".py",
   "mimetype": "text/x-python",
   "name": "python",
   "nbconvert_exporter": "python",
   "pygments_lexer": "ipython3",
   "version": "3.10.7"
  }
 },
 "nbformat": 4,
 "nbformat_minor": 2
}
