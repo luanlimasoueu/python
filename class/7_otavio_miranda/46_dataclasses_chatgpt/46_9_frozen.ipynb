{
 "cells": [
  {
   "cell_type": "markdown",
   "id": "812aaaea",
   "metadata": {},
   "source": [
    "🔒 Imutabilidade com frozen=True no dataclass\n",
    "\n",
    "Quando você usa @dataclass(frozen=True), os objetos criados não podem ser modificados após serem instanciados — eles se tornam quase como tuplas nomeadas.\n",
    "\n",
    "Isso é útil quando você quer garantir que os dados não mudem depois de criados, ajudando a evitar bugs em sistemas que dependem de consistência (por exemplo, em configuração, cache, ou chaves de dicionário)."
   ]
  },
  {
   "cell_type": "code",
   "execution_count": 1,
   "id": "b392fa65",
   "metadata": {},
   "outputs": [
    {
     "name": "stdout",
     "output_type": "stream",
     "text": [
      "localhost\n"
     ]
    },
    {
     "ename": "FrozenInstanceError",
     "evalue": "cannot assign to field 'port'",
     "output_type": "error",
     "traceback": [
      "\u001b[1;31m---------------------------------------------------------------------------\u001b[0m",
      "\u001b[1;31mFrozenInstanceError\u001b[0m                       Traceback (most recent call last)",
      "Cell \u001b[1;32mIn[1], line 12\u001b[0m\n\u001b[0;32m      9\u001b[0m \u001b[38;5;28mprint\u001b[39m(c\u001b[38;5;241m.\u001b[39mhost)  \u001b[38;5;66;03m# localhost\u001b[39;00m\n\u001b[0;32m     11\u001b[0m \u001b[38;5;66;03m# Tentando alterar um atributo:\u001b[39;00m\n\u001b[1;32m---> 12\u001b[0m c\u001b[38;5;241m.\u001b[39mport \u001b[38;5;241m=\u001b[39m \u001b[38;5;241m9090\u001b[39m\n",
      "File \u001b[1;32m<string>:4\u001b[0m, in \u001b[0;36m__setattr__\u001b[1;34m(self, name, value)\u001b[0m\n",
      "\u001b[1;31mFrozenInstanceError\u001b[0m: cannot assign to field 'port'"
     ]
    }
   ],
   "source": [
    "from dataclasses import dataclass\n",
    "\n",
    "@dataclass(frozen=True)\n",
    "class Config:\n",
    "    host: str\n",
    "    port: int\n",
    "\n",
    "c = Config(\"localhost\", 8080)\n",
    "print(c.host)  # localhost\n",
    "\n",
    "# Tentando alterar um atributo:\n",
    "c.port = 9090  # ❌ Erro! dataclasses.FrozenInstanceError\n"
   ]
  },
  {
   "cell_type": "markdown",
   "id": "037de3aa",
   "metadata": {},
   "source": [
    "📌 Objetos frozen são hashable\n",
    "\n",
    "Objetos imutáveis podem ser usados como chaves de dicionário ou adicionados a sets:"
   ]
  },
  {
   "cell_type": "code",
   "execution_count": 2,
   "id": "923afa72",
   "metadata": {},
   "outputs": [
    {
     "name": "stdout",
     "output_type": "stream",
     "text": [
      "True\n",
      "Servidor A\n"
     ]
    }
   ],
   "source": [
    "c1 = Config(\"localhost\", 8080)\n",
    "c2 = Config(\"localhost\", 8080)\n",
    "\n",
    "print(c1 == c2)  # True\n",
    "d = {c1: \"Servidor A\"}\n",
    "print(d[c2])     # Servidor A (funciona porque são hashable)\n"
   ]
  },
  {
   "cell_type": "markdown",
   "id": "c5d4bab9",
   "metadata": {},
   "source": [
    "⚠️ Atenção: Imutabilidade não é recursiva!\n",
    "\n",
    "Se você tiver um atributo mutável (lista, dict, set), ele ainda poderá ser alterado, mesmo em uma dataclass frozen."
   ]
  },
  {
   "cell_type": "code",
   "execution_count": 5,
   "id": "03f70899",
   "metadata": {},
   "outputs": [
    {
     "name": "stdout",
     "output_type": "stream",
     "text": [
      "['Luiz']\n"
     ]
    }
   ],
   "source": [
    "from dataclasses import dataclass, field\n",
    "\n",
    "@dataclass(frozen=True)\n",
    "class Team:\n",
    "    name: str\n",
    "    members: list = field(default_factory=list)\n",
    "\n",
    "t = Team(\"Pythonistas\")\n",
    "t.members.append(\"Luiz\")  # ✅ Isso funciona! Lista continua mutável\n",
    "print(t.members)  # ['Luan']"
   ]
  },
  {
   "cell_type": "code",
   "execution_count": null,
   "id": "a35860c8",
   "metadata": {},
   "outputs": [],
   "source": [
    "Se você realmente quer imutabilidade total, use tuplas em vez de listas:"
   ]
  },
  {
   "cell_type": "code",
   "execution_count": 6,
   "id": "51f3b56d",
   "metadata": {},
   "outputs": [],
   "source": [
    "@dataclass(frozen=True)\n",
    "class Team:\n",
    "    name: str\n",
    "    members: tuple = field(default_factory=tuple)\n",
    "\n",
    "t = Team(\"Pythonistas\", members=(\"Luan\",))\n",
    "# t.members += (\"Maria\",)  # ❌ Erro! Tupla é imutável"
   ]
  },
  {
   "cell_type": "code",
   "execution_count": null,
   "id": "d70500fb",
   "metadata": {},
   "outputs": [],
   "source": [
    "📌 frozen e __post_init__\n",
    "\n",
    "Quando usamos frozen=True, não podemos modificar atributos dentro do __post_init__ da forma tradicional.\n",
    "Mas há uma solução: usar object.__setattr__, que bypassa a imutabilidade durante a inicialização.\n",
    "\n",
    "Exemplo:"
   ]
  },
  {
   "cell_type": "code",
   "execution_count": 7,
   "id": "5aceb3c1",
   "metadata": {},
   "outputs": [
    {
     "name": "stdout",
     "output_type": "stream",
     "text": [
      "30.0\n"
     ]
    }
   ],
   "source": [
    "@dataclass(frozen=True)\n",
    "class Order:\n",
    "    product: str\n",
    "    quantity: int\n",
    "    total: float = 0.0\n",
    "\n",
    "    def __post_init__(self):\n",
    "        object.__setattr__(self, \"total\", self.quantity * 10.0)\n",
    "\n",
    "o = Order(\"Caneta\", 3)\n",
    "print(o.total)  # 30.0\n"
   ]
  }
 ],
 "metadata": {
  "kernelspec": {
   "display_name": "base",
   "language": "python",
   "name": "python3"
  },
  "language_info": {
   "codemirror_mode": {
    "name": "ipython",
    "version": 3
   },
   "file_extension": ".py",
   "mimetype": "text/x-python",
   "name": "python",
   "nbconvert_exporter": "python",
   "pygments_lexer": "ipython3",
   "version": "3.12.7"
  }
 },
 "nbformat": 4,
 "nbformat_minor": 5
}
