{
 "cells": [
  {
   "cell_type": "code",
   "execution_count": 1,
   "id": "cb9a3146",
   "metadata": {},
   "outputs": [
    {
     "name": "stdout",
     "output_type": "stream",
     "text": [
      "Falta de eletricidade aconteceu em 03 de Abril de 2002\n"
     ]
    }
   ],
   "source": [
    "\n",
    "# -*- coding: latin1 -*-\n",
    "# importando o módulo string\n",
    "import string\n",
    "# Cria uma string template\n",
    "st = string.Template('$aviso aconteceu em $quando')\n",
    "# Preenche o modelo com um dicionário\n",
    "s = st.substitute({'aviso': 'Falta de eletricidade',\n",
    "'quando': '03 de Abril de 2002'})\n",
    "# Mostra:\n",
    "# Falta de eletricidade aconteceu em 03 de Abril de 2002\n",
    "print (s)"
   ]
  },
  {
   "cell_type": "code",
   "execution_count": 2,
   "id": "ba1d0589",
   "metadata": {},
   "outputs": [
    {
     "name": "stdout",
     "output_type": "stream",
     "text": [
      "Yes\n",
      "Genesis\n",
      "Pink Floyd\n",
      "ELP\n"
     ]
    }
   ],
   "source": [
    "# Uma nova lista: Brit Progs dos anos 70\n",
    "progs = ['Yes', 'Genesis', 'Pink Floyd', 'ELP']\n",
    "# Varrendo a lista inteira\n",
    "for prog in progs:\n",
    "    print (prog)\n"
   ]
  },
  {
   "cell_type": "code",
   "execution_count": 3,
   "id": "004640b0",
   "metadata": {},
   "outputs": [],
   "source": [
    "# Trocando o último elemento\n",
    "progs[-1] = 'King Crimson'\n",
    "# Incluindo\n",
    "progs.append('Camel')\n",
    "# Removendo\n",
    "progs.remove('Pink Floyd')\n",
    "# Ordena a lista\n",
    "progs.sort()\n",
    "# Inverte a lista\n",
    "progs.reverse()\n"
   ]
  },
  {
   "cell_type": "code",
   "execution_count": 4,
   "id": "5a198baa",
   "metadata": {},
   "outputs": [
    {
     "name": "stdout",
     "output_type": "stream",
     "text": [
      "1 => Yes\n",
      "2 => King Crimson\n",
      "3 => Genesis\n",
      "4 => Camel\n",
      "['King Crimson', 'Genesis', 'Camel']\n"
     ]
    }
   ],
   "source": [
    "# Imprime numerado\n",
    "for i, prog in enumerate(progs):\n",
    "    print ( i + 1, '=>', prog)\n",
    "# Imprime do segundo item em diante\n",
    "print (progs[1:])"
   ]
  },
  {
   "cell_type": "code",
   "execution_count": 5,
   "id": "56f474e0",
   "metadata": {},
   "outputs": [
    {
     "name": "stdout",
     "output_type": "stream",
     "text": [
      "lista: ['A', 'B', 'C']\n",
      "Saiu A , faltam 2\n",
      "Saiu B , faltam 1\n",
      "Saiu C , faltam 0\n",
      "lista: ['D', 'E', 'F']\n",
      "Saiu F , faltam 2\n",
      "Saiu E , faltam 1\n",
      "Saiu D , faltam 0\n"
     ]
    }
   ],
   "source": [
    "# -*- coding: latin1 -*-\n",
    "lista = ['A', 'B', 'C']\n",
    "print ('lista:', lista)\n",
    "# A lista vazia é avaliada como falsa\n",
    "while lista:\n",
    "# Em filas, o primeiro item é o primeiro a sair\n",
    "# pop(0) remove e retorna o primeiro item\n",
    "    print ('Saiu', lista.pop(0), ', faltam', len(lista))\n",
    "# Mais itens na lista\n",
    "lista += ['D', 'E', 'F']\n",
    "print ('lista:', lista)\n",
    "while lista:\n",
    "# Em pilhas, o primeiro item é o último a sair\n",
    "# pop() remove e retorna o último item\n",
    "    print ('Saiu', lista.pop(), ', faltam', len(lista))"
   ]
  },
  {
   "cell_type": "code",
   "execution_count": 6,
   "id": "5087304d",
   "metadata": {},
   "outputs": [
    {
     "name": "stdout",
     "output_type": "stream",
     "text": [
      "s1: {0, 1, 2} \n",
      "s2: {8, 9, 10} \n",
      "s3: {8, 2, 4, 6}\n",
      "União de s1 e s2: {0, 1, 2, 8, 9, 10}\n",
      "Diferença com s3: {0, 1, 10, 9}\n",
      "Interseção com s3: {8, 2}\n",
      "s1 inclui 1 e 2\n",
      "s1 e s2 não tem elementos em comum\n"
     ]
    }
   ],
   "source": [
    "# -*- coding: latin1 -*-\n",
    "# Conjuntos de dados\n",
    "s1 = set(range(3))\n",
    "s2 = set(range(10, 7, -1))\n",
    "s3 = set(range(2, 10, 2))\n",
    "# Exibe os dados\n",
    "print ('s1:', s1, '\\ns2:', s2, '\\ns3:', s3)\n",
    "# União\n",
    "s1s2 = s1.union(s2)\n",
    "print ('União de s1 e s2:', s1s2)\n",
    "# Diferença\n",
    "print ('Diferença com s3:', s1s2.difference(s3))\n",
    "# Interseção\n",
    "print('Interseção com s3:', s1s2.intersection(s3))\n",
    "# Testa se um set inclui outro\n",
    "if s1.issuperset([1, 2]):\n",
    "    print ('s1 inclui 1 e 2')\n",
    "# Testa se não existe elementos em comum\n",
    "if s1.isdisjoint(s2):\n",
    "    print ('s1 e s2 não tem elementos em comum')"
   ]
  },
  {
   "cell_type": "code",
   "execution_count": null,
   "id": "907fc67c",
   "metadata": {},
   "outputs": [
    {
     "name": "stdout",
     "output_type": "stream",
     "text": [
      "Yes => ['Close To The Edge', 'Fragile']\n",
      "Genesis => ['Foxtrot', 'The Nursery Crime']\n",
      "ELP => ['Brain Salad Surgery']\n",
      "King Crimson => ['Red', 'Discipline']\n"
     ]
    },
    {
     "ename": "AttributeError",
     "evalue": "'dict' object has no attribute 'has_key'",
     "output_type": "error",
     "traceback": [
      "\u001b[1;31m---------------------------------------------------------------------------\u001b[0m",
      "\u001b[1;31mAttributeError\u001b[0m                            Traceback (most recent call last)",
      "Cell \u001b[1;32mIn[7], line 12\u001b[0m\n\u001b[0;32m     10\u001b[0m     \u001b[38;5;28mprint\u001b[39m (prog, \u001b[38;5;124m'\u001b[39m\u001b[38;5;124m=>\u001b[39m\u001b[38;5;124m'\u001b[39m, albuns)\n\u001b[0;32m     11\u001b[0m \u001b[38;5;66;03m# Se tiver 'ELP', deleta\u001b[39;00m\n\u001b[1;32m---> 12\u001b[0m \u001b[38;5;28;01mif\u001b[39;00m progs\u001b[38;5;241m.\u001b[39mhas_key(\u001b[38;5;124m'\u001b[39m\u001b[38;5;124mELP\u001b[39m\u001b[38;5;124m'\u001b[39m):\n\u001b[0;32m     13\u001b[0m     \u001b[38;5;28;01mdel\u001b[39;00m progs[\u001b[38;5;124m'\u001b[39m\u001b[38;5;124mELP\u001b[39m\u001b[38;5;124m'\u001b[39m]\n",
      "\u001b[1;31mAttributeError\u001b[0m: 'dict' object has no attribute 'has_key'"
     ]
    }
   ],
   "source": [
    "# Progs e seus albuns\n",
    "progs = {'Yes': ['Close To The Edge', 'Fragile'],\n",
    "'Genesis': ['Foxtrot', 'The Nursery Crime'],\n",
    "'ELP': ['Brain Salad Surgery']}\n",
    "# Mais progs\n",
    "progs['King Crimson'] = ['Red', 'Discipline']\n",
    "# items() retorna uma lista de\n",
    "# tuplas com a chave e o valor\n",
    "for prog, albuns in progs.items():\n",
    "    print (prog, '=>', albuns)\n",
    "# Se tiver 'ELP', deleta\n",
    "if progs.has_key('ELP'):\n",
    "    del progs['ELP']"
   ]
  },
  {
   "cell_type": "code",
   "execution_count": 10,
   "id": "3fc0b7a0",
   "metadata": {},
   "outputs": [
    {
     "name": "stdout",
     "output_type": "stream",
     "text": [
      "0\n",
      "0\n",
      "0\n",
      "0\n",
      "0\n",
      "0\n",
      "0\n",
      "0\n",
      "0\n",
      "0\n",
      "0\n",
      "0\n",
      "\n",
      "9\n",
      "0\n",
      "0\n",
      "0\n",
      "0\n",
      "0\n",
      "0\n",
      "0\n",
      "0\n",
      "0\n",
      "0\n",
      "0\n",
      "\n",
      "0\n",
      "0\n",
      "0\n",
      "0\n",
      "0\n",
      "0\n",
      "0\n",
      "0\n",
      "0\n",
      "4\n",
      "0\n",
      "0\n",
      "\n",
      "0\n",
      "0\n",
      "0\n",
      "0\n",
      "0\n",
      "0\n",
      "0\n",
      "3\n",
      "0\n",
      "0\n",
      "0\n",
      "0\n",
      "\n",
      "0\n",
      "0\n",
      "0\n",
      "0\n",
      "0\n",
      "0\n",
      "5\n",
      "0\n",
      "0\n",
      "0\n",
      "0\n",
      "0\n",
      "\n",
      "0\n",
      "0\n",
      "0\n",
      "0\n",
      "6\n",
      "0\n",
      "0\n",
      "0\n",
      "0\n",
      "0\n",
      "0\n",
      "0\n",
      "\n"
     ]
    }
   ],
   "source": [
    "dim = 6, 12\n",
    "mat = {}\n",
    "# Tuplas são imutáveis\n",
    "# Cada tupla representa\n",
    "# uma posição na matriz\n",
    "mat[3, 7] = 3\n",
    "mat[4, 6] = 5\n",
    "mat[6, 3] = 7\n",
    "mat[5, 4] = 6\n",
    "mat[2, 9] = 4\n",
    "mat[1, 0] = 9\n",
    "for lin in range(dim[0]):\n",
    "    for col in range(dim[1]):\n",
    "# Método get(chave, valor)\n",
    "# retorna o valor da chave\n",
    "# no dicionário ou se a chave\n",
    "# não existir, retorna o\n",
    "# segundo argumento\n",
    "        print (mat.get((lin, col), 0) ),\n",
    "    print()"
   ]
  },
  {
   "cell_type": "code",
   "execution_count": 11,
   "id": "89533d70",
   "metadata": {},
   "outputs": [
    {
     "name": "stdout",
     "output_type": "stream",
     "text": [
      "{(1, 0): 9, (2, 9): 4, (3, 7): 3, (4, 6): 5, (5, 4): 6}\n",
      "Tamanho da matriz completa: 72\n",
      "Tamanho da matriz esparsa: 5\n"
     ]
    }
   ],
   "source": [
    "matriz = '''0 0 0 0 0 0 0 0 0 0 0 0\n",
    "9 0 0 0 0 0 0 0 0 0 0 0\n",
    "0 0 0 0 0 0 0 0 0 4 0 0\n",
    "0 0 0 0 0 0 0 3 0 0 0 0\n",
    "0 0 0 0 0 0 5 0 0 0 0 0\n",
    "0 0 0 0 6 0 0 0 0 0 0 0'''\n",
    "\n",
    "mat = {}\n",
    "# Quebra a matriz em linhas\n",
    "for lin, linha in enumerate(matriz.splitlines()):\n",
    "# Quebra a linha em colunas\n",
    "    for col, coluna in enumerate(linha.split()):\n",
    "        coluna = int(coluna)\n",
    "# Coloca a coluna no resultado,\n",
    "# se for diferente de zero\n",
    "        if coluna:\n",
    "            mat[lin, col] = coluna\n",
    "print (mat)\n",
    "# Some um nas dimensões pois a contagem começa em zero\n",
    "print ('Tamanho da matriz completa:', (lin + 1) * (col + 1))\n",
    "print ('Tamanho da matriz esparsa:', len(mat))"
   ]
  },
  {
   "cell_type": "code",
   "execution_count": 13,
   "id": "df04730d",
   "metadata": {},
   "outputs": [
    {
     "name": "stdout",
     "output_type": "stream",
     "text": [
      "120\n"
     ]
    }
   ],
   "source": [
    "def fatorial(num):\n",
    "    if num <= 1:\n",
    "        return 1\n",
    "    else:\n",
    "        return(num * fatorial(num - 1))\n",
    "# Testando fatorial()\n",
    "print (fatorial(5))\n"
   ]
  },
  {
   "cell_type": "code",
   "execution_count": 14,
   "id": "5e7c3a8c",
   "metadata": {},
   "outputs": [],
   "source": [
    "def fatorial(n):\n",
    "    n = n if n > 1 else 1\n",
    "    j = 1\n",
    "    for i in range(1, n + 1):\n",
    "        j = j * i\n",
    "        return j\n",
    "# Testando...\n",
    "    for i in range(1, 6):\n",
    "        print (i, '->', fatorial(i))"
   ]
  },
  {
   "cell_type": "code",
   "execution_count": 15,
   "id": "3ddc82a9",
   "metadata": {},
   "outputs": [
    {
     "name": "stdout",
     "output_type": "stream",
     "text": [
      "1 => 1\n",
      "2 => 2\n",
      "3 => 3\n",
      "4 => 5\n",
      "5 => 8\n"
     ]
    }
   ],
   "source": [
    "def fib(n):\n",
    "    \"\"\"Fibonacci:\n",
    "    fib(n) = fib(n - 1) + fib(n - 2) se n > 1\n",
    "    \"\"\"\n",
    "    if n > 1:\n",
    "        return fib(n - 1) + fib(n - 2)\n",
    "    else:\n",
    "        return 1\n",
    "# Mostrar Fibonacci de 1 a 5\n",
    "for i in [1, 2, 3, 4, 5]:\n",
    "    print (i, '=>', fib(i))"
   ]
  },
  {
   "cell_type": "code",
   "execution_count": 16,
   "id": "bb3dff40",
   "metadata": {},
   "outputs": [
    {
     "name": "stdout",
     "output_type": "stream",
     "text": [
      "1 => 1\n",
      "2 => 2\n",
      "3 => 3\n",
      "4 => 5\n",
      "5 => 8\n"
     ]
    }
   ],
   "source": [
    "def fib(n):\n",
    "    \"\"\"Fibonacci:\n",
    "    fib(n) = fib(n - 1) + fib(n - 2) se n > 1\n",
    "    fib(n) = 1 se n <= 1\n",
    "    \"\"\"\n",
    "# Dois primeiros valores\n",
    "    l = [1, 1]\n",
    "# Calculando os outros\n",
    "    for i in range(2, n + 1):\n",
    "        l.append(l[i -1] + l[i - 2])\n",
    "    return l[n]\n",
    "# Mostrar Fibonacci de 1 a 5\n",
    "for i in [1, 2, 3, 4, 5]:\n",
    "    print ( i, '=>', fib(i))"
   ]
  },
  {
   "cell_type": "code",
   "execution_count": 18,
   "id": "13a9362d",
   "metadata": {},
   "outputs": [
    {
     "name": "stdout",
     "output_type": "stream",
     "text": [
      "#c8c8ff\n",
      "#ffc8c8\n",
      "(200, 200, 255)\n"
     ]
    }
   ],
   "source": [
    "def rgb_html(r=0, g=0, b=0):\n",
    "    \"\"\"Converte R, G, B em #RRGGBB\"\"\"\n",
    "    return '#%02x%02x%02x' % (r, g, b)\n",
    "def html_rgb(color='#000000'):\n",
    "    \"\"\"Converte #RRGGBB em R, G, B\"\"\"\n",
    "    if color.startswith('#'): \n",
    "        color = color[1:]\n",
    "        r = int(color[:2], 16)\n",
    "        g = int(color[2:4], 16)\n",
    "        b = int(color[4:], 16)\n",
    "    return r, g, b # Uma sequência\n",
    "print (rgb_html(200, 200, 255))\n",
    "print (rgb_html(b=200, g=200, r=255)) # O que houve?\n",
    "print (html_rgb('#c8c8ff'))\n",
    "\n"
   ]
  },
  {
   "cell_type": "code",
   "execution_count": 19,
   "id": "7953c83e",
   "metadata": {},
   "outputs": [
    {
     "name": "stdout",
     "output_type": "stream",
     "text": [
      "('peso', 10)\n",
      "{'unidade': 'k'}\n"
     ]
    }
   ],
   "source": [
    "def func(*args, **kargs):\n",
    "    print (args)\n",
    "    print (kargs)\n",
    "func('peso', 10, unidade='k')"
   ]
  },
  {
   "cell_type": "code",
   "execution_count": 21,
   "id": "3ffe84d1",
   "metadata": {},
   "outputs": [
    {
     "name": "stdout",
     "output_type": "stream",
     "text": [
      "Lista: [(4, 3), (5, 1), (7, 2), (9, 0)]\n"
     ]
    },
    {
     "ename": "TypeError",
     "evalue": "sorted expected 1 argument, got 2",
     "output_type": "error",
     "traceback": [
      "\u001b[1;31m---------------------------------------------------------------------------\u001b[0m",
      "\u001b[1;31mTypeError\u001b[0m                                 Traceback (most recent call last)",
      "Cell \u001b[1;32mIn[21], line 7\u001b[0m\n\u001b[0;32m      5\u001b[0m \u001b[38;5;28mprint\u001b[39m (\u001b[38;5;124m'\u001b[39m\u001b[38;5;124mLista:\u001b[39m\u001b[38;5;124m'\u001b[39m, dados)\n\u001b[0;32m      6\u001b[0m \u001b[38;5;66;03m# Ordena usando _cmp()\u001b[39;00m\n\u001b[1;32m----> 7\u001b[0m \u001b[38;5;28mprint\u001b[39m (\u001b[38;5;124m'\u001b[39m\u001b[38;5;124mOrdenada:\u001b[39m\u001b[38;5;124m'\u001b[39m, \u001b[38;5;28msorted\u001b[39m(dados, _cmp))\n",
      "\u001b[1;31mTypeError\u001b[0m: sorted expected 1 argument, got 2"
     ]
    }
   ],
   "source": [
    "dados = [(4, 3), (5, 1), (7, 2), (9, 0)]\n",
    "# Comparando pelo último elemento\n",
    "def _cmp(x, y):\n",
    "    return _cmp(x[-1], y[-1])\n",
    "print ('Lista:', dados)\n",
    "# Ordena usando _cmp()\n",
    "print ('Ordenada:', sorted(dados, _cmp))"
   ]
  }
 ],
 "metadata": {
  "kernelspec": {
   "display_name": "base",
   "language": "python",
   "name": "python3"
  },
  "language_info": {
   "codemirror_mode": {
    "name": "ipython",
    "version": 3
   },
   "file_extension": ".py",
   "mimetype": "text/x-python",
   "name": "python",
   "nbconvert_exporter": "python",
   "pygments_lexer": "ipython3",
   "version": "3.12.7"
  }
 },
 "nbformat": 4,
 "nbformat_minor": 5
}
