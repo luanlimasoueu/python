{
 "cells": [
  {
   "cell_type": "code",
   "execution_count": 1,
   "id": "a83d0f32",
   "metadata": {},
   "outputs": [],
   "source": [
    "def decorator(f):\n",
    "    f.decorated = True\n",
    "    return f\n",
    "\n",
    "@decorator\n",
    "def func(arg):\n",
    "    return arg"
   ]
  },
  {
   "cell_type": "code",
   "execution_count": 3,
   "id": "dca27f35",
   "metadata": {},
   "outputs": [
    {
     "name": "stdout",
     "output_type": "stream",
     "text": [
      "decorator (1, 2, 3)\n",
      "funcaão 6\n"
     ]
    }
   ],
   "source": [
    "#Função decoradora\n",
    "def dumpargs(f):\n",
    "# Função que envolverá a outra\n",
    "    def func(*args):\n",
    "# Mostra os argumentos passados para a função\n",
    "        print ( 'decorator',args)\n",
    "# Retorna o resultado da função original\n",
    "        return f(*args)\n",
    "# Retorna a função modificada\n",
    "    return func\n",
    "@dumpargs\n",
    "def multiply(*nums):\n",
    "    m = 1\n",
    "    for n in nums:\n",
    "        m = m * n\n",
    "    return m\n",
    "print ('funcaão' , multiply(1, 2, 3))"
   ]
  }
 ],
 "metadata": {
  "kernelspec": {
   "display_name": "base",
   "language": "python",
   "name": "python3"
  },
  "language_info": {
   "codemirror_mode": {
    "name": "ipython",
    "version": 3
   },
   "file_extension": ".py",
   "mimetype": "text/x-python",
   "name": "python",
   "nbconvert_exporter": "python",
   "pygments_lexer": "ipython3",
   "version": "3.12.7"
  }
 },
 "nbformat": 4,
 "nbformat_minor": 5
}
