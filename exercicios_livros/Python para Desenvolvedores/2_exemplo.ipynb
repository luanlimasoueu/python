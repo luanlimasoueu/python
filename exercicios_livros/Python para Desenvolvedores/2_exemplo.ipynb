{
 "cells": [
  {
   "cell_type": "code",
   "execution_count": null,
   "id": "a83d0f32",
   "metadata": {},
   "outputs": [],
   "source": [
    "def decorator(f):\n",
    "    f.decorated = True\n",
    "    return f\n",
    "\n",
    "@decorator\n",
    "def func(arg):\n",
    "    return arg"
   ]
  }
 ],
 "metadata": {
  "kernelspec": {
   "display_name": "base",
   "language": "python",
   "name": "python3"
  },
  "language_info": {
   "name": "python",
   "version": "3.12.7"
  }
 },
 "nbformat": 4,
 "nbformat_minor": 5
}
