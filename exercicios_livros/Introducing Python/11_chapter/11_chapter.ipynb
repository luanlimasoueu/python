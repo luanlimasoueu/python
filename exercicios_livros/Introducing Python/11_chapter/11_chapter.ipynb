{
 "cells": [
  {
   "cell_type": "markdown",
   "metadata": {},
   "source": [
    "Processes"
   ]
  },
  {
   "cell_type": "code",
   "execution_count": null,
   "metadata": {},
   "outputs": [
    {
     "name": "stdout",
     "output_type": "stream",
     "text": [
      "Washing salad dish\n",
      "Washing bread dish\n",
      "Washing entree dish\n",
      "Washing dessert dish\n"
     ]
    }
   ],
   "source": [
    "import multiprocessing as mp\n",
    "def washer(dishes, output):\n",
    "    for dish in dishes:\n",
    "        print('Washing', dish, 'dish')\n",
    "        output.put(dish)\n",
    "def dryer(input):\n",
    "    while True:\n",
    "        dish = input.get()\n",
    "        print('Drying', dish, 'dish')\n",
    "        input.task_done()\n",
    "dish_queue = mp.JoinableQueue()\n",
    "dryer_proc = mp.Process(target=dryer, args=(dish_queue,))\n",
    "dryer_proc.daemon = True\n",
    "dryer_proc.start()\n",
    "dishes = ['salad', 'bread', 'entree', 'dessert']\n",
    "washer(dishes, dish_queue)\n",
    "dish_queue.join()"
   ]
  },
  {
   "cell_type": "code",
   "execution_count": null,
   "metadata": {},
   "outputs": [],
   "source": []
  }
 ],
 "metadata": {
  "kernelspec": {
   "display_name": "Python 3",
   "language": "python",
   "name": "python3"
  },
  "language_info": {
   "codemirror_mode": {
    "name": "ipython",
    "version": 3
   },
   "file_extension": ".py",
   "mimetype": "text/x-python",
   "name": "python",
   "nbconvert_exporter": "python",
   "pygments_lexer": "ipython3",
   "version": "3.10.7"
  }
 },
 "nbformat": 4,
 "nbformat_minor": 2
}
