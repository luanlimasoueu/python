{
 "cells": [
  {
   "cell_type": "markdown",
   "metadata": {},
   "source": [
    "Py Boxes: Modules, Packages,\n",
    "and Programs"
   ]
  },
  {
   "cell_type": "markdown",
   "metadata": {},
   "source": [
    "Standalone Programs"
   ]
  },
  {
   "cell_type": "code",
   "execution_count": 1,
   "metadata": {},
   "outputs": [
    {
     "name": "stdout",
     "output_type": "stream",
     "text": [
      "This interactive snippet works.\n"
     ]
    }
   ],
   "source": [
    "print(\"This interactive snippet works.\")"
   ]
  },
  {
   "cell_type": "code",
   "execution_count": 2,
   "metadata": {},
   "outputs": [
    {
     "name": "stdout",
     "output_type": "stream",
     "text": [
      "This standalone program works!\n"
     ]
    }
   ],
   "source": [
    "print(\"This standalone program works!\")"
   ]
  },
  {
   "cell_type": "markdown",
   "metadata": {},
   "source": [
    "The Python Standard Library"
   ]
  },
  {
   "cell_type": "code",
   "execution_count": 3,
   "metadata": {},
   "outputs": [
    {
     "name": "stdout",
     "output_type": "stream",
     "text": [
      "{'Hydrogen': 1, 'Helium': 2}\n"
     ]
    }
   ],
   "source": [
    "periodic_table = {'Hydrogen': 1, 'Helium': 2}\n",
    "print(periodic_table)"
   ]
  },
  {
   "cell_type": "code",
   "execution_count": 4,
   "metadata": {},
   "outputs": [
    {
     "data": {
      "text/plain": [
       "12"
      ]
     },
     "execution_count": 4,
     "metadata": {},
     "output_type": "execute_result"
    }
   ],
   "source": [
    "carbon = periodic_table.setdefault('Carbon', 12)\n",
    "carbon"
   ]
  },
  {
   "cell_type": "code",
   "execution_count": 6,
   "metadata": {},
   "outputs": [
    {
     "data": {
      "text/plain": [
       "2"
      ]
     },
     "execution_count": 6,
     "metadata": {},
     "output_type": "execute_result"
    }
   ],
   "source": [
    "helium = periodic_table.setdefault('Helium', 947)\n",
    "helium"
   ]
  },
  {
   "cell_type": "code",
   "execution_count": 7,
   "metadata": {},
   "outputs": [
    {
     "data": {
      "text/plain": [
       "{'Hydrogen': 1, 'Helium': 2, 'Carbon': 12}"
      ]
     },
     "execution_count": 7,
     "metadata": {},
     "output_type": "execute_result"
    }
   ],
   "source": [
    "periodic_table"
   ]
  },
  {
   "cell_type": "code",
   "execution_count": 8,
   "metadata": {},
   "outputs": [],
   "source": [
    "from collections import defaultdict\n",
    "periodic_table = defaultdict(int)"
   ]
  },
  {
   "cell_type": "code",
   "execution_count": 9,
   "metadata": {},
   "outputs": [
    {
     "data": {
      "text/plain": [
       "0"
      ]
     },
     "execution_count": 9,
     "metadata": {},
     "output_type": "execute_result"
    }
   ],
   "source": [
    "periodic_table['Hydrogen'] = 1\n",
    "periodic_table['Lead']"
   ]
  },
  {
   "cell_type": "code",
   "execution_count": 11,
   "metadata": {},
   "outputs": [
    {
     "data": {
      "text/plain": [
       "defaultdict(int, {'Hydrogen': 1, 'Lead': 0})"
      ]
     },
     "execution_count": 11,
     "metadata": {},
     "output_type": "execute_result"
    }
   ],
   "source": [
    "periodic_table"
   ]
  },
  {
   "cell_type": "code",
   "execution_count": null,
   "metadata": {},
   "outputs": [],
   "source": [
    "from collections import defaultdict\n",
    ">>>\n",
    ">>> def no_idea():\n",
    "... return 'Huh?'\n",
    "...\n",
    ">>> bestiary = defaultdict(no_idea)\n",
    ">>> bestiary['A'] = 'Abominable Snowman'\n",
    ">>> bestiary['B'] = 'Basilisk'\n",
    ">>> bestiary['A']\n",
    "'Abominable Snowman'\n",
    ">>> bestiary['B']\n",
    "'Basilisk'\n",
    ">>> bestiary['C']\n",
    "'Huh?'"
   ]
  },
  {
   "cell_type": "code",
   "execution_count": null,
   "metadata": {},
   "outputs": [],
   "source": [
    "bestiary = defaultdict(lambda: 'Huh?')\n",
    ">>> bestiary['E']"
   ]
  },
  {
   "cell_type": "code",
   "execution_count": null,
   "metadata": {},
   "outputs": [],
   "source": [
    "from collections import defaultdict\n",
    ">>> food_counter = defaultdict(int)\n",
    ">>> for food in ['spam', 'spam', 'eggs', 'spam']:\n",
    "... food_counter[food] += 1\n",
    "...\n",
    ">>> for food, count in food_counter.items():\n",
    "... print(food, count)"
   ]
  },
  {
   "cell_type": "code",
   "execution_count": null,
   "metadata": {},
   "outputs": [],
   "source": [
    "dict_counter = {}\n",
    ">>> for food in ['spam', 'spam', 'eggs', 'spam']:\n",
    "... if not food in dict_counter:\n",
    "... dict_counter[food] = 0\n",
    "... dict_counter[food] += 1\n",
    "...\n",
    ">>> for food, count in dict_counter.items():\n",
    "... print(food, count)"
   ]
  },
  {
   "cell_type": "markdown",
   "metadata": {},
   "source": [
    "Count Items with Counter()"
   ]
  },
  {
   "cell_type": "code",
   "execution_count": null,
   "metadata": {},
   "outputs": [],
   "source": [
    "from collections import Counter\n",
    ">>> breakfast = ['spam', 'spam', 'eggs', 'spam']\n",
    ">>> breakfast_counter = Counter(breakfast)\n",
    ">>> breakfast_counter"
   ]
  },
  {
   "cell_type": "code",
   "execution_count": null,
   "metadata": {},
   "outputs": [],
   "source": [
    "breakfast_counter.most_common()"
   ]
  },
  {
   "cell_type": "code",
   "execution_count": null,
   "metadata": {},
   "outputs": [],
   "source": [
    "breakfast_counter.most_common(1)"
   ]
  },
  {
   "cell_type": "code",
   "execution_count": null,
   "metadata": {},
   "outputs": [],
   "source": [
    "breakfast_counter"
   ]
  },
  {
   "cell_type": "code",
   "execution_count": null,
   "metadata": {},
   "outputs": [],
   "source": [
    "lunch = ['eggs', 'eggs', 'bacon']\n",
    ">>> lunch_counter = Counter(lunch)\n",
    ">>> lunch_counter"
   ]
  },
  {
   "cell_type": "code",
   "execution_count": null,
   "metadata": {},
   "outputs": [],
   "source": [
    "breakfast_counter + lunch_counter"
   ]
  },
  {
   "cell_type": "code",
   "execution_count": null,
   "metadata": {},
   "outputs": [],
   "source": [
    "breakfast_counter - lunch_counter"
   ]
  },
  {
   "cell_type": "code",
   "execution_count": null,
   "metadata": {},
   "outputs": [],
   "source": [
    "lunch_counter - breakfast_counter"
   ]
  },
  {
   "cell_type": "code",
   "execution_count": null,
   "metadata": {},
   "outputs": [],
   "source": [
    "breakfast_counter & lunch_counter"
   ]
  },
  {
   "cell_type": "code",
   "execution_count": null,
   "metadata": {},
   "outputs": [],
   "source": [
    "breakfast_counter | lunch_counter"
   ]
  },
  {
   "cell_type": "markdown",
   "metadata": {},
   "source": [
    "Order by Key with OrderedDict()"
   ]
  },
  {
   "cell_type": "code",
   "execution_count": null,
   "metadata": {},
   "outputs": [],
   "source": [
    "quotes = {\n",
    "... 'Moe': 'A wise guy, huh?',\n",
    "... 'Larry': 'Ow!',\n",
    "... 'Curly': 'Nyuk nyuk!',\n",
    "... }\n",
    ">>> for stooge in quotes:\n",
    "... print(stooge)"
   ]
  },
  {
   "cell_type": "code",
   "execution_count": null,
   "metadata": {},
   "outputs": [],
   "source": [
    "from collections import OrderedDict\n",
    ">>> quotes = OrderedDict([\n",
    "... ('Moe', 'A wise guy, huh?'),\n",
    "... ('Larry', 'Ow!'),\n",
    "... ('Curly', 'Nyuk nyuk!'),\n",
    "... ])\n",
    ">>>\n",
    ">>> for stooge in quotes:\n",
    "... print(stooge)"
   ]
  },
  {
   "cell_type": "markdown",
   "metadata": {},
   "source": [
    "Stack + Queue == deque"
   ]
  },
  {
   "cell_type": "code",
   "execution_count": null,
   "metadata": {},
   "outputs": [],
   "source": [
    "def palindrome(word):\n",
    "... from collections import deque\n",
    "... dq = deque(word)\n",
    "... while len(dq) > 1:\n",
    "... if dq.popleft() != dq.pop():\n",
    "... return False\n",
    "... return True"
   ]
  },
  {
   "cell_type": "code",
   "execution_count": null,
   "metadata": {},
   "outputs": [],
   "source": [
    "palindrome('a')\n",
    "True\n",
    ">>> palindrome('racecar')\n",
    "True\n",
    ">>> palindrome('')\n",
    "True\n",
    ">>> palindrome('radar')\n",
    "True\n",
    ">>> palindrome('halibut')"
   ]
  },
  {
   "cell_type": "code",
   "execution_count": null,
   "metadata": {},
   "outputs": [],
   "source": [
    "def another_palindrome(word):\n",
    "... return word == word[::-1]\n",
    "...\n",
    ">>> another_palindrome('radar')\n",
    "True\n",
    ">>> another_palindrome('halibut')"
   ]
  },
  {
   "cell_type": "markdown",
   "metadata": {},
   "source": [
    "Iterate over Code Structures with itertools"
   ]
  },
  {
   "cell_type": "markdown",
   "metadata": {},
   "source": [
    "import itertools\n",
    ">>> for item in itertools.chain([1, 2], ['a', 'b']):\n",
    "... print(item)"
   ]
  },
  {
   "cell_type": "code",
   "execution_count": null,
   "metadata": {},
   "outputs": [],
   "source": [
    "import itertools\n",
    ">>> for item in itertools.cycle([1, 2]):\n",
    "... print(item)\n",
    "...\n",
    "1\n",
    "2"
   ]
  },
  {
   "cell_type": "code",
   "execution_count": null,
   "metadata": {},
   "outputs": [],
   "source": [
    "import itertools\n",
    ">>> for item in itertools.accumulate([1, 2, 3, 4]):\n",
    "... print(item)"
   ]
  },
  {
   "cell_type": "code",
   "execution_count": null,
   "metadata": {},
   "outputs": [],
   "source": [
    "import itertools\n",
    ">>> def multiply(a, b):\n",
    "... return a * b\n",
    "...\n",
    ">>> for item in itertools.accumulate([1, 2, 3, 4], multiply):\n",
    "... print(item)"
   ]
  },
  {
   "cell_type": "markdown",
   "metadata": {},
   "source": [
    "Print Nicely with pprint()"
   ]
  },
  {
   "cell_type": "code",
   "execution_count": null,
   "metadata": {},
   "outputs": [],
   "source": [
    "from pprint import pprint\n",
    ">>> quotes = OrderedDict([('Moe', 'A wise guy, huh?'),\n",
    "... ('Larry', 'Ow!'),\n",
    "... ('Curly', 'Nyuk nyuk!'),\n",
    "... ])\n"
   ]
  },
  {
   "cell_type": "markdown",
   "metadata": {},
   "source": []
  }
 ],
 "metadata": {
  "kernelspec": {
   "display_name": "Python 3",
   "language": "python",
   "name": "python3"
  },
  "language_info": {
   "codemirror_mode": {
    "name": "ipython",
    "version": 3
   },
   "file_extension": ".py",
   "mimetype": "text/x-python",
   "name": "python",
   "nbconvert_exporter": "python",
   "pygments_lexer": "ipython3",
   "version": "3.10.7"
  }
 },
 "nbformat": 4,
 "nbformat_minor": 2
}
