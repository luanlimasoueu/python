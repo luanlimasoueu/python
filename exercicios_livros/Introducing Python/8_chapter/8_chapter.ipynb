{
 "cells": [
  {
   "cell_type": "markdown",
   "metadata": {},
   "source": [
    "Data Has to Go Somewhere"
   ]
  },
  {
   "cell_type": "code",
   "execution_count": 1,
   "metadata": {},
   "outputs": [
    {
     "data": {
      "text/plain": [
       "150"
      ]
     },
     "execution_count": 1,
     "metadata": {},
     "output_type": "execute_result"
    }
   ],
   "source": [
    "poem = '''There was a young lady named Bright,\n",
    "Whose speed was far faster than light;\n",
    "She started one day\n",
    "In a relative way,\n",
    "And returned on the previous night.'''\n",
    "len(poem)"
   ]
  },
  {
   "cell_type": "code",
   "execution_count": 2,
   "metadata": {},
   "outputs": [],
   "source": [
    "fout = open('relativity', 'wt')\n",
    "fout.write(poem)\n",
    "\n",
    "fout.close()"
   ]
  },
  {
   "cell_type": "code",
   "execution_count": 3,
   "metadata": {},
   "outputs": [],
   "source": [
    "fout = open('relativity_1', 'wt')\n",
    "print(poem, file=fout)\n",
    "fout.close()"
   ]
  },
  {
   "cell_type": "code",
   "execution_count": 4,
   "metadata": {},
   "outputs": [],
   "source": [
    "fout = open('relativity_2', 'wt')\n",
    "print(poem, file=fout, sep='', end='')\n",
    "fout.close()"
   ]
  },
  {
   "cell_type": "code",
   "execution_count": 5,
   "metadata": {},
   "outputs": [],
   "source": [
    "fout = open('relativity_3', 'wt')\n",
    "size = len(poem)\n",
    "offset = 0\n",
    "chunk = 100\n",
    "while True:\n",
    "    if offset > size:\n",
    "        break\n",
    "    fout.write(poem[offset:offset+chunk])\n",
    "    offset += chunk\n",
    "\n",
    "fout.close()"
   ]
  },
  {
   "cell_type": "markdown",
   "metadata": {},
   "source": [
    "Read a Text File with read(), readline(), or readlines()"
   ]
  },
  {
   "cell_type": "code",
   "execution_count": 6,
   "metadata": {},
   "outputs": [
    {
     "data": {
      "text/plain": [
       "150"
      ]
     },
     "execution_count": 6,
     "metadata": {},
     "output_type": "execute_result"
    }
   ],
   "source": [
    "fin = open('relativity', 'rt' )\n",
    "poem = fin.read()\n",
    "fin.close()\n",
    "len(poem)"
   ]
  },
  {
   "cell_type": "code",
   "execution_count": 7,
   "metadata": {},
   "outputs": [
    {
     "data": {
      "text/plain": [
       "'There was a young lady named Bright,\\nWhose speed was far faster than light;\\nShe started one day\\nIn a relative way,\\nAnd returned on the previous night.'"
      ]
     },
     "execution_count": 7,
     "metadata": {},
     "output_type": "execute_result"
    }
   ],
   "source": [
    "poem"
   ]
  },
  {
   "cell_type": "code",
   "execution_count": 8,
   "metadata": {},
   "outputs": [
    {
     "data": {
      "text/plain": [
       "150"
      ]
     },
     "execution_count": 8,
     "metadata": {},
     "output_type": "execute_result"
    }
   ],
   "source": [
    "poem = ''\n",
    "fin = open('relativity', 'rt' )\n",
    "chunk = 100\n",
    "while True:\n",
    "    fragment = fin.read(chunk)\n",
    "    if not fragment:\n",
    "        break\n",
    "    poem += fragment\n",
    "\n",
    "fin.close()\n",
    "len(poem)"
   ]
  },
  {
   "cell_type": "code",
   "execution_count": 9,
   "metadata": {},
   "outputs": [
    {
     "data": {
      "text/plain": [
       "'There was a young lady named Bright,\\nWhose speed was far faster than light;\\nShe started one day\\nIn a relative way,\\nAnd returned on the previous night.'"
      ]
     },
     "execution_count": 9,
     "metadata": {},
     "output_type": "execute_result"
    }
   ],
   "source": [
    "poem"
   ]
  },
  {
   "cell_type": "code",
   "execution_count": null,
   "metadata": {},
   "outputs": [],
   "source": [
    "poem = ''\n",
    ">>> fin = open('relativity', 'rt' )\n",
    ">>> while True:\n",
    "... line = fin.readline()\n",
    "... if not line:\n",
    "... break\n",
    "... poem += line\n",
    "...\n",
    ">>> fin.close()\n",
    "len(poem)\n"
   ]
  },
  {
   "cell_type": "code",
   "execution_count": null,
   "metadata": {},
   "outputs": [],
   "source": [
    "poem = ''\n",
    ">>> fin = open('relativity', 'rt' )\n",
    ">>> for line in fin:\n",
    "... poem += line\n",
    "...\n",
    ">>> fin.close()\n",
    ">>> len(poem)"
   ]
  },
  {
   "cell_type": "code",
   "execution_count": null,
   "metadata": {},
   "outputs": [],
   "source": [
    "fin = open('relativity', 'rt' )\n",
    ">>> lines = fin.readlines()\n",
    ">>> fin.close()\n",
    ">>> print(len(lines), 'lines read')\n",
    "5 lines read\n",
    ">>> for line in lines:\n",
    "... print(line, end='')"
   ]
  }
 ],
 "metadata": {
  "kernelspec": {
   "display_name": "Python 3",
   "language": "python",
   "name": "python3"
  },
  "language_info": {
   "codemirror_mode": {
    "name": "ipython",
    "version": 3
   },
   "file_extension": ".py",
   "mimetype": "text/x-python",
   "name": "python",
   "nbconvert_exporter": "python",
   "pygments_lexer": "ipython3",
   "version": "3.10.7"
  }
 },
 "nbformat": 4,
 "nbformat_minor": 2
}
