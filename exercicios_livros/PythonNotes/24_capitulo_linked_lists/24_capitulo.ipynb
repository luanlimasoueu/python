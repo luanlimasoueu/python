{
 "cells": [
  {
   "cell_type": "code",
   "execution_count": null,
   "metadata": {},
   "outputs": [],
   "source": [
    "class Node:\n",
    "        \n",
    "        def __init__(self, val):\n",
    "            self.data = val\n",
    "            self.next = None\n",
    "        \n",
    "        def getData(self):\n",
    "            return self.data\n",
    "        \n",
    "        def getNext(self):\n",
    "            return self.next\n",
    "        \n",
    "        def setData(self, val):\n",
    "            self.data = val\n",
    "        \n",
    "        def setNext(self, val):\n",
    "            self.next = val\n",
    "\n",
    "class LinkedList:\n",
    "        def __init__(self):\n",
    "            self.head = None\n",
    "            \n",
    "        def isEmpty(self):\n",
    "            \"\"\"Check if the list is empty\"\"\"\n",
    "            return self.head is None\n",
    "def add(self, item):\n",
    "\"\"\"Add the item to the list\"\"\"\n",
    "new_node = Node(item)\n",
    "new_node.setNext(self.head)\n",
    "self.head = new_node\n",
    "def size(self):\n",
    "\"\"\"Return the length/size of the list\"\"\"\n",
    "count = 0\n",
    "current = self.head\n",
    "while current is not None:\n",
    "count += 1\n",
    "current = current.getNext()\n",
    "return count\n",
    "def search(self, item):\n",
    "\"\"\"Search for item in list. If found, return True. If not found, return False\"\"\"\n",
    "current = self.head\n",
    "found = False\n",
    "while current is not None and not found:\n",
    "if current.getData() is item:\n",
    "found = True\n",
    "else:\n",
    "current = current.getNext()"
   ]
  }
 ],
 "metadata": {
  "language_info": {
   "name": "python"
  }
 },
 "nbformat": 4,
 "nbformat_minor": 2
}
