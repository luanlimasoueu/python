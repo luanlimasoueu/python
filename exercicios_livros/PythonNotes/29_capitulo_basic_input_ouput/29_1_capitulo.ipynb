{
 "cells": [
  {
   "cell_type": "markdown",
   "metadata": {},
   "source": [
    "Chapter 29: Basic Input and Output"
   ]
  },
  {
   "cell_type": "code",
   "execution_count": 1,
   "metadata": {},
   "outputs": [],
   "source": [
    "with open('shoppinglist.txt', 'w') as fileobj:\n",
    "    fileobj.write('tomato\\npasta\\ngarlic')"
   ]
  },
  {
   "cell_type": "code",
   "execution_count": 2,
   "metadata": {},
   "outputs": [
    {
     "name": "stdout",
     "output_type": "stream",
     "text": [
      "['tomato\\n', 'pasta\\n', 'garlic']\n"
     ]
    }
   ],
   "source": [
    "with open('shoppinglist.txt', 'r') as fileobj:\n",
    "    lines = fileobj.readlines()\n",
    "print(lines)"
   ]
  },
  {
   "cell_type": "code",
   "execution_count": 3,
   "metadata": {},
   "outputs": [
    {
     "name": "stdout",
     "output_type": "stream",
     "text": [
      "['tomato', 'pasta', 'garlic']\n"
     ]
    }
   ],
   "source": [
    "with open('shoppinglist.txt', 'r') as fileobj:\n",
    "    content = fileobj.read()\n",
    "    lines = content.split('\\n')\n",
    "print(lines)"
   ]
  }
 ],
 "metadata": {
  "kernelspec": {
   "display_name": "Python 3",
   "language": "python",
   "name": "python3"
  },
  "language_info": {
   "codemirror_mode": {
    "name": "ipython",
    "version": 3
   },
   "file_extension": ".py",
   "mimetype": "text/x-python",
   "name": "python",
   "nbconvert_exporter": "python",
   "pygments_lexer": "ipython3",
   "version": "3.10.7"
  }
 },
 "nbformat": 4,
 "nbformat_minor": 2
}
