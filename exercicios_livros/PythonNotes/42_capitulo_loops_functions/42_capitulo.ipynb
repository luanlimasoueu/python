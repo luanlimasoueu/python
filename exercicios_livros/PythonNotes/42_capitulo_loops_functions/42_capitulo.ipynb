{
 "cells": [
  {
   "cell_type": "code",
   "execution_count": 1,
   "metadata": {},
   "outputs": [
    {
     "name": "stdout",
     "output_type": "stream",
     "text": [
      "Got value 5\n",
      "Still looping\n",
      "Got value 3\n",
      "Still looping\n",
      "Got value 1\n",
      ">>>> Got 1\n"
     ]
    }
   ],
   "source": [
    "def func(params):\n",
    "    for value in params:\n",
    "        print ('Got value {}'.format(value))\n",
    "        if value == 1:\n",
    "\n",
    "            print (\">>>> Got 1\")\n",
    "            return\n",
    "        print (\"Still looping\")\n",
    "    return \"Couldn't find 1\"\n",
    "func([5, 3, 1, 2, 8, 9])"
   ]
  }
 ],
 "metadata": {
  "kernelspec": {
   "display_name": "Python 3",
   "language": "python",
   "name": "python3"
  },
  "language_info": {
   "codemirror_mode": {
    "name": "ipython",
    "version": 3
   },
   "file_extension": ".py",
   "mimetype": "text/x-python",
   "name": "python",
   "nbconvert_exporter": "python",
   "pygments_lexer": "ipython3",
   "version": "3.10.7"
  }
 },
 "nbformat": 4,
 "nbformat_minor": 2
}
