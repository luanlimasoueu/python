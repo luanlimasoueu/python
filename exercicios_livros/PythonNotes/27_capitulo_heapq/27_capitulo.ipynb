{
 "cells": [
  {
   "cell_type": "markdown",
   "metadata": {},
   "source": [
    "Chapter 27: Heapq"
   ]
  },
  {
   "cell_type": "markdown",
   "metadata": {},
   "source": [
    "Section 27.1: Largest and smallest items in a collection"
   ]
  },
  {
   "cell_type": "code",
   "execution_count": 1,
   "metadata": {},
   "outputs": [
    {
     "name": "stdout",
     "output_type": "stream",
     "text": [
      "[200, 150, 100, 50]\n"
     ]
    }
   ],
   "source": [
    "import heapq\n",
    "numbers = [1, 4, 2, 100, 20, 50, 32, 200, 150, 8]\n",
    "print(heapq.nlargest(4, numbers))"
   ]
  },
  {
   "cell_type": "code",
   "execution_count": 2,
   "metadata": {},
   "outputs": [
    {
     "name": "stdout",
     "output_type": "stream",
     "text": [
      "[1, 2, 4, 8]\n"
     ]
    }
   ],
   "source": [
    "print(heapq.nsmallest(4, numbers))"
   ]
  },
  {
   "cell_type": "code",
   "execution_count": 4,
   "metadata": {},
   "outputs": [
    {
     "name": "stdout",
     "output_type": "stream",
     "text": [
      "[{'firstname': 'John', 'lastname': 'Roe', 'age': 45}, {'firstname': 'John', 'lastname': 'Doe', 'age': 30}]\n"
     ]
    }
   ],
   "source": [
    "people = [\n",
    "{'firstname': 'John', 'lastname': 'Doe', 'age': 30},\n",
    "{'firstname': 'Jane', 'lastname': 'Doe', 'age': 25},\n",
    "{'firstname': 'Janie', 'lastname': 'Doe', 'age': 10},\n",
    "{'firstname': 'Jane', 'lastname': 'Roe', 'age': 22},\n",
    "{'firstname': 'Johnny', 'lastname': 'Doe', 'age': 12},\n",
    "{'firstname': 'John', 'lastname': 'Roe', 'age': 45}\n",
    "]\n",
    "oldest = heapq.nlargest(2, people, key=lambda s: s['age'])\n",
    "print(oldest)"
   ]
  },
  {
   "cell_type": "code",
   "execution_count": 5,
   "metadata": {},
   "outputs": [
    {
     "name": "stdout",
     "output_type": "stream",
     "text": [
      "[{'firstname': 'Janie', 'lastname': 'Doe', 'age': 10}, {'firstname': 'Johnny', 'lastname': 'Doe', 'age': 12}]\n"
     ]
    }
   ],
   "source": [
    "youngest = heapq.nsmallest(2, people, key=lambda s: s['age'])\n",
    "print(youngest)"
   ]
  },
  {
   "cell_type": "markdown",
   "metadata": {},
   "source": [
    "Section 27.2: Smallest item in a collection"
   ]
  },
  {
   "cell_type": "code",
   "execution_count": 6,
   "metadata": {},
   "outputs": [
    {
     "name": "stdout",
     "output_type": "stream",
     "text": [
      "[2, 4, 10, 100, 8, 50, 32, 200, 150, 20]\n"
     ]
    }
   ],
   "source": [
    "import heapq\n",
    "numbers = [10, 4, 2, 100, 20, 50, 32, 200, 150, 8]\n",
    "heapq.heapify(numbers)\n",
    "print(numbers)"
   ]
  },
  {
   "cell_type": "code",
   "execution_count": 7,
   "metadata": {},
   "outputs": [
    {
     "name": "stdout",
     "output_type": "stream",
     "text": [
      "[4, 8, 10, 100, 20, 50, 32, 200, 150]\n"
     ]
    }
   ],
   "source": [
    "heapq.heappop(numbers) \n",
    "print(numbers)"
   ]
  },
  {
   "cell_type": "code",
   "execution_count": 9,
   "metadata": {},
   "outputs": [
    {
     "name": "stdout",
     "output_type": "stream",
     "text": [
      "[10, 20, 32, 100, 150, 50, 200]\n"
     ]
    }
   ],
   "source": [
    "heapq.heappop(numbers)\n",
    "print(numbers)"
   ]
  }
 ],
 "metadata": {
  "kernelspec": {
   "display_name": "Python 3",
   "language": "python",
   "name": "python3"
  },
  "language_info": {
   "codemirror_mode": {
    "name": "ipython",
    "version": 3
   },
   "file_extension": ".py",
   "mimetype": "text/x-python",
   "name": "python",
   "nbconvert_exporter": "python",
   "pygments_lexer": "ipython3",
   "version": "3.10.7"
  }
 },
 "nbformat": 4,
 "nbformat_minor": 2
}
