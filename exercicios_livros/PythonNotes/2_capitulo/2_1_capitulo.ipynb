{
 "cells": [
  {
   "cell_type": "code",
   "execution_count": 1,
   "metadata": {},
   "outputs": [
    {
     "name": "stdout",
     "output_type": "stream",
     "text": [
      "Hello World\n",
      "H\n",
      "Hello\n"
     ]
    }
   ],
   "source": [
    "a_str = 'Hello World'\n",
    "print(a_str) #output will be whole string. Hello World\n",
    "print(a_str[0]) #output will be first character. H\n",
    "print(a_str[0:5])"
   ]
  },
  {
   "cell_type": "code",
   "execution_count": 2,
   "metadata": {},
   "outputs": [
    {
     "name": "stdout",
     "output_type": "stream",
     "text": [
      "{'pear', 'orange', 'apple', 'banana'}\n",
      "{'b', 'a', 'c', 'r', 'd'}\n",
      "{'b', 'a', 'z', 'c', 'r', 'd'}\n"
     ]
    }
   ],
   "source": [
    "basket = {'apple', 'orange', 'apple', 'pear', 'orange', 'banana'}\n",
    "print(basket) # duplicates will be removed\n",
    "a = set('abracadabra')\n",
    "print(a) # unique letters in a\n",
    "a.add('z')\n",
    "print(a)"
   ]
  },
  {
   "cell_type": "code",
   "execution_count": 3,
   "metadata": {},
   "outputs": [
    {
     "name": "stdout",
     "output_type": "stream",
     "text": [
      "frozenset({'s', 'a', 'g', 'f', 'd'})\n",
      "frozenset({'Frankfurt', 'Freiburg', 'Basel'})\n"
     ]
    }
   ],
   "source": [
    "b = frozenset('asdfagsa')\n",
    "print(b)\n",
    "cities = frozenset([\"Frankfurt\", \"Basel\",\"Freiburg\"])\n",
    "print(cities)"
   ]
  },
  {
   "cell_type": "code",
   "execution_count": 4,
   "metadata": {},
   "outputs": [],
   "source": [
    "int_num = 10 #int value\n",
    "float_num = 10.2 #float value\n",
    "complex_num = 3.14 #complex value\n",
    "long_num = 1234567"
   ]
  },
  {
   "cell_type": "code",
   "execution_count": 5,
   "metadata": {},
   "outputs": [
    {
     "name": "stdout",
     "output_type": "stream",
     "text": [
      "[123, 'abcd', 10.2, 'd']\n",
      "[123, 'abcd']\n",
      "['hello', 'world', 'hello', 'world']\n",
      "[123, 'abcd', 10.2, 'd', 'hello', 'world']\n"
     ]
    }
   ],
   "source": [
    "list = [123,'abcd',10.2,'d'] #can be an array of any data type or single data type.\n",
    "list1 = ['hello','world']\n",
    "print(list) #will output whole list. [123,'abcd',10.2,'d']\n",
    "print(list[0:2]) #will output first two element of list. [123,'abcd']\n",
    "print(list1 * 2) #will gave list1 two times. ['hello','world','hello','world']\n",
    "print(list + list1) #will gave concatenation"
   ]
  },
  {
   "cell_type": "code",
   "execution_count": 6,
   "metadata": {},
   "outputs": [
    {
     "name": "stdout",
     "output_type": "stream",
     "text": [
      "{'name': 'red', 'age': 10}\n",
      "red\n",
      "dict_values(['red', 10])\n",
      "dict_keys(['name', 'age'])\n"
     ]
    }
   ],
   "source": [
    "dic={'name':'red','age':10}\n",
    "print(dic) #will output all the key-value pairs. {'name':'red','age':10}\n",
    "print(dic['name']) #will output only value with 'name' key. 'red'\n",
    "print(dic.values()) #will output list of values in dic. ['red',10]\n",
    "print(dic.keys())"
   ]
  }
 ],
 "metadata": {
  "kernelspec": {
   "display_name": "Python 3",
   "language": "python",
   "name": "python3"
  },
  "language_info": {
   "codemirror_mode": {
    "name": "ipython",
    "version": 3
   },
   "file_extension": ".py",
   "mimetype": "text/x-python",
   "name": "python",
   "nbconvert_exporter": "python",
   "pygments_lexer": "ipython3",
   "version": "3.10.7"
  }
 },
 "nbformat": 4,
 "nbformat_minor": 2
}
