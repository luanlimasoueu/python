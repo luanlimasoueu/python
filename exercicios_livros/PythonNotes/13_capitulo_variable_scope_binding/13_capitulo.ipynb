{
 "cells": [
  {
   "cell_type": "code",
   "execution_count": null,
   "metadata": {},
   "outputs": [],
   "source": [
    "def counter():\n",
    "    num = 0\n",
    "    def incrementer():\n",
    "        num += 1\n",
    "        return num\n",
    "    return incrementer"
   ]
  },
  {
   "cell_type": "code",
   "execution_count": 1,
   "metadata": {},
   "outputs": [],
   "source": [
    "def counter():\n",
    "    num = 0\n",
    "    def incrementer():\n",
    "        nonlocal num\n",
    "        num += 1\n",
    "        return num\n",
    "    return incrementer"
   ]
  },
  {
   "cell_type": "code",
   "execution_count": 2,
   "metadata": {},
   "outputs": [],
   "source": [
    "c = counter()"
   ]
  },
  {
   "cell_type": "code",
   "execution_count": 3,
   "metadata": {},
   "outputs": [
    {
     "data": {
      "text/plain": [
       "1"
      ]
     },
     "execution_count": 3,
     "metadata": {},
     "output_type": "execute_result"
    }
   ],
   "source": [
    "c()"
   ]
  },
  {
   "cell_type": "code",
   "execution_count": 4,
   "metadata": {},
   "outputs": [
    {
     "data": {
      "text/plain": [
       "2"
      ]
     },
     "execution_count": 4,
     "metadata": {},
     "output_type": "execute_result"
    }
   ],
   "source": [
    "c()"
   ]
  },
  {
   "cell_type": "code",
   "execution_count": 5,
   "metadata": {},
   "outputs": [
    {
     "data": {
      "text/plain": [
       "3"
      ]
     },
     "execution_count": 5,
     "metadata": {},
     "output_type": "execute_result"
    }
   ],
   "source": [
    "c()"
   ]
  },
  {
   "cell_type": "markdown",
   "metadata": {},
   "source": [
    "Section 13.2: Global Variables"
   ]
  },
  {
   "cell_type": "code",
   "execution_count": 7,
   "metadata": {},
   "outputs": [
    {
     "name": "stdout",
     "output_type": "stream",
     "text": [
      "Hi\n",
      "Olá\n"
     ]
    }
   ],
   "source": [
    "x = 'Hi'\n",
    "y = 'Olá'\n",
    "def read_x():\n",
    "    print(x)\n",
    "read_x() \n",
    "def read_y():\n",
    "    print(y) \n",
    "read_y()"
   ]
  },
  {
   "cell_type": "code",
   "execution_count": 8,
   "metadata": {},
   "outputs": [
    {
     "name": "stdout",
     "output_type": "stream",
     "text": [
      "Hey\n"
     ]
    }
   ],
   "source": [
    "def read_y():\n",
    "    y = 'Hey' # y appears in an assignment, therefore it's local\n",
    "    print(y) # will find the local y\n",
    "read_y() # prints Hey\n"
   ]
  },
  {
   "cell_type": "code",
   "execution_count": 11,
   "metadata": {},
   "outputs": [
    {
     "name": "stdout",
     "output_type": "stream",
     "text": [
      "Bye\n",
      "Hi\n"
     ]
    }
   ],
   "source": [
    "x = 'Hi'\n",
    "def change_local_x():\n",
    "    x = 'Bye'\n",
    "    print(x)\n",
    "change_local_x() \n",
    "print(x) "
   ]
  },
  {
   "cell_type": "code",
   "execution_count": 12,
   "metadata": {},
   "outputs": [
    {
     "name": "stdout",
     "output_type": "stream",
     "text": [
      "Bye\n",
      "Bye\n"
     ]
    }
   ],
   "source": [
    "x = 'Hi'\n",
    "def change_global_x():\n",
    "    global x\n",
    "    x = 'Bye'\n",
    "    print(x)\n",
    "change_global_x() # prints Bye\n",
    "print(x) #"
   ]
  },
  {
   "cell_type": "markdown",
   "metadata": {},
   "source": [
    "Section 13.3: Local Variables"
   ]
  },
  {
   "cell_type": "code",
   "execution_count": 13,
   "metadata": {},
   "outputs": [],
   "source": [
    "def foo():\n",
    "    if True:\n",
    "        a = 5\n",
    "    print(a) # ok"
   ]
  },
  {
   "cell_type": "code",
   "execution_count": 14,
   "metadata": {},
   "outputs": [
    {
     "name": "stdout",
     "output_type": "stream",
     "text": [
      "5\n"
     ]
    }
   ],
   "source": [
    "foo()"
   ]
  },
  {
   "cell_type": "code",
   "execution_count": 15,
   "metadata": {},
   "outputs": [],
   "source": [
    "b = 3\n",
    "def bar():\n",
    "    if False:\n",
    "        b = 5\n",
    "    print(b) #"
   ]
  },
  {
   "cell_type": "code",
   "execution_count": 18,
   "metadata": {},
   "outputs": [
    {
     "name": "stdout",
     "output_type": "stream",
     "text": [
      "7\n"
     ]
    }
   ],
   "source": [
    "class A:\n",
    "    pass\n",
    "a = A()\n",
    "a.x = 7\n",
    "print(a.x)\n"
   ]
  },
  {
   "cell_type": "code",
   "execution_count": 19,
   "metadata": {},
   "outputs": [
    {
     "name": "stdout",
     "output_type": "stream",
     "text": [
      "{'b': 2}\n"
     ]
    },
    {
     "ename": "KeyError",
     "evalue": "'a'",
     "output_type": "error",
     "traceback": [
      "\u001b[1;31m---------------------------------------------------------------------------\u001b[0m",
      "\u001b[1;31mKeyError\u001b[0m                                  Traceback (most recent call last)",
      "Cell \u001b[1;32mIn[19], line 4\u001b[0m\n\u001b[0;32m      2\u001b[0m \u001b[38;5;28;01mdel\u001b[39;00m x[\u001b[38;5;124m'\u001b[39m\u001b[38;5;124ma\u001b[39m\u001b[38;5;124m'\u001b[39m]\n\u001b[0;32m      3\u001b[0m \u001b[38;5;28mprint\u001b[39m(x) \u001b[38;5;66;03m# out: {'b': 2}\u001b[39;00m\n\u001b[1;32m----> 4\u001b[0m \u001b[38;5;28mprint\u001b[39m(\u001b[43mx\u001b[49m\u001b[43m[\u001b[49m\u001b[38;5;124;43m'\u001b[39;49m\u001b[38;5;124;43ma\u001b[39;49m\u001b[38;5;124;43m'\u001b[39;49m\u001b[43m]\u001b[49m) \u001b[38;5;66;03m# error: KeyError: 'a'\u001b[39;00m\n\u001b[0;32m      5\u001b[0m \u001b[38;5;28;01mdel\u001b[39;00m v[a:b]\n",
      "\u001b[1;31mKeyError\u001b[0m: 'a'"
     ]
    }
   ],
   "source": [
    "x = {'a': 1, 'b': 2}\n",
    "del x['a']\n",
    "print(x) # out: {'b': 2}\n",
    "print(x['a']) # error: KeyError: 'a'\n",
    "del v[a:b]"
   ]
  },
  {
   "cell_type": "code",
   "execution_count": 20,
   "metadata": {},
   "outputs": [
    {
     "name": "stdout",
     "output_type": "stream",
     "text": [
      "[0, 3, 4]\n"
     ]
    }
   ],
   "source": [
    "x = [0, 1, 2, 3, 4]\n",
    "del x[1:3]\n",
    "print(x)"
   ]
  },
  {
   "cell_type": "markdown",
   "metadata": {},
   "source": [
    "Section 13.5: Functions skip class scope when looking up\n",
    "names"
   ]
  },
  {
   "cell_type": "code",
   "execution_count": 21,
   "metadata": {},
   "outputs": [
    {
     "name": "stdout",
     "output_type": "stream",
     "text": [
      "class\n",
      "global\n",
      "global\n",
      "class\n",
      "global\n",
      "class\n",
      "global\n"
     ]
    }
   ],
   "source": [
    "a = 'global'\n",
    "class Fred:\n",
    "    a = 'class' # class scope\n",
    "    b = (a for i in range(10)) # function scope\n",
    "    c = [a for i in range(10)] # function scope\n",
    "    d = a # class scope\n",
    "    e = lambda: a # function scope\n",
    "    f = lambda a=a: a # default argument uses class scope\n",
    "    @staticmethod # or @classmethod, or regular instance method\n",
    "    def g(): # function scope\n",
    "        return a\n",
    "print(Fred.a) # class\n",
    "print(next(Fred.b)) # global\n",
    "print(Fred.c[0]) # class in Python 2, global in Python 3\n",
    "print(Fred.d) # class\n",
    "print(Fred.e()) # global\n",
    "print(Fred.f()) # class\n",
    "print(Fred.g()) # global"
   ]
  }
 ],
 "metadata": {
  "kernelspec": {
   "display_name": "Python 3",
   "language": "python",
   "name": "python3"
  },
  "language_info": {
   "codemirror_mode": {
    "name": "ipython",
    "version": 3
   },
   "file_extension": ".py",
   "mimetype": "text/x-python",
   "name": "python",
   "nbconvert_exporter": "python",
   "pygments_lexer": "ipython3",
   "version": "3.10.7"
  }
 },
 "nbformat": 4,
 "nbformat_minor": 2
}
