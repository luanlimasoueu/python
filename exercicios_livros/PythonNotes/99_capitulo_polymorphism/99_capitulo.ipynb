{
 "cells": [
  {
   "cell_type": "markdown",
   "metadata": {},
   "source": [
    "Chapter 99: Polymorphism"
   ]
  },
  {
   "cell_type": "markdown",
   "metadata": {},
   "source": [
    "Section 99.1: Duck Typing"
   ]
  },
  {
   "cell_type": "code",
   "execution_count": 2,
   "metadata": {},
   "outputs": [],
   "source": [
    "class Duck:\n",
    "    def quack(self):\n",
    "        print(\"Quaaaaaack!\")\n",
    "    def feathers(self):\n",
    "        print(\"The duck has white and gray feathers.\")\n",
    "class Person:\n",
    "    def quack(self):\n",
    "        print(\"The person imitates a duck.\")\n",
    "    def feathers(self):\n",
    "        print(\"The person takes a feather from the ground and shows it.\")\n",
    "    def name(self):\n",
    "        print(\"John Smith\")\n",
    "\n",
    "def in_the_forest(obj):\n",
    "    obj.quack()\n",
    "    obj.feathers()"
   ]
  },
  {
   "cell_type": "code",
   "execution_count": 3,
   "metadata": {},
   "outputs": [],
   "source": [
    "donald = Duck()"
   ]
  },
  {
   "cell_type": "code",
   "execution_count": 4,
   "metadata": {},
   "outputs": [
    {
     "data": {
      "text/plain": [
       "<__main__.Duck at 0x1f2811e2b00>"
      ]
     },
     "execution_count": 4,
     "metadata": {},
     "output_type": "execute_result"
    }
   ],
   "source": [
    "donald"
   ]
  },
  {
   "cell_type": "code",
   "execution_count": 5,
   "metadata": {},
   "outputs": [],
   "source": [
    "john = Person()"
   ]
  },
  {
   "cell_type": "code",
   "execution_count": 6,
   "metadata": {},
   "outputs": [
    {
     "name": "stdout",
     "output_type": "stream",
     "text": [
      "Quaaaaaack!\n",
      "The duck has white and gray feathers.\n"
     ]
    }
   ],
   "source": [
    "in_the_forest(donald)"
   ]
  },
  {
   "cell_type": "code",
   "execution_count": 7,
   "metadata": {},
   "outputs": [
    {
     "name": "stdout",
     "output_type": "stream",
     "text": [
      "The person imitates a duck.\n",
      "The person takes a feather from the ground and shows it.\n"
     ]
    }
   ],
   "source": [
    "in_the_forest(john)"
   ]
  },
  {
   "cell_type": "markdown",
   "metadata": {},
   "source": [
    "Section 99.2: Basic Polymorphism"
   ]
  },
  {
   "cell_type": "code",
   "execution_count": 11,
   "metadata": {},
   "outputs": [],
   "source": [
    "class Square:\n",
    "    side_length = 2\n",
    "    def calculate_square_area(self):\n",
    "        return self.side_length ** 2\n",
    "class Triangle:\n",
    "    base_length = 4\n",
    "    height = 3\n",
    "    def calculate_triangle_area(self):\n",
    "        return (0.5 * self.base_length) * self.height\n",
    "\n",
    "def get_area(input_obj):\n",
    "\n",
    "    if type(input_obj).__name__ == \"Square\":\n",
    "        area = input_obj.calculate_square_area()\n",
    "    elif type(input_obj).__name__ == \"Triangle\":\n",
    "        area = input_obj.calculate_triangle_area()\n",
    "    print(area)\n"
   ]
  },
  {
   "cell_type": "code",
   "execution_count": 12,
   "metadata": {},
   "outputs": [],
   "source": [
    "square_obj = Square()\n",
    "triangle_obj = Triangle()"
   ]
  },
  {
   "cell_type": "code",
   "execution_count": 15,
   "metadata": {},
   "outputs": [
    {
     "name": "stdout",
     "output_type": "stream",
     "text": [
      "4\n",
      "6.0\n"
     ]
    }
   ],
   "source": [
    "get_area(square_obj)\n",
    "get_area(triangle_obj)"
   ]
  }
 ],
 "metadata": {
  "kernelspec": {
   "display_name": "Python 3",
   "language": "python",
   "name": "python3"
  },
  "language_info": {
   "codemirror_mode": {
    "name": "ipython",
    "version": 3
   },
   "file_extension": ".py",
   "mimetype": "text/x-python",
   "name": "python",
   "nbconvert_exporter": "python",
   "pygments_lexer": "ipython3",
   "version": "3.10.7"
  }
 },
 "nbformat": 4,
 "nbformat_minor": 2
}
