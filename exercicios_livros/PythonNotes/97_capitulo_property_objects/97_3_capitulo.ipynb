{
 "cells": [
  {
   "cell_type": "markdown",
   "metadata": {},
   "source": [
    "Section 97.4: Using properties without decorators"
   ]
  },
  {
   "cell_type": "code",
   "execution_count": 2,
   "metadata": {},
   "outputs": [],
   "source": [
    "class A:\n",
    "    p = 1234\n",
    "    def getX (self):\n",
    "        return self._x\n",
    "    def setX (self, value):\n",
    "        self._x = value\n",
    "    def getY (self):\n",
    "        return self._y\n",
    "    def setY (self, value):\n",
    "        self._y = 1000 + value # Weird but possible\n",
    "    def getY2 (self):\n",
    "        return self._y\n",
    "    def setY2 (self, value):\n",
    "        self._y = value\n",
    "    def getT (self):\n",
    "        return self._t\n",
    "    def setT (self, value):\n",
    "         self._t = value\n",
    "    def getU (self):\n",
    "        return self._u + 10000\n",
    "    def setU (self, value):\n",
    "        self._u = value - 5000\n",
    "        x, y, y2 = property (getX, setX), property (getY, setY), property (getY2, setY2)\n",
    "        t = property (getT, setT)\n",
    "        u = property (getU, setU)\n",
    "\n",
    "A.q = 5678\n",
    "class B:\n",
    "    def getZ (self):\n",
    "        return self.z_\n",
    "    def setZ (self, value):\n",
    "        self.z_ = value\n",
    "        z = property (getZ, setZ)\n",
    "\n",
    "class C:\n",
    "    def __init__ (self):\n",
    "        self.offset = 1234\n",
    "    def getW (self):\n",
    "        return self.w_ + self.offset\n",
    "    def setW (self, value):\n",
    "        self.w_ = value - self.offset\n",
    "        w = property (getW, setW)"
   ]
  },
  {
   "cell_type": "code",
   "execution_count": 3,
   "metadata": {},
   "outputs": [],
   "source": [
    "a1 = A ()"
   ]
  },
  {
   "cell_type": "code",
   "execution_count": 4,
   "metadata": {},
   "outputs": [],
   "source": [
    "a2 = A ()"
   ]
  },
  {
   "cell_type": "code",
   "execution_count": 5,
   "metadata": {},
   "outputs": [],
   "source": [
    "a1.y2 = 1000"
   ]
  },
  {
   "cell_type": "code",
   "execution_count": 7,
   "metadata": {},
   "outputs": [],
   "source": [
    "a2.y2 = 2000"
   ]
  },
  {
   "cell_type": "code",
   "execution_count": 8,
   "metadata": {},
   "outputs": [
    {
     "data": {
      "text/plain": [
       "2000"
      ]
     },
     "execution_count": 8,
     "metadata": {},
     "output_type": "execute_result"
    }
   ],
   "source": [
    "a2.y2 "
   ]
  },
  {
   "cell_type": "code",
   "execution_count": 9,
   "metadata": {},
   "outputs": [],
   "source": [
    "a1.x = 5\n",
    "a1.y = 6"
   ]
  },
  {
   "cell_type": "code",
   "execution_count": 10,
   "metadata": {},
   "outputs": [],
   "source": [
    "a2.x = 7\n",
    "a2.y = 8"
   ]
  },
  {
   "cell_type": "code",
   "execution_count": 11,
   "metadata": {},
   "outputs": [],
   "source": [
    "a1.t = 77\n",
    "a1.u = 88"
   ]
  },
  {
   "cell_type": "code",
   "execution_count": 12,
   "metadata": {},
   "outputs": [
    {
     "name": "stdout",
     "output_type": "stream",
     "text": [
      "5 6 1000\n",
      "7 8 2000\n",
      "1234 1234 5678 5678\n"
     ]
    }
   ],
   "source": [
    "print (a1.x, a1.y, a1.y2)\n",
    "print (a2.x, a2.y, a2.y2)\n",
    "print (a1.p, a2.p, a1.q, a2.q)"
   ]
  },
  {
   "cell_type": "code",
   "execution_count": 13,
   "metadata": {},
   "outputs": [
    {
     "name": "stdout",
     "output_type": "stream",
     "text": [
      "77 88\n"
     ]
    }
   ],
   "source": [
    "print (a1.t, a1.u)"
   ]
  },
  {
   "cell_type": "code",
   "execution_count": 14,
   "metadata": {},
   "outputs": [],
   "source": [
    "b = B ()\n",
    "c = C ()"
   ]
  },
  {
   "cell_type": "code",
   "execution_count": 15,
   "metadata": {},
   "outputs": [],
   "source": [
    "b.z = 100100\n",
    "c.z = 200200\n",
    "c.w = 300300"
   ]
  },
  {
   "cell_type": "code",
   "execution_count": 16,
   "metadata": {},
   "outputs": [
    {
     "name": "stdout",
     "output_type": "stream",
     "text": [
      "5 100100 200200 300300\n"
     ]
    }
   ],
   "source": [
    "print (a1.x, b.z, c.z, c.w)"
   ]
  },
  {
   "cell_type": "code",
   "execution_count": 17,
   "metadata": {},
   "outputs": [],
   "source": [
    "c.w = 400400\n",
    "c.z = 500500\n",
    "b.z = 600600"
   ]
  },
  {
   "cell_type": "code",
   "execution_count": 18,
   "metadata": {},
   "outputs": [
    {
     "name": "stdout",
     "output_type": "stream",
     "text": [
      "5 600600 500500 400400\n"
     ]
    }
   ],
   "source": [
    "print (a1.x, b.z, c.z, c.w)"
   ]
  }
 ],
 "metadata": {
  "kernelspec": {
   "display_name": "Python 3",
   "language": "python",
   "name": "python3"
  },
  "language_info": {
   "codemirror_mode": {
    "name": "ipython",
    "version": 3
   },
   "file_extension": ".py",
   "mimetype": "text/x-python",
   "name": "python",
   "nbconvert_exporter": "python",
   "pygments_lexer": "ipython3",
   "version": "3.10.7"
  }
 },
 "nbformat": 4,
 "nbformat_minor": 2
}
