{
 "cells": [
  {
   "cell_type": "markdown",
   "metadata": {},
   "source": [
    "Chapter 161: Database Access"
   ]
  },
  {
   "cell_type": "markdown",
   "metadata": {},
   "source": [
    "Section 161.1: SQLite"
   ]
  },
  {
   "cell_type": "code",
   "execution_count": 1,
   "metadata": {},
   "outputs": [
    {
     "name": "stdout",
     "output_type": "stream",
     "text": [
      "[('User A', 42), ('User B', 43)]\n"
     ]
    }
   ],
   "source": [
    "import sqlite3\n",
    "conn = sqlite3.connect(\"users.db\")\n",
    "c = conn.cursor()\n",
    "c.execute(\"CREATE TABLE user (name text, age integer)\")\n",
    "c.execute(\"INSERT INTO user VALUES ('User A', 42)\")\n",
    "c.execute(\"INSERT INTO user VALUES ('User B', 43)\")\n",
    "conn.commit()\n",
    "c.execute(\"SELECT * FROM user\")\n",
    "print(c.fetchall())\n",
    "conn.close()"
   ]
  },
  {
   "cell_type": "code",
   "execution_count": 3,
   "metadata": {},
   "outputs": [],
   "source": [
    "import sqlite3\n",
    "conn = sqlite3.connect('user.db')\n",
    "c = conn.cursor()\n",
    "c.execute('''CREATE TABLE stocks\n",
    "(date text, trans text, symbol text, qty real, price real)''')\n",
    "c.execute(\"INSERT INTO stocks VALUES ('2006-01-05','BUY','RHAT',100,35.14)\")\n",
    "conn.commit()\n",
    "conn.close()"
   ]
  },
  {
   "cell_type": "code",
   "execution_count": 7,
   "metadata": {},
   "outputs": [
    {
     "name": "stdout",
     "output_type": "stream",
     "text": [
      "[('2006-01-05', 'BUY', 'RHAT', 100, 35.14), ('2006-03-28', 'BUY', 'IBM', 1000, 45.0), ('2006-04-06', 'SELL', 'IBM', 500, 53.0), ('2006-04-05', 'BUY', 'MSFT', 1000, 72.0)]\n"
     ]
    }
   ],
   "source": [
    "import sqlite3\n",
    "stocks = [('2006-01-05', 'BUY', 'RHAT', 100, 35.14),\n",
    "('2006-03-28', 'BUY', 'IBM', 1000, 45.0),\n",
    "('2006-04-06', 'SELL', 'IBM', 500, 53.0),\n",
    "('2006-04-05', 'BUY', 'MSFT', 1000, 72.0)]\n",
    "conn = sqlite3.connect(\":memory:\")\n",
    "conn.execute(\"create table stocks (date text, buysell text, symb text, amount int, price real)\")\n",
    "conn.executemany(\"insert into stocks values (?, ?, ?, ?, ?)\", stocks)\n",
    "cur = conn.cursor()\n",
    "selecionar = cur.execute('SELECT * FROM stocks ORDER BY price')\n",
    "print(selecionar.fetchall())"
   ]
  },
  {
   "cell_type": "code",
   "execution_count": 8,
   "metadata": {},
   "outputs": [
    {
     "name": "stdout",
     "output_type": "stream",
     "text": [
      "('2006-01-05', 'BUY', 'RHAT', 100, 35.14)\n",
      "('2006-03-28', 'BUY', 'IBM', 1000, 45.0)\n",
      "('2006-04-06', 'SELL', 'IBM', 500, 53.0)\n",
      "('2006-04-05', 'BUY', 'MSFT', 1000, 72.0)\n"
     ]
    }
   ],
   "source": [
    "cur.execute('SELECT * FROM stocks ORDER BY price')\n",
    "i = cur.fetchone()\n",
    "while(i):\n",
    "    print(i)\n",
    "    i = cur.fetchone()"
   ]
  }
 ],
 "metadata": {
  "kernelspec": {
   "display_name": "Python 3",
   "language": "python",
   "name": "python3"
  },
  "language_info": {
   "codemirror_mode": {
    "name": "ipython",
    "version": 3
   },
   "file_extension": ".py",
   "mimetype": "text/x-python",
   "name": "python",
   "nbconvert_exporter": "python",
   "pygments_lexer": "ipython3",
   "version": "3.10.7"
  }
 },
 "nbformat": 4,
 "nbformat_minor": 2
}
