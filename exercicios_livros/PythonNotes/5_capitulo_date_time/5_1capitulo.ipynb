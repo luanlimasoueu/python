{
 "cells": [
  {
   "cell_type": "markdown",
   "metadata": {},
   "source": [
    "Chapter 5: Date and Time"
   ]
  },
  {
   "cell_type": "code",
   "execution_count": 2,
   "metadata": {},
   "outputs": [],
   "source": [
    "import datetime\n",
    "dt = datetime.datetime.strptime(\"2016-04-15T08:27:18-0500\", \"%Y-%m-%dT%H:%M:%S%z\")"
   ]
  },
  {
   "cell_type": "code",
   "execution_count": 3,
   "metadata": {},
   "outputs": [
    {
     "data": {
      "text/plain": [
       "datetime.datetime(2016, 4, 15, 8, 27, 18, tzinfo=datetime.timezone(datetime.timedelta(days=-1, seconds=68400)))"
      ]
     },
     "execution_count": 3,
     "metadata": {},
     "output_type": "execute_result"
    }
   ],
   "source": [
    "dt"
   ]
  },
  {
   "cell_type": "code",
   "execution_count": 4,
   "metadata": {},
   "outputs": [],
   "source": [
    "import dateutil.parser\n",
    "dt = dateutil.parser.parse(\"2016-04-15T08:27:18-0500\")"
   ]
  },
  {
   "cell_type": "code",
   "execution_count": 5,
   "metadata": {},
   "outputs": [],
   "source": [
    "from datetime import datetime, timedelta, timezone\n",
    "JST = timezone(timedelta(hours=+9))"
   ]
  },
  {
   "cell_type": "code",
   "execution_count": 6,
   "metadata": {},
   "outputs": [
    {
     "name": "stdout",
     "output_type": "stream",
     "text": [
      "2015-01-01 12:00:00+09:00\n"
     ]
    }
   ],
   "source": [
    "dt = datetime(2015, 1, 1, 12, 0, 0, tzinfo=JST)\n",
    "print(dt)"
   ]
  },
  {
   "cell_type": "code",
   "execution_count": 7,
   "metadata": {},
   "outputs": [
    {
     "name": "stdout",
     "output_type": "stream",
     "text": [
      "UTC+09:00\n"
     ]
    }
   ],
   "source": [
    "print(dt.tzname())"
   ]
  },
  {
   "cell_type": "code",
   "execution_count": 8,
   "metadata": {},
   "outputs": [
    {
     "name": "stdout",
     "output_type": "stream",
     "text": [
      "<built-in method tzname of datetime.datetime object at 0x000002AF52977570>\n"
     ]
    }
   ],
   "source": [
    "dt = datetime(2015, 1, 1, 12, 0, 0, tzinfo=timezone(timedelta(hours=9), 'JST'))\n",
    "print(dt.tzname)"
   ]
  },
  {
   "cell_type": "code",
   "execution_count": 9,
   "metadata": {},
   "outputs": [
    {
     "name": "stdout",
     "output_type": "stream",
     "text": [
      "2015-01-01 12:00:00-03:00\n",
      "2015-01-01 12:00:00-08:00\n",
      "2015-07-01 12:00:00-07:00\n"
     ]
    }
   ],
   "source": [
    "from datetime import datetime\n",
    "from dateutil import tz\n",
    "local = tz.gettz() # Local time\n",
    "PT = tz.gettz('US/Pacific') # Pacific time\n",
    "dt_l = datetime(2015, 1, 1, 12, tzinfo=local) # I am in EST\n",
    "dt_pst = datetime(2015, 1, 1, 12, tzinfo=PT)\n",
    "dt_pdt = datetime(2015, 7, 1, 12, tzinfo=PT) # DST is handled automatically\n",
    "\n",
    "print(dt_l)\n",
    "print(dt_pst)\n",
    "print(dt_pdt)"
   ]
  },
  {
   "cell_type": "code",
   "execution_count": 10,
   "metadata": {},
   "outputs": [
    {
     "name": "stdout",
     "output_type": "stream",
     "text": [
      "2015-01-01 12:00:00-08:00\n",
      "2015-11-01 00:30:00-07:00\n"
     ]
    }
   ],
   "source": [
    "from datetime import datetime, timedelta\n",
    "import pytz\n",
    "PT = pytz.timezone('US/Pacific')\n",
    "dt_pst = PT.localize(datetime(2015, 1, 1, 12))\n",
    "dt_pdt = PT.localize(datetime(2015, 11, 1, 0, 30))\n",
    "\n",
    "print(dt_pst)\n",
    "print(dt_pdt)"
   ]
  },
  {
   "cell_type": "code",
   "execution_count": 11,
   "metadata": {},
   "outputs": [
    {
     "name": "stdout",
     "output_type": "stream",
     "text": [
      "2015-11-01 03:30:00-07:00\n",
      "2015-11-01 02:30:00-08:00\n"
     ]
    }
   ],
   "source": [
    "dt_new = dt_pdt + timedelta(hours=3) # This should be 2:30 AM PST\n",
    "print(dt_new)\n",
    "\n",
    "dt_corrected = PT.normalize(dt_new)\n",
    "print(dt_corrected)"
   ]
  },
  {
   "cell_type": "markdown",
   "metadata": {},
   "source": [
    "Section 5.3: Computing time dierences"
   ]
  },
  {
   "cell_type": "code",
   "execution_count": 12,
   "metadata": {},
   "outputs": [],
   "source": [
    "from datetime import datetime, timedelta\n",
    "now = datetime.now()\n",
    "then = datetime(2016, 5, 23) # datetime.datetime(2016, 05, 23, 0, 0, 0)"
   ]
  },
  {
   "cell_type": "code",
   "execution_count": 14,
   "metadata": {},
   "outputs": [
    {
     "name": "stdout",
     "output_type": "stream",
     "text": [
      "3033\n",
      "75345\n"
     ]
    }
   ],
   "source": [
    "delta = now-then\n",
    "print(delta.days)\n",
    "print(delta.seconds)"
   ]
  },
  {
   "cell_type": "markdown",
   "metadata": {},
   "source": [
    "Section 5.4: Basic datetime objects usage"
   ]
  },
  {
   "cell_type": "code",
   "execution_count": 16,
   "metadata": {},
   "outputs": [],
   "source": [
    "import datetime\n",
    "# Date object\n",
    "today = datetime.date.today()\n",
    "new_year = datetime.date(2017, 1, 1) #datetime.date(2017, 1, 1)\n",
    "# Time object\n",
    "noon = datetime.time(12, 0, 0) #datetime.time(12, 0)\n",
    "# Current datetime\n",
    "now = datetime.datetime.now()"
   ]
  },
  {
   "cell_type": "code",
   "execution_count": 17,
   "metadata": {},
   "outputs": [],
   "source": [
    "millenium_turn = datetime.datetime(2000, 1, 1, 0, 0, 0) #datetime.datetime(2000, 1, 1, 0, 0)"
   ]
  },
  {
   "cell_type": "code",
   "execution_count": 18,
   "metadata": {},
   "outputs": [
    {
     "name": "stdout",
     "output_type": "stream",
     "text": [
      "Time since the millenium at midnight:  9020 days, 0:00:00\n",
      "Time since the millenium at noon:  9020 days, 12:00:00\n"
     ]
    }
   ],
   "source": [
    "print('Time since the millenium at midnight: ',\n",
    "datetime.datetime(today.year, today.month, today.day) - millenium_turn)\n",
    "# Or this\n",
    "print('Time since the millenium at noon: ',\n",
    "datetime.datetime.combine(today, noon) - millenium_turn)"
   ]
  },
  {
   "cell_type": "code",
   "execution_count": 19,
   "metadata": {},
   "outputs": [
    {
     "data": {
      "text/plain": [
       "datetime.datetime(2024, 9, 11, 21, 0, 19, 866396, tzinfo=tzlocal())"
      ]
     },
     "execution_count": 19,
     "metadata": {},
     "output_type": "execute_result"
    }
   ],
   "source": [
    "from datetime import datetime\n",
    "from dateutil import tz\n",
    "utc = tz.tzutc()\n",
    "local = tz.tzlocal()\n",
    "utc_now = datetime.utcnow()\n",
    "utc_now # Not timezone-aware.\n",
    "utc_now = utc_now.replace(tzinfo=utc)\n",
    "utc_now # Timezone-aware.\n",
    "local_now = utc_now.astimezone(local)\n",
    "local_now # Converted to local time."
   ]
  },
  {
   "cell_type": "code",
   "execution_count": 20,
   "metadata": {},
   "outputs": [
    {
     "name": "stdout",
     "output_type": "stream",
     "text": [
      "Today: 2024-09-11\n",
      "Yesterday: 2024-09-10\n",
      "Tomorrow: 2024-09-12\n",
      "Time between tomorrow and yesterday: 2 days, 0:00:00\n"
     ]
    }
   ],
   "source": [
    "import datetime\n",
    "today = datetime.date.today()\n",
    "print('Today:', today)\n",
    "yesterday = today - datetime.timedelta(days=1)\n",
    "print('Yesterday:', yesterday)\n",
    "tomorrow = today + datetime.timedelta(days=1)\n",
    "print('Tomorrow:', tomorrow)\n",
    "print('Time between tomorrow and yesterday:', tomorrow - yesterday)"
   ]
  },
  {
   "cell_type": "code",
   "execution_count": 21,
   "metadata": {},
   "outputs": [],
   "source": [
    "import time\n",
    "from datetime import datetime\n",
    "seconds_since_epoch=time.time() \n",
    "utc_date=datetime.utcfromtimestamp(seconds_since_epoch)"
   ]
  },
  {
   "cell_type": "code",
   "execution_count": 22,
   "metadata": {},
   "outputs": [
    {
     "data": {
      "text/plain": [
       "datetime.datetime(2024, 9, 12, 1, 59, 48, 888078)"
      ]
     },
     "execution_count": 22,
     "metadata": {},
     "output_type": "execute_result"
    }
   ],
   "source": [
    "utc_date"
   ]
  },
  {
   "cell_type": "code",
   "execution_count": 23,
   "metadata": {},
   "outputs": [],
   "source": [
    "import calendar\n",
    "from datetime import date\n",
    "def monthdelta(date, delta):\n",
    "    m, y = (date.month+delta) % 12, date.year + ((date.month)+delta-1) // 12\n",
    "    if not m: m = 12\n",
    "    d = min(date.day, calendar.monthrange(y, m)[1])\n",
    "    return date.replace(day=d,month=m, year=y)\n",
    "next_month = monthdelta(date.today(), 1)"
   ]
  },
  {
   "cell_type": "code",
   "execution_count": 24,
   "metadata": {},
   "outputs": [
    {
     "data": {
      "text/plain": [
       "datetime.date(2024, 10, 11)"
      ]
     },
     "execution_count": 24,
     "metadata": {},
     "output_type": "execute_result"
    }
   ],
   "source": [
    "next_month"
   ]
  },
  {
   "cell_type": "code",
   "execution_count": 25,
   "metadata": {},
   "outputs": [],
   "source": [
    "import datetime\n",
    "import dateutil.relativedelta\n",
    "d = datetime.datetime.strptime(\"2013-03-31\", \"%Y-%m-%d\")\n",
    "d2 = d - dateutil.relativedelta.relativedelta(months=1)"
   ]
  },
  {
   "cell_type": "code",
   "execution_count": 26,
   "metadata": {},
   "outputs": [
    {
     "name": "stdout",
     "output_type": "stream",
     "text": [
      "2013-03-31 00:00:00\n",
      "2013-02-28 00:00:00\n"
     ]
    }
   ],
   "source": [
    "print(d)\n",
    "print(d2)"
   ]
  },
  {
   "cell_type": "code",
   "execution_count": 27,
   "metadata": {},
   "outputs": [
    {
     "data": {
      "text/plain": [
       "'2016-07-22 09:25:59.555555'"
      ]
     },
     "execution_count": 27,
     "metadata": {},
     "output_type": "execute_result"
    }
   ],
   "source": [
    "str(datetime.datetime(2016, 7, 22, 9, 25, 59, 555555))"
   ]
  },
  {
   "cell_type": "code",
   "execution_count": 28,
   "metadata": {},
   "outputs": [
    {
     "data": {
      "text/plain": [
       "'2016-07-22 09:25:59'"
      ]
     },
     "execution_count": 28,
     "metadata": {},
     "output_type": "execute_result"
    }
   ],
   "source": [
    "str(datetime.datetime(2016, 7, 22, 9, 25, 59, 0))"
   ]
  },
  {
   "cell_type": "code",
   "execution_count": 31,
   "metadata": {},
   "outputs": [
    {
     "name": "stdout",
     "output_type": "stream",
     "text": [
      "Collecting iso8601\n",
      "  Downloading iso8601-2.1.0-py3-none-any.whl (7.5 kB)\n",
      "Installing collected packages: iso8601\n",
      "Successfully installed iso8601-2.1.0\n",
      "Note: you may need to restart the kernel to use updated packages.\n"
     ]
    },
    {
     "name": "stderr",
     "output_type": "stream",
     "text": [
      "\n",
      "[notice] A new release of pip available: 22.2.2 -> 24.2\n",
      "[notice] To update, run: python.exe -m pip install --upgrade pip\n"
     ]
    }
   ],
   "source": [
    "pip install iso8601"
   ]
  },
  {
   "cell_type": "code",
   "execution_count": 32,
   "metadata": {},
   "outputs": [
    {
     "data": {
      "text/plain": [
       "datetime.datetime(2016, 7, 22, 9, 25, 59, 111, tzinfo=datetime.timezone(datetime.timedelta(seconds=10800), '+03:00'))"
      ]
     },
     "execution_count": 32,
     "metadata": {},
     "output_type": "execute_result"
    }
   ],
   "source": [
    "import iso8601\n",
    "iso8601.parse_date('2016-07-22 09:25:59')\n",
    "iso8601.parse_date('2016-07-22 09:25:59+03:00')\n",
    "iso8601.parse_date('2016-07-22 09:25:59Z')\n",
    "iso8601.parse_date('2016-07-22T09:25:59.000111+03:00')"
   ]
  },
  {
   "cell_type": "code",
   "execution_count": 33,
   "metadata": {},
   "outputs": [
    {
     "data": {
      "text/plain": [
       "datetime.datetime(2016, 7, 22, 9, 25, 59, tzinfo=datetime.timezone.utc)"
      ]
     },
     "execution_count": 33,
     "metadata": {},
     "output_type": "execute_result"
    }
   ],
   "source": [
    "iso8601.parse_date('2016-07-22T09:25:59', default_timezone=None)\n",
    "# datetime.datetime(2016, 7, 22, 9, 25, 59)\n",
    "iso8601.parse_date('2016-07-22T09:25:59Z', default_timezone=None)"
   ]
  },
  {
   "cell_type": "code",
   "execution_count": 34,
   "metadata": {},
   "outputs": [
    {
     "data": {
      "text/plain": [
       "'2024-09-11T23:36:01-03:00'"
      ]
     },
     "execution_count": 34,
     "metadata": {},
     "output_type": "execute_result"
    }
   ],
   "source": [
    "from datetime import datetime\n",
    "datetime.now().isoformat()\n",
    "# Out: '2016-07-31T23:08:20.886783'\n",
    "\n",
    "from datetime import datetime\n",
    "from dateutil.tz import tzlocal\n",
    "datetime.now(tzlocal()).isoformat()\n",
    "# Out: '2016-07-31T23:09:43.535074-07:00'\n",
    "\n",
    "from datetime import datetime\n",
    "from dateutil.tz import tzlocal\n",
    "datetime.now(tzlocal()).replace(microsecond=0).isoformat()"
   ]
  },
  {
   "cell_type": "code",
   "execution_count": 35,
   "metadata": {},
   "outputs": [],
   "source": [
    "from dateutil import tz\n",
    "from dateutil.parser import parse\n",
    "ET = tz.gettz('US/Eastern')\n",
    "CT = tz.gettz('US/Central')\n",
    "MT = tz.gettz('US/Mountain')\n",
    "PT = tz.gettz('US/Pacific')\n",
    "us_tzinfos = {'CST': CT, 'CDT': CT,\n",
    "'EST': ET, 'EDT': ET,\n",
    "'MST': MT, 'MDT': MT,\n",
    "'PST': PT, 'PDT': PT}\n",
    "dt_est = parse('2014-01-02 04:00:00 EST', tzinfos=us_tzinfos)\n",
    "dt_pst = parse('2016-03-11 16:00:00 PST', tzinfos=us_tzinfos)"
   ]
  },
  {
   "cell_type": "code",
   "execution_count": 37,
   "metadata": {},
   "outputs": [
    {
     "name": "stdout",
     "output_type": "stream",
     "text": [
      "2014-01-02 04:00:00-05:00\n",
      "2016-03-11 16:00:00-08:00\n"
     ]
    }
   ],
   "source": [
    "print(dt_est)\n",
    "# datetime.datetime(2014, 1, 2, 4, 0, tzinfo=tzfile('/usr/share/zoneinfo/US/Eastern'))\n",
    "print(dt_pst)\n",
    "# datetime"
   ]
  },
  {
   "cell_type": "code",
   "execution_count": 38,
   "metadata": {},
   "outputs": [
    {
     "data": {
      "text/plain": [
       "<DstTzInfo 'America/New_York' LMT-1 day, 19:04:00 STD>"
      ]
     },
     "execution_count": 38,
     "metadata": {},
     "output_type": "execute_result"
    }
   ],
   "source": [
    "from dateutil.parser import parse\n",
    "import pytz\n",
    "EST = pytz.timezone('America/New_York')\n",
    "dt = parse('2014-02-03 09:17:00 EST', tzinfos={'EST': EST})\n",
    "dt.tzinfo # Will be in Local Mean Time!"
   ]
  },
  {
   "cell_type": "code",
   "execution_count": 39,
   "metadata": {},
   "outputs": [
    {
     "data": {
      "text/plain": [
       "<DstTzInfo 'America/New_York' EST-1 day, 19:00:00 STD>"
      ]
     },
     "execution_count": 39,
     "metadata": {},
     "output_type": "execute_result"
    }
   ],
   "source": [
    "dt_fixed = dt.tzinfo.localize(dt.replace(tzinfo=None))\n",
    "dt_fixed.tzinfo # Now it's EST.\n",
    "# <DstTzInfo 'America/New_York' EST"
   ]
  },
  {
   "cell_type": "code",
   "execution_count": 40,
   "metadata": {},
   "outputs": [
    {
     "name": "stdout",
     "output_type": "stream",
     "text": [
      "2047-01-01 08:21:00\n"
     ]
    }
   ],
   "source": [
    "from dateutil.parser import parse\n",
    "dt = parse(\"Today is January 1, 2047 at 8:21:00AM\", fuzzy=True)\n",
    "print(dt)"
   ]
  },
  {
   "cell_type": "code",
   "execution_count": 41,
   "metadata": {},
   "outputs": [
    {
     "name": "stdout",
     "output_type": "stream",
     "text": [
      "2024-09-11\n",
      "2024-09-12\n",
      "2024-09-13\n",
      "2024-09-14\n",
      "2024-09-15\n",
      "2024-09-16\n",
      "2024-09-17\n"
     ]
    }
   ],
   "source": [
    "import datetime\n",
    "# The size of each step in days\n",
    "day_delta = datetime.timedelta(days=1)\n",
    "start_date = datetime.date.today()\n",
    "end_date = start_date + 7*day_delta\n",
    "for i in range((end_date - start_date).days):\n",
    "    print(start_date + i*day_delta)"
   ]
  }
 ],
 "metadata": {
  "kernelspec": {
   "display_name": "Python 3",
   "language": "python",
   "name": "python3"
  },
  "language_info": {
   "codemirror_mode": {
    "name": "ipython",
    "version": 3
   },
   "file_extension": ".py",
   "mimetype": "text/x-python",
   "name": "python",
   "nbconvert_exporter": "python",
   "pygments_lexer": "ipython3",
   "version": "3.10.7"
  }
 },
 "nbformat": 4,
 "nbformat_minor": 2
}
