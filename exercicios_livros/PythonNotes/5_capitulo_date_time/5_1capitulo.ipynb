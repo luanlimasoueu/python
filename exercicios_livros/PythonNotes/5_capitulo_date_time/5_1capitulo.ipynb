{
 "cells": [
  {
   "cell_type": "markdown",
   "metadata": {},
   "source": [
    "Chapter 5: Date and Time"
   ]
  },
  {
   "cell_type": "code",
   "execution_count": 2,
   "metadata": {},
   "outputs": [],
   "source": [
    "import datetime\n",
    "dt = datetime.datetime.strptime(\"2016-04-15T08:27:18-0500\", \"%Y-%m-%dT%H:%M:%S%z\")"
   ]
  },
  {
   "cell_type": "code",
   "execution_count": 3,
   "metadata": {},
   "outputs": [
    {
     "data": {
      "text/plain": [
       "datetime.datetime(2016, 4, 15, 8, 27, 18, tzinfo=datetime.timezone(datetime.timedelta(days=-1, seconds=68400)))"
      ]
     },
     "execution_count": 3,
     "metadata": {},
     "output_type": "execute_result"
    }
   ],
   "source": [
    "dt"
   ]
  },
  {
   "cell_type": "code",
   "execution_count": 4,
   "metadata": {},
   "outputs": [],
   "source": [
    "import dateutil.parser\n",
    "dt = dateutil.parser.parse(\"2016-04-15T08:27:18-0500\")"
   ]
  },
  {
   "cell_type": "code",
   "execution_count": 5,
   "metadata": {},
   "outputs": [],
   "source": [
    "from datetime import datetime, timedelta, timezone\n",
    "JST = timezone(timedelta(hours=+9))"
   ]
  },
  {
   "cell_type": "code",
   "execution_count": 6,
   "metadata": {},
   "outputs": [
    {
     "name": "stdout",
     "output_type": "stream",
     "text": [
      "2015-01-01 12:00:00+09:00\n"
     ]
    }
   ],
   "source": [
    "dt = datetime(2015, 1, 1, 12, 0, 0, tzinfo=JST)\n",
    "print(dt)"
   ]
  },
  {
   "cell_type": "code",
   "execution_count": 7,
   "metadata": {},
   "outputs": [
    {
     "name": "stdout",
     "output_type": "stream",
     "text": [
      "UTC+09:00\n"
     ]
    }
   ],
   "source": [
    "print(dt.tzname())"
   ]
  },
  {
   "cell_type": "code",
   "execution_count": 8,
   "metadata": {},
   "outputs": [
    {
     "name": "stdout",
     "output_type": "stream",
     "text": [
      "<built-in method tzname of datetime.datetime object at 0x000002AF52977570>\n"
     ]
    }
   ],
   "source": [
    "dt = datetime(2015, 1, 1, 12, 0, 0, tzinfo=timezone(timedelta(hours=9), 'JST'))\n",
    "print(dt.tzname)"
   ]
  },
  {
   "cell_type": "code",
   "execution_count": 9,
   "metadata": {},
   "outputs": [
    {
     "name": "stdout",
     "output_type": "stream",
     "text": [
      "2015-01-01 12:00:00-03:00\n",
      "2015-01-01 12:00:00-08:00\n",
      "2015-07-01 12:00:00-07:00\n"
     ]
    }
   ],
   "source": [
    "from datetime import datetime\n",
    "from dateutil import tz\n",
    "local = tz.gettz() # Local time\n",
    "PT = tz.gettz('US/Pacific') # Pacific time\n",
    "dt_l = datetime(2015, 1, 1, 12, tzinfo=local) # I am in EST\n",
    "dt_pst = datetime(2015, 1, 1, 12, tzinfo=PT)\n",
    "dt_pdt = datetime(2015, 7, 1, 12, tzinfo=PT) # DST is handled automatically\n",
    "\n",
    "print(dt_l)\n",
    "print(dt_pst)\n",
    "print(dt_pdt)"
   ]
  },
  {
   "cell_type": "code",
   "execution_count": 10,
   "metadata": {},
   "outputs": [
    {
     "name": "stdout",
     "output_type": "stream",
     "text": [
      "2015-01-01 12:00:00-08:00\n",
      "2015-11-01 00:30:00-07:00\n"
     ]
    }
   ],
   "source": [
    "from datetime import datetime, timedelta\n",
    "import pytz\n",
    "PT = pytz.timezone('US/Pacific')\n",
    "dt_pst = PT.localize(datetime(2015, 1, 1, 12))\n",
    "dt_pdt = PT.localize(datetime(2015, 11, 1, 0, 30))\n",
    "\n",
    "print(dt_pst)\n",
    "print(dt_pdt)"
   ]
  },
  {
   "cell_type": "code",
   "execution_count": 11,
   "metadata": {},
   "outputs": [
    {
     "name": "stdout",
     "output_type": "stream",
     "text": [
      "2015-11-01 03:30:00-07:00\n",
      "2015-11-01 02:30:00-08:00\n"
     ]
    }
   ],
   "source": [
    "dt_new = dt_pdt + timedelta(hours=3) # This should be 2:30 AM PST\n",
    "print(dt_new)\n",
    "\n",
    "dt_corrected = PT.normalize(dt_new)\n",
    "print(dt_corrected)"
   ]
  },
  {
   "cell_type": "markdown",
   "metadata": {},
   "source": [
    "Section 5.3: Computing time dierences"
   ]
  },
  {
   "cell_type": "code",
   "execution_count": 12,
   "metadata": {},
   "outputs": [],
   "source": [
    "from datetime import datetime, timedelta\n",
    "now = datetime.now()\n",
    "then = datetime(2016, 5, 23) # datetime.datetime(2016, 05, 23, 0, 0, 0)"
   ]
  },
  {
   "cell_type": "code",
   "execution_count": 14,
   "metadata": {},
   "outputs": [
    {
     "name": "stdout",
     "output_type": "stream",
     "text": [
      "3033\n",
      "75345\n"
     ]
    }
   ],
   "source": [
    "delta = now-then\n",
    "print(delta.days)\n",
    "print(delta.seconds)"
   ]
  },
  {
   "cell_type": "markdown",
   "metadata": {},
   "source": [
    "Section 5.4: Basic datetime objects usage"
   ]
  },
  {
   "cell_type": "code",
   "execution_count": 16,
   "metadata": {},
   "outputs": [],
   "source": [
    "import datetime\n",
    "# Date object\n",
    "today = datetime.date.today()\n",
    "new_year = datetime.date(2017, 1, 1) #datetime.date(2017, 1, 1)\n",
    "# Time object\n",
    "noon = datetime.time(12, 0, 0) #datetime.time(12, 0)\n",
    "# Current datetime\n",
    "now = datetime.datetime.now()"
   ]
  },
  {
   "cell_type": "code",
   "execution_count": 17,
   "metadata": {},
   "outputs": [],
   "source": [
    "millenium_turn = datetime.datetime(2000, 1, 1, 0, 0, 0) #datetime.datetime(2000, 1, 1, 0, 0)"
   ]
  },
  {
   "cell_type": "code",
   "execution_count": 18,
   "metadata": {},
   "outputs": [
    {
     "name": "stdout",
     "output_type": "stream",
     "text": [
      "Time since the millenium at midnight:  9020 days, 0:00:00\n",
      "Time since the millenium at noon:  9020 days, 12:00:00\n"
     ]
    }
   ],
   "source": [
    "print('Time since the millenium at midnight: ',\n",
    "datetime.datetime(today.year, today.month, today.day) - millenium_turn)\n",
    "# Or this\n",
    "print('Time since the millenium at noon: ',\n",
    "datetime.datetime.combine(today, noon) - millenium_turn)"
   ]
  },
  {
   "cell_type": "code",
   "execution_count": 19,
   "metadata": {},
   "outputs": [
    {
     "data": {
      "text/plain": [
       "datetime.datetime(2024, 9, 11, 21, 0, 19, 866396, tzinfo=tzlocal())"
      ]
     },
     "execution_count": 19,
     "metadata": {},
     "output_type": "execute_result"
    }
   ],
   "source": [
    "from datetime import datetime\n",
    "from dateutil import tz\n",
    "utc = tz.tzutc()\n",
    "local = tz.tzlocal()\n",
    "utc_now = datetime.utcnow()\n",
    "utc_now # Not timezone-aware.\n",
    "utc_now = utc_now.replace(tzinfo=utc)\n",
    "utc_now # Timezone-aware.\n",
    "local_now = utc_now.astimezone(local)\n",
    "local_now # Converted to local time."
   ]
  }
 ],
 "metadata": {
  "kernelspec": {
   "display_name": "Python 3",
   "language": "python",
   "name": "python3"
  },
  "language_info": {
   "codemirror_mode": {
    "name": "ipython",
    "version": 3
   },
   "file_extension": ".py",
   "mimetype": "text/x-python",
   "name": "python",
   "nbconvert_exporter": "python",
   "pygments_lexer": "ipython3",
   "version": "3.10.7"
  }
 },
 "nbformat": 4,
 "nbformat_minor": 2
}
