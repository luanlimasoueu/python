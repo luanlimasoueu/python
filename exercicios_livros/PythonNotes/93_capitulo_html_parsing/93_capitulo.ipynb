{
 "cells": [
  {
   "cell_type": "markdown",
   "metadata": {},
   "source": [
    "Chapter 93: HTML Parsing"
   ]
  },
  {
   "cell_type": "markdown",
   "metadata": {},
   "source": [
    "Section 93.1: Using CSS selectors in BeautifulSoup"
   ]
  },
  {
   "cell_type": "code",
   "execution_count": 1,
   "metadata": {},
   "outputs": [
    {
     "name": "stdout",
     "output_type": "stream",
     "text": [
      "item1\n",
      "item2\n",
      "item3\n"
     ]
    }
   ],
   "source": [
    "from bs4 import BeautifulSoup\n",
    "data = \"\"\"\n",
    "<ul>\n",
    "<li class=\"item\">item1</li>\n",
    "<li class=\"item\">item2</li>\n",
    "<li class=\"item\">item3</li>\n",
    "</ul>\n",
    "\"\"\"\n",
    "soup = BeautifulSoup(data, \"html.parser\")\n",
    "for item in soup.select(\"li.item\"):\n",
    "    print(item.get_text())"
   ]
  },
  {
   "cell_type": "markdown",
   "metadata": {},
   "source": [
    "Section 93.2: PyQuery"
   ]
  },
  {
   "cell_type": "code",
   "execution_count": 3,
   "metadata": {},
   "outputs": [
    {
     "name": "stdout",
     "output_type": "stream",
     "text": [
      "Collecting pyquery\n",
      "  Downloading pyquery-2.0.1-py3-none-any.whl (22 kB)\n",
      "Requirement already satisfied: cssselect>=1.2.0 in c:\\users\\luan lima\\appdata\\local\\programs\\python\\python310\\lib\\site-packages (from pyquery) (1.2.0)\n",
      "Requirement already satisfied: lxml>=2.1 in c:\\users\\luan lima\\appdata\\local\\programs\\python\\python310\\lib\\site-packages (from pyquery) (4.9.3)\n",
      "Installing collected packages: pyquery\n",
      "Successfully installed pyquery-2.0.1\n",
      "Note: you may need to restart the kernel to use updated packages.\n"
     ]
    },
    {
     "name": "stderr",
     "output_type": "stream",
     "text": [
      "\n",
      "[notice] A new release of pip available: 22.2.2 -> 24.2\n",
      "[notice] To update, run: python.exe -m pip install --upgrade pip\n"
     ]
    }
   ],
   "source": [
    "pip install pyquery"
   ]
  },
  {
   "cell_type": "code",
   "execution_count": 4,
   "metadata": {},
   "outputs": [
    {
     "name": "stdout",
     "output_type": "stream",
     "text": [
      "Sales\n",
      "Lorem\t 46\n",
      "Ipsum\t 12\n",
      "Dolor\t 27\n",
      "Sit\t 90\n"
     ]
    }
   ],
   "source": [
    "from pyquery import PyQuery\n",
    "html = \"\"\"\n",
    "<h1>Sales</h1>\n",
    "<table id=\"table\">\n",
    "<tr>\n",
    "<td>Lorem</td>\n",
    "<td>46</td>\n",
    "</tr>\n",
    "<tr>\n",
    "<td>Ipsum</td>\n",
    "<td>12</td>\n",
    "</tr>\n",
    "<tr>\n",
    "<td>Dolor</td>\n",
    "<td>27</td>\n",
    "</tr>\n",
    "<tr>\n",
    "<td>Sit</td>\n",
    "<td>90</td>\n",
    "</tr>\n",
    "</table>\n",
    "\"\"\"\n",
    "doc = PyQuery(html)\n",
    "title = doc('h1').text()\n",
    "print (title)\n",
    "\n",
    "table_data = []\n",
    "rows = doc('#table > tr')\n",
    "for row in rows:\n",
    "    name = PyQuery(row).find('td').eq(0).text()\n",
    "    value = PyQuery(row).find('td').eq(1).text()\n",
    "    print (\"%s\\t %s\" % (name, value))\n"
   ]
  },
  {
   "cell_type": "markdown",
   "metadata": {},
   "source": [
    "Section 93.3: Locate a text after an element in BeautifulSoup"
   ]
  },
  {
   "cell_type": "code",
   "execution_count": 5,
   "metadata": {},
   "outputs": [
    {
     "name": "stdout",
     "output_type": "stream",
     "text": [
      "John Smith\n"
     ]
    },
    {
     "name": "stderr",
     "output_type": "stream",
     "text": [
      "C:\\Users\\Luan Lima\\AppData\\Local\\Temp\\ipykernel_22784\\858552864.py:9: DeprecationWarning: The 'text' argument to find()-type methods is deprecated. Use 'string' instead.\n",
      "  label = soup.find(\"label\", text=\"Name:\")\n"
     ]
    }
   ],
   "source": [
    "from bs4 import BeautifulSoup\n",
    "data = \"\"\"\n",
    "<div>\n",
    "<label>Name:</label>\n",
    "John Smith\n",
    "</div>\n",
    "\"\"\"\n",
    "soup = BeautifulSoup(data, \"html.parser\")\n",
    "label = soup.find(\"label\", text=\"Name:\")\n",
    "print(label.next_sibling.strip())"
   ]
  }
 ],
 "metadata": {
  "kernelspec": {
   "display_name": "Python 3",
   "language": "python",
   "name": "python3"
  },
  "language_info": {
   "codemirror_mode": {
    "name": "ipython",
    "version": 3
   },
   "file_extension": ".py",
   "mimetype": "text/x-python",
   "name": "python",
   "nbconvert_exporter": "python",
   "pygments_lexer": "ipython3",
   "version": "3.10.7"
  }
 },
 "nbformat": 4,
 "nbformat_minor": 2
}
