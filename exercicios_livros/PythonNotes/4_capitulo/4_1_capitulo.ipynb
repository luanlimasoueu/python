{
 "cells": [
  {
   "cell_type": "code",
   "execution_count": 2,
   "metadata": {},
   "outputs": [],
   "source": [
    "# This is a single line comment in Python"
   ]
  },
  {
   "cell_type": "code",
   "execution_count": 3,
   "metadata": {},
   "outputs": [
    {
     "name": "stdout",
     "output_type": "stream",
     "text": [
      "Hello World\n"
     ]
    }
   ],
   "source": [
    "print(\"Hello World\") # This line prints \"Hello World\""
   ]
  },
  {
   "cell_type": "code",
   "execution_count": 4,
   "metadata": {},
   "outputs": [
    {
     "data": {
      "text/plain": [
       "'\\nThis type of comment spans multiple lines.\\nThese are mostly used for documentation of functions, classes and modules.\\n'"
      ]
     },
     "execution_count": 4,
     "metadata": {},
     "output_type": "execute_result"
    }
   ],
   "source": [
    "\"\"\"\n",
    "This type of comment spans multiple lines.\n",
    "These are mostly used for documentation of functions, classes and modules.\n",
    "\"\"\""
   ]
  },
  {
   "cell_type": "code",
   "execution_count": 5,
   "metadata": {},
   "outputs": [],
   "source": [
    "def func():\n",
    "    \"\"\"This is a function that does nothing at all\"\"\"\n",
    "    return"
   ]
  },
  {
   "cell_type": "code",
   "execution_count": 6,
   "metadata": {},
   "outputs": [
    {
     "name": "stdout",
     "output_type": "stream",
     "text": [
      "This is a function that does nothing at all\n"
     ]
    }
   ],
   "source": [
    "print(func.__doc__)"
   ]
  },
  {
   "cell_type": "code",
   "execution_count": 7,
   "metadata": {},
   "outputs": [
    {
     "name": "stdout",
     "output_type": "stream",
     "text": [
      "Help on function func in module __main__:\n",
      "\n",
      "func()\n",
      "    This is a function that does nothing at all\n",
      "\n"
     ]
    }
   ],
   "source": [
    "help(func)"
   ]
  },
  {
   "cell_type": "code",
   "execution_count": 8,
   "metadata": {},
   "outputs": [
    {
     "name": "stdout",
     "output_type": "stream",
     "text": [
      "Help on function greet in module __main__:\n",
      "\n",
      "greet(name, greeting='Hello')\n",
      "    Print a greeting to the user `name`\n",
      "    Optional parameter `greeting` can change what they're greeted with.\n",
      "\n"
     ]
    }
   ],
   "source": [
    "def greet(name, greeting=\"Hello\"):\n",
    "    \"\"\"Print a greeting to the user `name`\n",
    "    Optional parameter `greeting` can change what they're greeted with.\"\"\"\n",
    "    print(\"{} {}\".format(greeting, name))\n",
    "help(greet)"
   ]
  },
  {
   "cell_type": "code",
   "execution_count": 9,
   "metadata": {},
   "outputs": [
    {
     "name": "stdout",
     "output_type": "stream",
     "text": [
      "None\n"
     ]
    }
   ],
   "source": [
    "def greet(name, greeting=\"Hello\"):\n",
    "    # Print a greeting to the user `name`\n",
    "    # Optional parameter `greeting` can change what they're greeted with.\n",
    "    print(\"{} {}\".format(greeting, name))\n",
    "print(greet.__doc__)"
   ]
  },
  {
   "cell_type": "code",
   "execution_count": 10,
   "metadata": {},
   "outputs": [
    {
     "name": "stdout",
     "output_type": "stream",
     "text": [
      "Help on function greet in module __main__:\n",
      "\n",
      "greet(name, greeting='Hello')\n",
      "\n"
     ]
    }
   ],
   "source": [
    "help(greet)"
   ]
  },
  {
   "cell_type": "code",
   "execution_count": 11,
   "metadata": {},
   "outputs": [],
   "source": [
    "def hello(name):\n",
    "    \"\"\"Greet someone.\n",
    "    Print a greeting (\"Hello\") for the person with the given name.\n",
    "    \"\"\"\n",
    "    print(\"Hello \"+name)\n",
    "\n",
    "class Greeter:\n",
    "    \"\"\"An object used to greet people.\n",
    "    It contains multiple greeting functions for several languages\n",
    "    and times of the day.\n",
    "    \"\"\""
   ]
  },
  {
   "cell_type": "code",
   "execution_count": 12,
   "metadata": {},
   "outputs": [],
   "source": [
    "def hello():\n",
    "    \"\"\"Say hello to your friends.\"\"\"\n",
    "    print(\"Hello my friends!\")"
   ]
  },
  {
   "cell_type": "code",
   "execution_count": 13,
   "metadata": {},
   "outputs": [
    {
     "name": "stdout",
     "output_type": "stream",
     "text": [
      "Help on function hello in module __main__:\n",
      "\n",
      "hello()\n",
      "    Say hello to your friends.\n",
      "\n"
     ]
    }
   ],
   "source": [
    "help(hello)"
   ]
  },
  {
   "cell_type": "code",
   "execution_count": 14,
   "metadata": {},
   "outputs": [],
   "source": [
    "def hello(name, language=\"en\"):\n",
    "    \"\"\"Say hello to a person.\n",
    "    Arguments:\n",
    "    name: the name of the person\n",
    "    language: the language in which the person should be greeted\n",
    "    \"\"\"\n",
    "    print(greeting[language]+\" \"+name)"
   ]
  },
  {
   "cell_type": "code",
   "execution_count": 15,
   "metadata": {},
   "outputs": [
    {
     "name": "stdout",
     "output_type": "stream",
     "text": [
      "Help on function hello in module __main__:\n",
      "\n",
      "hello(name, language='en')\n",
      "    Say hello to a person.\n",
      "    Arguments:\n",
      "    name: the name of the person\n",
      "    language: the language in which the person should be greeted\n",
      "\n"
     ]
    }
   ],
   "source": [
    "help(hello)"
   ]
  },
  {
   "cell_type": "code",
   "execution_count": 16,
   "metadata": {},
   "outputs": [],
   "source": [
    "def hello(name, language=\"en\"):\n",
    "    \"\"\"Say hello to a person.\n",
    "    :param name: the name of the person\n",
    "    :type name: str\n",
    "    :param language: the language in which the person should be greeted\n",
    "    :type language: str\n",
    "    :return: a number\n",
    "    :rtype: int\n",
    "    \"\"\"\n",
    "    print(greeting[language]+\" \"+name)\n",
    "    return 4"
   ]
  },
  {
   "cell_type": "code",
   "execution_count": 17,
   "metadata": {},
   "outputs": [
    {
     "name": "stdout",
     "output_type": "stream",
     "text": [
      "Help on function hello in module __main__:\n",
      "\n",
      "hello(name, language='en')\n",
      "    Say hello to a person.\n",
      "    :param name: the name of the person\n",
      "    :type name: str\n",
      "    :param language: the language in which the person should be greeted\n",
      "    :type language: str\n",
      "    :return: a number\n",
      "    :rtype: int\n",
      "\n"
     ]
    }
   ],
   "source": [
    "help(hello)"
   ]
  },
  {
   "cell_type": "code",
   "execution_count": null,
   "metadata": {},
   "outputs": [],
   "source": [
    "def hello(name, language=\"en\"):\n",
    "    \"\"\"Say hello to a person.\n",
    "    Args:\n",
    "    name: the name of the person as string\n",
    "    language: the language code string\n",
    "    Returns:\n",
    "    A number.\n",
    "    \"\"\"\n",
    "    print(greeting[language]+\" \"+name)\n",
    "    return 4"
   ]
  },
  {
   "cell_type": "code",
   "execution_count": 18,
   "metadata": {},
   "outputs": [
    {
     "name": "stdout",
     "output_type": "stream",
     "text": [
      "Help on function hello in module __main__:\n",
      "\n",
      "hello(name, language='en')\n",
      "    Say hello to a person.\n",
      "    :param name: the name of the person\n",
      "    :type name: str\n",
      "    :param language: the language in which the person should be greeted\n",
      "    :type language: str\n",
      "    :return: a number\n",
      "    :rtype: int\n",
      "\n"
     ]
    }
   ],
   "source": [
    "help(hello)"
   ]
  }
 ],
 "metadata": {
  "kernelspec": {
   "display_name": "Python 3",
   "language": "python",
   "name": "python3"
  },
  "language_info": {
   "codemirror_mode": {
    "name": "ipython",
    "version": 3
   },
   "file_extension": ".py",
   "mimetype": "text/x-python",
   "name": "python",
   "nbconvert_exporter": "python",
   "pygments_lexer": "ipython3",
   "version": "3.10.7"
  }
 },
 "nbformat": 4,
 "nbformat_minor": 2
}
