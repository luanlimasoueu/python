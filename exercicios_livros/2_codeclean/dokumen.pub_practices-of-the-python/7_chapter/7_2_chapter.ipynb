{
 "cells": [
  {
   "cell_type": "markdown",
   "metadata": {},
   "source": [
    "Listing 7.4 A composite class that depends on other, smaller classes"
   ]
  },
  {
   "cell_type": "code",
   "execution_count": 1,
   "metadata": {},
   "outputs": [
    {
     "name": "stdout",
     "output_type": "stream",
     "text": [
      "Frame: An aluminum frame\n",
      "Front tire: A rubber tire, back tire: A rubber tire\n"
     ]
    }
   ],
   "source": [
    "class Tire:\n",
    "    def __repr__(self):\n",
    "        return 'A rubber tire'\n",
    "class Frame:\n",
    "    def __repr__(self):\n",
    "        return 'An aluminum frame'\n",
    "class Bicycle:\n",
    "    def __init__(self):\n",
    "        self.front_tire = Tire()\n",
    "        self.back_tire = Tire()\n",
    "        self.frame = Frame()\n",
    "\n",
    "    def print_specs(self):\n",
    "        print(f'Frame: {self.frame}')\n",
    "        print(f'Front tire: {self.front_tire}, back tire: {self.back_tire}')\n",
    "if __name__ == '__main__':\n",
    "    bike = Bicycle()\n",
    "    bike.print_specs()"
   ]
  },
  {
   "cell_type": "markdown",
   "metadata": {},
   "source": [
    "Listing 7.5 Using inversion of control"
   ]
  },
  {
   "cell_type": "code",
   "execution_count": 2,
   "metadata": {},
   "outputs": [
    {
     "name": "stdout",
     "output_type": "stream",
     "text": [
      "Frame: An aluminum frame\n",
      "Front tire: A rubber tire, back tire: A rubber tire\n"
     ]
    }
   ],
   "source": [
    "class Tire:\n",
    "    def __repr__(self):\n",
    "        return 'A rubber tire'\n",
    "class Frame:\n",
    "    def __repr__(self):\n",
    "        return 'An aluminum frame'\n",
    "class Bicycle:\n",
    "    def __init__(self, front_tire, back_tire, frame):\n",
    "        self.front_tire = front_tire\n",
    "        self.back_tire = back_tire\n",
    "        self.frame = frame\n",
    "    def print_specs(self):\n",
    "        print(f'Frame: {self.frame}')\n",
    "        print(f'Front tire: {self.front_tire}, back tire: {self.back_tire}')\n",
    "\n",
    "if __name__ == '__main__':\n",
    "    bike = Bicycle(Tire(), Tire(), Frame())\n",
    "    bike.print_specs()"
   ]
  }
 ],
 "metadata": {
  "kernelspec": {
   "display_name": "Python 3",
   "language": "python",
   "name": "python3"
  },
  "language_info": {
   "codemirror_mode": {
    "name": "ipython",
    "version": 3
   },
   "file_extension": ".py",
   "mimetype": "text/x-python",
   "name": "python",
   "nbconvert_exporter": "python",
   "pygments_lexer": "ipython3",
   "version": "3.10.7"
  }
 },
 "nbformat": 4,
 "nbformat_minor": 2
}
