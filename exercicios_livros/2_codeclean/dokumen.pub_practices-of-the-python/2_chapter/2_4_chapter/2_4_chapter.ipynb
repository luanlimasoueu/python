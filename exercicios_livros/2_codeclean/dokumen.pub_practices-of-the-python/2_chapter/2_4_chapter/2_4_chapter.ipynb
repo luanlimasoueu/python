{
 "cells": [
  {
   "cell_type": "code",
   "execution_count": 1,
   "metadata": {},
   "outputs": [
    {
     "name": "stdout",
     "output_type": "stream",
     "text": [
      "The Three Stooges: Larry, Curly, and Moe\n"
     ]
    }
   ],
   "source": [
    "names = ['Larry', 'Curly', 'Moe']\n",
    "message = 'The Three Stooges: '\n",
    "for index, name in enumerate(names):\n",
    "    if index > 0:\n",
    "        message += ', '\n",
    "    if index == len(names) - 1:\n",
    "        message += 'and '\n",
    "    message += name\n",
    "print(message)"
   ]
  },
  {
   "cell_type": "code",
   "execution_count": 2,
   "metadata": {},
   "outputs": [
    {
     "name": "stdout",
     "output_type": "stream",
     "text": [
      "The Three Stooges: Moe, Larry, and Shemp\n"
     ]
    }
   ],
   "source": [
    "names = ['Moe', 'Larry', 'Shemp']\n",
    "message = 'The Three Stooges: '\n",
    "for index, name in enumerate(names):\n",
    "    if index > 0:\n",
    "        message += ', '\n",
    "    if index == len(names) - 1:\n",
    "        message += 'and '\n",
    "    message += name\n",
    "print(message)"
   ]
  },
  {
   "cell_type": "code",
   "execution_count": 3,
   "metadata": {},
   "outputs": [
    {
     "name": "stdout",
     "output_type": "stream",
     "text": [
      "The Three Stooges: Moe, Larry, and Shemp\n"
     ]
    }
   ],
   "source": [
    "ames = ['Larry', 'Curly', 'Moe']\n",
    "message = 'The Three Stooges: '\n",
    "for index, name in enumerate(names):\n",
    "    if index > 0:\n",
    "        message += ', '\n",
    "    if index == len(names) - 1:\n",
    "        message += 'and '\n",
    "    message += name\n",
    "print(message)"
   ]
  },
  {
   "cell_type": "code",
   "execution_count": 4,
   "metadata": {},
   "outputs": [
    {
     "name": "stdout",
     "output_type": "stream",
     "text": [
      "The Three Stooges: Moe, Larry, and Shemp\n",
      "The Three Stooges: Larry, Curly, and Moe\n"
     ]
    }
   ],
   "source": [
    "def introduce_stooges(names):\n",
    "    message = 'The Three Stooges: '\n",
    "    for index, name in enumerate(names):\n",
    "        if index > 0:\n",
    "            message += ', '\n",
    "        if index == len(names) - 1:\n",
    "            message += 'and '\n",
    "        message += name\n",
    "    print(message)\n",
    "\n",
    "introduce_stooges(['Moe', 'Larry', 'Shemp'])\n",
    "introduce_stooges(['Larry', 'Curly', 'Moe'])"
   ]
  }
 ],
 "metadata": {
  "kernelspec": {
   "display_name": "Python 3",
   "language": "python",
   "name": "python3"
  },
  "language_info": {
   "codemirror_mode": {
    "name": "ipython",
    "version": 3
   },
   "file_extension": ".py",
   "mimetype": "text/x-python",
   "name": "python",
   "nbconvert_exporter": "python",
   "pygments_lexer": "ipython3",
   "version": "3.10.7"
  }
 },
 "nbformat": 4,
 "nbformat_minor": 2
}
