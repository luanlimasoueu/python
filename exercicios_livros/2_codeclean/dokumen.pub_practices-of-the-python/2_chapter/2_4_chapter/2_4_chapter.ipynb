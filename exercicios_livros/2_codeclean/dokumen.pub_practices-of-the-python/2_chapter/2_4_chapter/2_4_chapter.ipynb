{
 "cells": [
  {
   "cell_type": "code",
   "execution_count": 1,
   "metadata": {},
   "outputs": [
    {
     "name": "stdout",
     "output_type": "stream",
     "text": [
      "The Three Stooges: Larry, Curly, and Moe\n"
     ]
    }
   ],
   "source": [
    "names = ['Larry', 'Curly', 'Moe']\n",
    "message = 'The Three Stooges: '\n",
    "for index, name in enumerate(names):\n",
    "    if index > 0:\n",
    "        message += ', '\n",
    "    if index == len(names) - 1:\n",
    "        message += 'and '\n",
    "    message += name\n",
    "print(message)"
   ]
  },
  {
   "cell_type": "code",
   "execution_count": 2,
   "metadata": {},
   "outputs": [
    {
     "name": "stdout",
     "output_type": "stream",
     "text": [
      "The Three Stooges: Moe, Larry, and Shemp\n"
     ]
    }
   ],
   "source": [
    "names = ['Moe', 'Larry', 'Shemp']\n",
    "message = 'The Three Stooges: '\n",
    "for index, name in enumerate(names):\n",
    "    if index > 0:\n",
    "        message += ', '\n",
    "    if index == len(names) - 1:\n",
    "        message += 'and '\n",
    "    message += name\n",
    "print(message)"
   ]
  },
  {
   "cell_type": "code",
   "execution_count": 3,
   "metadata": {},
   "outputs": [
    {
     "name": "stdout",
     "output_type": "stream",
     "text": [
      "The Three Stooges: Moe, Larry, and Shemp\n"
     ]
    }
   ],
   "source": [
    "ames = ['Larry', 'Curly', 'Moe']\n",
    "message = 'The Three Stooges: '\n",
    "for index, name in enumerate(names):\n",
    "    if index > 0:\n",
    "        message += ', '\n",
    "    if index == len(names) - 1:\n",
    "        message += 'and '\n",
    "    message += name\n",
    "print(message)"
   ]
  },
  {
   "cell_type": "code",
   "execution_count": 4,
   "metadata": {},
   "outputs": [
    {
     "name": "stdout",
     "output_type": "stream",
     "text": [
      "The Three Stooges: Moe, Larry, and Shemp\n",
      "The Three Stooges: Larry, Curly, and Moe\n"
     ]
    }
   ],
   "source": [
    "def introduce_stooges(names):\n",
    "    message = 'The Three Stooges: '\n",
    "    for index, name in enumerate(names):\n",
    "        if index > 0:\n",
    "            message += ', '\n",
    "        if index == len(names) - 1:\n",
    "            message += 'and '\n",
    "        message += name\n",
    "    print(message)\n",
    "\n",
    "introduce_stooges(['Moe', 'Larry', 'Shemp'])\n",
    "introduce_stooges(['Larry', 'Curly', 'Moe'])"
   ]
  },
  {
   "cell_type": "code",
   "execution_count": 7,
   "metadata": {},
   "outputs": [
    {
     "name": "stdout",
     "output_type": "stream",
     "text": [
      "The Three Stooges: Moe, Larry, and Shemp\n",
      "The Three Stooges: Larry, Curly, and Moe\n"
     ]
    }
   ],
   "source": [
    "def introduce(title, names):\n",
    "    message = f'{title}: '\n",
    "    for index, name in enumerate(names):\n",
    "        if index > 0:\n",
    "            message += ', '\n",
    "        if index == len(names) - 1:\n",
    "            message += 'and '\n",
    "        message += name\n",
    "    print(message)\n",
    "introduce('The Three Stooges', ['Moe', 'Larry', 'Shemp'])\n",
    "introduce('The Three Stooges', ['Larry', 'Curly', 'Moe'])"
   ]
  },
  {
   "cell_type": "code",
   "execution_count": 8,
   "metadata": {},
   "outputs": [
    {
     "name": "stdout",
     "output_type": "stream",
     "text": [
      "Teenage Mutant Ninja Turtles: Donatello, Raphael, Michelangelo, and Leonardo\n",
      "The Chipmunks: Alvin, Simon, and Theodore\n"
     ]
    }
   ],
   "source": [
    "introduce( 'Teenage Mutant Ninja Turtles',\n",
    "['Donatello', 'Raphael', 'Michelangelo', 'Leonardo']\n",
    ")\n",
    "introduce('The Chipmunks', ['Alvin', 'Simon', 'Theodore'])"
   ]
  },
  {
   "cell_type": "code",
   "execution_count": null,
   "metadata": {},
   "outputs": [],
   "source": [
    "def join_names(names):\n",
    "    name_string = ''\n",
    "    for index, name in enumerate(names):\n",
    "        if index > 0:\n",
    "            name_string += ', '\n",
    "        if index == len(names) - 1:\n",
    "            name_string += 'and '\n",
    "        name_string += name\n",
    "    return name_string\n",
    "\n",
    "def introduce(title, names):\n",
    "    print(f'{title}: {join_names(names)}')"
   ]
  },
  {
   "cell_type": "code",
   "execution_count": 9,
   "metadata": {},
   "outputs": [
    {
     "name": "stdout",
     "output_type": "stream",
     "text": [
      "The Chipmunks: Alvin, Simon, and Theodore\n"
     ]
    }
   ],
   "source": [
    "introduce('The Chipmunks', ['Alvin', 'Simon', 'Theodore'])"
   ]
  },
  {
   "cell_type": "markdown",
   "metadata": {},
   "source": [
    "Listing 2.1 Shoddy procedural code"
   ]
  },
  {
   "cell_type": "code",
   "execution_count": 11,
   "metadata": {},
   "outputs": [
    {
     "name": "stdout",
     "output_type": "stream",
     "text": [
      "(1) Rock\n",
      "(2) Paper\n",
      "(3) Scissors\n",
      "You chose paper\n",
      "The computer chose paper\n",
      "Draw!\n"
     ]
    }
   ],
   "source": [
    "import random\n",
    "options = ['rock', 'paper', 'scissors']\n",
    "print('(1) Rock\\n(2) Paper\\n(3) Scissors')\n",
    "human_choice = options[int(input('Enter the number of your choice: ')) - 1]\n",
    "print(f'You chose {human_choice}')\n",
    "computer_choice = random.choice(options)\n",
    "print(f'The computer chose {computer_choice}')\n",
    "if human_choice == 'rock':\n",
    "    if computer_choice == 'paper':\n",
    "        print('Sorry, paper beat rock')\n",
    "    elif computer_choice == 'scissors':\n",
    "        print('Yes, rock beat scissors!')\n",
    "    else:\n",
    "        print('Draw!')\n",
    "elif human_choice == 'paper':\n",
    "    if computer_choice == 'scissors':\n",
    "        print('Sorry, scissors beat paper')\n",
    "    elif computer_choice == 'rock':\n",
    "        print('Yes, paper beat rock!')\n",
    "    else:\n",
    "        print('Draw!')\n",
    "elif human_choice == 'scissors':\n",
    "    if computer_choice == 'rock':\n",
    "        print('Sorry, rock beat scissors')\n",
    "    elif computer_choice == 'paper':\n",
    "        print('Yes, scissors beat paper!')\n",
    "    else:\n",
    "        print('Draw!')"
   ]
  },
  {
   "cell_type": "code",
   "execution_count": 12,
   "metadata": {},
   "outputs": [
    {
     "name": "stdout",
     "output_type": "stream",
     "text": [
      "(1) Rock\n",
      "(2) Paper\n",
      "(3) Scissors\n",
      "You chose scissors\n",
      "The computer chose rock\n"
     ]
    }
   ],
   "source": [
    "import random\n",
    "options = ['rock', 'paper', 'scissors']\n",
    "print('(1) Rock\\n(2) Paper\\n(3) Scissors')\n",
    "human_choice = options[int(input('Enter the number of your choice: ')) - 1]\n",
    "print(f'You chose {human_choice}')\n",
    "computer_choice = random.choice(options)\n",
    "print(f'The computer chose {computer_choice}')"
   ]
  },
  {
   "cell_type": "code",
   "execution_count": 13,
   "metadata": {},
   "outputs": [
    {
     "data": {
      "text/plain": [
       "'scissors'"
      ]
     },
     "execution_count": 13,
     "metadata": {},
     "output_type": "execute_result"
    }
   ],
   "source": [
    "human_choice "
   ]
  },
  {
   "cell_type": "markdown",
   "metadata": {},
   "source": [
    "Listing 2.2 Code with extracted functions"
   ]
  },
  {
   "cell_type": "code",
   "execution_count": 14,
   "metadata": {},
   "outputs": [
    {
     "name": "stdout",
     "output_type": "stream",
     "text": [
      "(0) Rock\n",
      "(1) Paper\n",
      "(2) Scissors\n",
      "You chose rock\n",
      "The computer chose paper\n",
      "Sorry, paper beats rock\n"
     ]
    }
   ],
   "source": [
    "import random\n",
    "\n",
    "OPTIONS = ['rock', 'paper', 'scissors']\n",
    "\n",
    "def get_computer_choice():\n",
    "    return random.choice(OPTIONS)\n",
    "\n",
    "def get_human_choice():\n",
    "    choice_number = int(input('Enter the number of your choice: '))\n",
    "    return OPTIONS[choice_number - 1]\n",
    "\n",
    "def print_options():\n",
    "    print('\\n'.join(f'({i}) {option.title()}' for i, option in enumerate(OPTIONS)))\n",
    "\n",
    "def print_choices(human_choice, computer_choice):\n",
    "    print(f'You chose {human_choice}')\n",
    "    print(f'The computer chose {computer_choice}')\n",
    "\n",
    "def print_win_lose(human_choice, computer_choice, human_beats,human_loses_to):\n",
    "    if computer_choice == human_loses_to:\n",
    "        print(f'Sorry, {computer_choice} beats {human_choice}')\n",
    "    elif computer_choice == human_beats:\n",
    "        print(f'Yes, {human_choice} beats {computer_choice}!')\n",
    "\n",
    "def print_result(human_choice, computer_choice):\n",
    "    if human_choice == computer_choice:\n",
    "        print('Draw!')\n",
    "\n",
    "    if human_choice == 'rock':\n",
    "        print_win_lose('rock', computer_choice, 'scissors', 'paper')\n",
    "    elif human_choice == 'paper':\n",
    "        print_win_lose('paper', computer_choice, 'rock', 'scissors')\n",
    "    elif human_choice == 'scissors':\n",
    "        print_win_lose('scissors', computer_choice, 'paper', 'rock')\n",
    "print_options()\n",
    "human_choice = get_human_choice()\n",
    "computer_choice = get_computer_choice()\n",
    "print_choices(human_choice, computer_choice)\n",
    "print_result(human_choice, computer_choice)"
   ]
  }
 ],
 "metadata": {
  "kernelspec": {
   "display_name": "Python 3",
   "language": "python",
   "name": "python3"
  },
  "language_info": {
   "codemirror_mode": {
    "name": "ipython",
    "version": 3
   },
   "file_extension": ".py",
   "mimetype": "text/x-python",
   "name": "python",
   "nbconvert_exporter": "python",
   "pygments_lexer": "ipython3",
   "version": "3.10.7"
  }
 },
 "nbformat": 4,
 "nbformat_minor": 2
}
