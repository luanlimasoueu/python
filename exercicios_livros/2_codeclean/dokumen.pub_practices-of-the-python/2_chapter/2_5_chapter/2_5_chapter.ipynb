{
 "cells": [
  {
   "cell_type": "code",
   "execution_count": 1,
   "metadata": {},
   "outputs": [],
   "source": [
    "import random\n",
    "\n",
    "OPTIONS = ['rock', 'paper', 'scissors']\n",
    "def get_computer_choice():\n",
    "    return random.choice(OPTIONS)\n",
    "\n",
    "def get_human_choice():\n",
    "    choice_number = int(input('Enter the number of your choice: '))\n",
    "    return OPTIONS[choice_number - 1]\n",
    "\n",
    "def print_options():\n",
    "    print('\\n'.join(f'({i}) {option.title()}' for i, option in enumerate(OPTIONS)))\n",
    "\n",
    "def print_choices(human_choice, computer_choice):\n",
    "    print(f'You chose {human_choice}')\n",
    "    print(f'The computer chose {computer_choice}')\n",
    "\n",
    "def print_win_lose(human_choice, computer_choice, human_beats, human_loses_to):\n",
    "    if computer_choice == human_loses_to:\n",
    "        print(f'Sorry, {computer_choice} beats {human_choice}')\n",
    "    elif computer_choice == human_beats:\n",
    "        print(f'Yes, {human_choice} beats {computer_choice}!')\n",
    "\n",
    "def print_result(human_choice, computer_choice):\n",
    "    if human_choice == computer_choice:\n",
    "        print('Draw!')\n",
    "    if human_choice == 'rock':\n",
    "        print_win_lose('rock', computer_choice, 'scissors', 'paper')\n",
    "    elif human_choice == 'paper':\n",
    "        print_win_lose('paper', computer_choice, 'rock', 'scissors')\n",
    "    elif human_choice == 'scissors':\n",
    "        print_win_lose('scissors', computer_choice, 'paper', 'rock')"
   ]
  }
 ],
 "metadata": {
  "kernelspec": {
   "display_name": "Python 3",
   "language": "python",
   "name": "python3"
  },
  "language_info": {
   "codemirror_mode": {
    "name": "ipython",
    "version": 3
   },
   "file_extension": ".py",
   "mimetype": "text/x-python",
   "name": "python",
   "nbconvert_exporter": "python",
   "pygments_lexer": "ipython3",
   "version": "3.10.7"
  }
 },
 "nbformat": 4,
 "nbformat_minor": 2
}
