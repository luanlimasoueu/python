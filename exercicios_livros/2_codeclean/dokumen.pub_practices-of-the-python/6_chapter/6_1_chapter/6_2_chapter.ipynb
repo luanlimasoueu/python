{
 "cells": [
  {
   "cell_type": "code",
   "execution_count": 1,
   "metadata": {},
   "outputs": [],
   "source": [
    "# Creating table into database!!!\n",
    "import sqlite3\n",
    "# Connect to sqlite database\n",
    "conn = sqlite3.connect('students.db')\n",
    "# cursor object\n",
    "cursor = conn.cursor()"
   ]
  },
  {
   "cell_type": "code",
   "execution_count": 2,
   "metadata": {},
   "outputs": [],
   "source": [
    "cursor.execute(\"DROP TABLE IF EXISTS STUDENT\")\n",
    "# create query\n",
    "query = \"\"\"CREATE TABLE STUDENT(\n",
    "        ID INT PRIMARY KEY NOT NULL,\n",
    "        NAME CHAR(20) NOT NULL, \n",
    "        ROLL CHAR(20), \n",
    "        ADDRESS CHAR(50), \n",
    "        CLASS CHAR(20) )\"\"\"\n",
    "cursor.execute(query)\n",
    "# commit and close\n",
    "conn.commit()\n",
    "conn.close()"
   ]
  },
  {
   "cell_type": "code",
   "execution_count": 3,
   "metadata": {},
   "outputs": [],
   "source": [
    "import sqlite3\n",
    "conn = sqlite3.connect('students.db')\n",
    "conn.execute(\"INSERT INTO STUDENT (ID,NAME,ROLL,ADDRESS,CLASS) \"\n",
    "             \"VALUES (1, 'John', '001', 'Bangalore', '10th')\")\n",
    "conn.execute(\"INSERT INTO STUDENT (ID,NAME,ROLL,ADDRESS,CLASS) \"\n",
    "             \"VALUES (2, 'Naren', '002', 'Hyd', '12th')\")\n",
    "conn.commit()\n",
    "conn.close()"
   ]
  },
  {
   "cell_type": "code",
   "execution_count": 5,
   "metadata": {},
   "outputs": [
    {
     "name": "stdout",
     "output_type": "stream",
     "text": [
      "[(1, 'John', '001', 'Bangalore', '10th'), (2, 'Naren', '002', 'Hyd', '12th')]\n"
     ]
    }
   ],
   "source": [
    "import sqlite3\n",
    "conn = sqlite3.connect('students.db')\n",
    "cursor = conn.execute(\"SELECT * from STUDENT\")\n",
    "print(cursor.fetchall())\n",
    "conn.close()"
   ]
  },
  {
   "cell_type": "code",
   "execution_count": 6,
   "metadata": {},
   "outputs": [
    {
     "name": "stdout",
     "output_type": "stream",
     "text": [
      "[(1, 'John', '5', 'Bangalore', '10th'), (2, 'Naren', '002', 'Hyd', '12th')]\n"
     ]
    }
   ],
   "source": [
    "import sqlite3\n",
    "conn = sqlite3.connect('students.db')\n",
    "conn.execute(\"UPDATE STUDENT set ROLL = 005 where ID = 1\")\n",
    "conn.commit()\n",
    "cursor = conn.execute(\"SELECT * from STUDENT\")\n",
    "print(cursor.fetchall())\n",
    "conn.close()"
   ]
  },
  {
   "cell_type": "code",
   "execution_count": 7,
   "metadata": {},
   "outputs": [
    {
     "name": "stdout",
     "output_type": "stream",
     "text": [
      "[(1, 'John', '5', 'Bangalore', '10th')]\n"
     ]
    }
   ],
   "source": [
    "import sqlite3\n",
    "conn = sqlite3.connect('students.db')\n",
    "conn.execute(\"DELETE from STUDENT where ID = 2;\")\n",
    "conn.commit()\n",
    "cursor = conn.execute(\"SELECT * from STUDENT\")\n",
    "print(cursor.fetchall())\n",
    "conn.close()"
   ]
  }
 ],
 "metadata": {
  "kernelspec": {
   "display_name": "Python 3",
   "language": "python",
   "name": "python3"
  },
  "language_info": {
   "codemirror_mode": {
    "name": "ipython",
    "version": 3
   },
   "file_extension": ".py",
   "mimetype": "text/x-python",
   "name": "python",
   "nbconvert_exporter": "python",
   "pygments_lexer": "ipython3",
   "version": "3.10.7"
  }
 },
 "nbformat": 4,
 "nbformat_minor": 2
}
