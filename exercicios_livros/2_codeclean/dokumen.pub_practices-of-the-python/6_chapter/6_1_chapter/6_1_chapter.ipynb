{
 "cells": [
  {
   "cell_type": "code",
   "execution_count": 1,
   "metadata": {},
   "outputs": [
    {
     "name": "stdout",
     "output_type": "stream",
     "text": [
      "Database created <sqlite3.Connection object at 0x00000254E9FDED40>\n"
     ]
    }
   ],
   "source": [
    "import sqlite3 as lit\n",
    " \n",
    "def main():\n",
    "   try:\n",
    "       db = lit.connect('geekscoders.db')\n",
    "       print(\"Database created\", db)\n",
    "       db.cursor()\n",
    " \n",
    "   except:\n",
    "       print(\"failed to create database\")\n",
    " \n",
    " \n",
    " \n",
    "if __name__ == \"__main__\":\n",
    "      main()"
   ]
  }
 ],
 "metadata": {
  "kernelspec": {
   "display_name": "Python 3",
   "language": "python",
   "name": "python3"
  },
  "language_info": {
   "codemirror_mode": {
    "name": "ipython",
    "version": 3
   },
   "file_extension": ".py",
   "mimetype": "text/x-python",
   "name": "python",
   "nbconvert_exporter": "python",
   "pygments_lexer": "ipython3",
   "version": "3.10.7"
  }
 },
 "nbformat": 4,
 "nbformat_minor": 2
}
