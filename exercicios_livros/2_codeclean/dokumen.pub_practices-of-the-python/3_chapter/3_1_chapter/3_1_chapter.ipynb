{
 "cells": [
  {
   "cell_type": "code",
   "execution_count": 2,
   "metadata": {},
   "outputs": [
    {
     "name": "stdout",
     "output_type": "stream",
     "text": [
      "['This', 'is', 'a', 'fine', 'milk', 'but', 'the', 'product', 'line', 'appears', 'to', 'be', 'limited', 'in', 'available', 'colors']\n",
      "['I', 'could', 'only', 'find', 'white']\n"
     ]
    }
   ],
   "source": [
    "import re\n",
    "product_review = '''This is a fine milk, but the product\n",
    "line appears to be limited in available colors. I\n",
    "could only find white.'''\n",
    "sentence_pattern = re.compile(r'(.*?\\.)(\\s|$)', re.DOTALL)\n",
    "matches = sentence_pattern.findall(product_review)\n",
    "sentences = [match[0] for match in matches]\n",
    "\n",
    "word_pattern = re.compile(r\"([\\w\\-']+)([\\s,.])?\")\n",
    "for sentence in sentences:\n",
    "    matches = word_pattern.findall(sentence)\n",
    "    words = [match[0] for match in matches]\n",
    "    print(words)"
   ]
  },
  {
   "cell_type": "code",
   "execution_count": 3,
   "metadata": {},
   "outputs": [],
   "source": [
    "import re\n",
    "product_review = '''This is a fine milk, but the product\n",
    "line appears to be limited in available colors. I\n",
    "could only find white.'''"
   ]
  },
  {
   "cell_type": "code",
   "execution_count": 4,
   "metadata": {},
   "outputs": [],
   "source": [
    "sentence_pattern = re.compile(r'(.*?\\.)(\\s|$)', re.DOTALL)"
   ]
  },
  {
   "cell_type": "code",
   "execution_count": 5,
   "metadata": {},
   "outputs": [
    {
     "data": {
      "text/plain": [
       "re.compile(r'(.*?\\.)(\\s|$)', re.DOTALL|re.UNICODE)"
      ]
     },
     "execution_count": 5,
     "metadata": {},
     "output_type": "execute_result"
    }
   ],
   "source": [
    "sentence_pattern "
   ]
  },
  {
   "cell_type": "code",
   "execution_count": 6,
   "metadata": {},
   "outputs": [],
   "source": [
    "matches = sentence_pattern.findall(product_review)"
   ]
  },
  {
   "cell_type": "code",
   "execution_count": 7,
   "metadata": {},
   "outputs": [
    {
     "data": {
      "text/plain": [
       "[('This is a fine milk, but the product\\nline appears to be limited in available colors.',\n",
       "  ' '),\n",
       " ('I\\ncould only find white.', '')]"
      ]
     },
     "execution_count": 7,
     "metadata": {},
     "output_type": "execute_result"
    }
   ],
   "source": [
    "matches"
   ]
  },
  {
   "cell_type": "code",
   "execution_count": 8,
   "metadata": {},
   "outputs": [],
   "source": [
    "sentences = [match[0] for match in matches]"
   ]
  },
  {
   "cell_type": "code",
   "execution_count": 9,
   "metadata": {},
   "outputs": [
    {
     "data": {
      "text/plain": [
       "['This is a fine milk, but the product\\nline appears to be limited in available colors.',\n",
       " 'I\\ncould only find white.']"
      ]
     },
     "execution_count": 9,
     "metadata": {},
     "output_type": "execute_result"
    }
   ],
   "source": [
    "sentences "
   ]
  },
  {
   "cell_type": "code",
   "execution_count": 10,
   "metadata": {},
   "outputs": [
    {
     "name": "stdout",
     "output_type": "stream",
     "text": [
      "['This', 'is', 'a', 'fine', 'milk', 'but', 'the', 'product', 'line', 'appears', 'to', 'be', 'limited', 'in', 'available', 'colors']\n",
      "['I', 'could', 'only', 'find', 'white']\n"
     ]
    }
   ],
   "source": [
    "word_pattern = re.compile(r\"([\\w\\-']+)([\\s,.])?\")\n",
    "for sentence in sentences:\n",
    "    matches = word_pattern.findall(sentence)\n",
    "    words = [match[0] for match in matches]\n",
    "    print(words)"
   ]
  },
  {
   "cell_type": "markdown",
   "metadata": {},
   "source": [
    "Listing 3.2 Refactored sentence parsing"
   ]
  },
  {
   "cell_type": "code",
   "execution_count": 11,
   "metadata": {},
   "outputs": [
    {
     "name": "stdout",
     "output_type": "stream",
     "text": [
      "['I', 'could', 'only', 'find', 'white']\n"
     ]
    }
   ],
   "source": [
    "import re\n",
    "\n",
    "def get_matches_for_pattern(pattern, string):\n",
    "    matches = pattern.findall(string)\n",
    "    return [match[0] for match in matches]\n",
    "\n",
    "product_review = '''This is a fine milk, but the product\n",
    "line appears to be limited in available colors. I\n",
    "could only find white.'''\n",
    "\n",
    "sentence_pattern = re.compile(r'(.*?\\.)(\\s|$)', re.DOTALL)\n",
    "sentences = get_matches_for_pattern(\n",
    "    sentence_pattern,\n",
    "    product_review,\n",
    ")\n",
    "\n",
    "word_pattern = re.compile(r\"([\\w\\-']+)([\\s,.])?\")\n",
    "for sentence in sentences:\n",
    "    words = get_matches_for_pattern(\n",
    "    word_pattern,\n",
    "    sentence\n",
    ")\n",
    "print(words)"
   ]
  }
 ],
 "metadata": {
  "kernelspec": {
   "display_name": "Python 3",
   "language": "python",
   "name": "python3"
  },
  "language_info": {
   "codemirror_mode": {
    "name": "ipython",
    "version": 3
   },
   "file_extension": ".py",
   "mimetype": "text/x-python",
   "name": "python",
   "nbconvert_exporter": "python",
   "pygments_lexer": "ipython3",
   "version": "3.10.7"
  }
 },
 "nbformat": 4,
 "nbformat_minor": 2
}
