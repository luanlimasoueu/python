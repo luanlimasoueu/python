{
 "cells": [
  {
   "cell_type": "markdown",
   "metadata": {},
   "source": [
    "A Book class too concerned with author details"
   ]
  },
  {
   "cell_type": "code",
   "execution_count": 6,
   "metadata": {},
   "outputs": [],
   "source": [
    "class Book:\n",
    "    def __init__(self, data):\n",
    "        self.title = data['title']\n",
    "        self.subtitle = data['subtitle']\n",
    "        self.author_data = data['author']\n",
    "\n",
    "    @property\n",
    "    def author_for_display(self):\n",
    "        return f'{self.author_data[\"first_name\"]} {self.author_data[\"last_name\"]}'\n",
    "    @property\n",
    "    def author_for_citation(self):\n",
    "        return f'{self.author_data[\"last_name\"]},{self.author_data[\"first_name\"][0]}.'\n",
    "\n",
    "book = Book({\n",
    "'title': 'Brillo-iant',\n",
    "'subtitle': 'The pad that changed everything',\n",
    "'author': {\n",
    "'first_name': 'Rusty',\n",
    "'last_name': 'Potts',\n",
    "}\n",
    "})"
   ]
  },
  {
   "cell_type": "code",
   "execution_count": 7,
   "metadata": {},
   "outputs": [
    {
     "name": "stdout",
     "output_type": "stream",
     "text": [
      "Rusty Potts\n",
      "Potts,R.\n"
     ]
    }
   ],
   "source": [
    "print(book.author_for_display)\n",
    "print(book.author_for_citation)"
   ]
  }
 ],
 "metadata": {
  "kernelspec": {
   "display_name": "Python 3",
   "language": "python",
   "name": "python3"
  },
  "language_info": {
   "codemirror_mode": {
    "name": "ipython",
    "version": 3
   },
   "file_extension": ".py",
   "mimetype": "text/x-python",
   "name": "python",
   "nbconvert_exporter": "python",
   "pygments_lexer": "ipython3",
   "version": "3.10.7"
  }
 },
 "nbformat": 4,
 "nbformat_minor": 2
}
