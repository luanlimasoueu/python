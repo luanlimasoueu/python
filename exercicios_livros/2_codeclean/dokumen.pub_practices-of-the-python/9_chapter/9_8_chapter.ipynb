{
 "cells": [
  {
   "cell_type": "markdown",
   "metadata": {},
   "source": [
    "A Book class too concerned with author details"
   ]
  },
  {
   "cell_type": "code",
   "execution_count": 1,
   "metadata": {},
   "outputs": [],
   "source": [
    "class Book:\n",
    "    def __init__(self, data):\n",
    "        self.title = data['title']\n",
    "        self.subtitle = data['subtitle']\n",
    "\n",
    "    @property\n",
    "    def display_title(self):\n",
    "        if self.title and self.subtitle:\n",
    "            return f'{self.title}: {self.subtitle}'\n",
    "        elif self.title:\n",
    "            return self.title\n",
    "        else:\n",
    "            return 'Untitled'\n",
    "\n",
    "book = Book({\n",
    "'title': 'Brillo-iant',\n",
    "'subtitle': 'The pad that changed everything',\n",
    "'author': {\n",
    "'first_name': 'Rusty',\n",
    "'last_name': 'Potts',\n",
    "}\n",
    "})"
   ]
  },
  {
   "cell_type": "code",
   "execution_count": 3,
   "metadata": {},
   "outputs": [
    {
     "name": "stdout",
     "output_type": "stream",
     "text": [
      "Brillo-iant: The pad that changed everything\n"
     ]
    }
   ],
   "source": [
    "print(book.display_title)"
   ]
  }
 ],
 "metadata": {
  "kernelspec": {
   "display_name": "Python 3",
   "language": "python",
   "name": "python3"
  },
  "language_info": {
   "codemirror_mode": {
    "name": "ipython",
    "version": 3
   },
   "file_extension": ".py",
   "mimetype": "text/x-python",
   "name": "python",
   "nbconvert_exporter": "python",
   "pygments_lexer": "ipython3",
   "version": "3.10.7"
  }
 },
 "nbformat": 4,
 "nbformat_minor": 2
}
