{
 "cells": [
  {
   "cell_type": "markdown",
   "metadata": {},
   "source": [
    "Listing 8.1 A subclass that breaks substitutability"
   ]
  },
  {
   "cell_type": "code",
   "execution_count": 4,
   "metadata": {},
   "outputs": [
    {
     "name": "stdout",
     "output_type": "stream",
     "text": [
      "slime trail!\n",
      "slime trail!\n",
      "slime trail!\n",
      "slime trail!\n"
     ]
    },
    {
     "ename": "TypeError",
     "evalue": "Snail.__init__() missing 1 required positional argument: 'shell_size'",
     "output_type": "error",
     "traceback": [
      "\u001b[1;31m---------------------------------------------------------------------------\u001b[0m",
      "\u001b[1;31mTypeError\u001b[0m                                 Traceback (most recent call last)",
      "Cell \u001b[1;32mIn[4], line 19\u001b[0m\n\u001b[0;32m     17\u001b[0m race(Slug(\u001b[38;5;124m'\u001b[39m\u001b[38;5;124mGeoffrey\u001b[39m\u001b[38;5;124m'\u001b[39m), Slug(\u001b[38;5;124m'\u001b[39m\u001b[38;5;124mRamona\u001b[39m\u001b[38;5;124m'\u001b[39m))\n\u001b[0;32m     18\u001b[0m race(Snail(\u001b[38;5;124m'\u001b[39m\u001b[38;5;124mGeoffrey\u001b[39m\u001b[38;5;124m'\u001b[39m, \u001b[38;5;241m2\u001b[39m), Snail(\u001b[38;5;124m'\u001b[39m\u001b[38;5;124mRamona\u001b[39m\u001b[38;5;124m'\u001b[39m, \u001b[38;5;241m2\u001b[39m))\n\u001b[1;32m---> 19\u001b[0m race(\u001b[43mSnail\u001b[49m\u001b[43m(\u001b[49m\u001b[38;5;124;43m'\u001b[39;49m\u001b[38;5;124;43mGeoffrey\u001b[39;49m\u001b[38;5;124;43m'\u001b[39;49m\u001b[43m)\u001b[49m, Snail(\u001b[38;5;124m'\u001b[39m\u001b[38;5;124mRamona\u001b[39m\u001b[38;5;124m'\u001b[39m))\n",
      "\u001b[1;31mTypeError\u001b[0m: Snail.__init__() missing 1 required positional argument: 'shell_size'"
     ]
    }
   ],
   "source": [
    "class Slug:\n",
    "    def __init__(self, name):\n",
    "        self.name = name\n",
    "\n",
    "    def crawl(self):\n",
    "        print('slime trail!')\n",
    "\n",
    "class Snail(Slug):\n",
    "    def __init__(self, name, shell_size):\n",
    "        super().__init__(name)\n",
    "        self.name = name\n",
    "        self.shell_size = shell_size\n",
    "\n",
    "def race(gastropod_one, gastropod_two):\n",
    "    gastropod_one.crawl()\n",
    "    gastropod_two.crawl()\n",
    "race(Slug('Geoffrey'), Slug('Ramona'))\n",
    "race(Snail('Geoffrey', 2), Snail('Ramona', 2))\n",
    "race(Snail('Geoffrey'), Snail('Ramona'))"
   ]
  }
 ],
 "metadata": {
  "kernelspec": {
   "display_name": "Python 3",
   "language": "python",
   "name": "python3"
  },
  "language_info": {
   "codemirror_mode": {
    "name": "ipython",
    "version": 3
   },
   "file_extension": ".py",
   "mimetype": "text/x-python",
   "name": "python",
   "nbconvert_exporter": "python",
   "pygments_lexer": "ipython3",
   "version": "3.10.7"
  }
 },
 "nbformat": 4,
 "nbformat_minor": 2
}
