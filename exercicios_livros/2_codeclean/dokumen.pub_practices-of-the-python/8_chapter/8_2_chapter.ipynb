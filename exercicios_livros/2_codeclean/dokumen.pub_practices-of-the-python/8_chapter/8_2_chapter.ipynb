{
 "cells": [
  {
   "cell_type": "markdown",
   "metadata": {},
   "source": [
    "Listing 8.2 Using super() to access superclass behavior"
   ]
  },
  {
   "cell_type": "code",
   "execution_count": 1,
   "metadata": {},
   "outputs": [],
   "source": [
    "class Teller:\n",
    "    def deposit(self, amount, account):\n",
    "        account.deposit(amount)\n",
    "\n",
    "class CorruptTeller(Teller):\n",
    "    def __init__(self):\n",
    "        self.coffers = 0\n",
    "    def deposit(self, amount, account):\n",
    "        self.coffers += amount * 0.01\n",
    "        super().deposit(amount * 0.99, account)"
   ]
  }
 ],
 "metadata": {
  "kernelspec": {
   "display_name": "Python 3",
   "language": "python",
   "name": "python3"
  },
  "language_info": {
   "codemirror_mode": {
    "name": "ipython",
    "version": 3
   },
   "file_extension": ".py",
   "mimetype": "text/x-python",
   "name": "python",
   "nbconvert_exporter": "python",
   "pygments_lexer": "ipython3",
   "version": "3.10.7"
  }
 },
 "nbformat": 4,
 "nbformat_minor": 2
}
