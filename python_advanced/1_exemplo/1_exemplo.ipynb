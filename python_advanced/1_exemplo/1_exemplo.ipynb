{
 "cells": [
  {
   "cell_type": "code",
   "execution_count": null,
   "metadata": {},
   "outputs": [],
   "source": [
    "'''1. How is Everything Object in Python?\n",
    "2. Comprehension (Multiple and Nested)\n",
    "3. Extended Keyword Arguments (*args, **kwargs)\n",
    "4. Closures and Decorators\n",
    "5. Generators and Iterators Protocol\n",
    "6. Context Managers\n",
    "7. @staticmethod and @classmethod\n",
    "8. Inheritance and Encapsulation\n",
    "9. Operator Overloading\n",
    "10. Python Packages and Program layout\n",
    "\n",
    "https://towardsdatascience.com/10-topics-python-intermediate-programmer-should-know-3c865e8533d6\n",
    "'''\n"
   ]
  },
  {
   "cell_type": "code",
   "execution_count": null,
   "metadata": {},
   "outputs": [],
   "source": []
  }
 ],
 "metadata": {
  "language_info": {
   "name": "python"
  }
 },
 "nbformat": 4,
 "nbformat_minor": 2
}
