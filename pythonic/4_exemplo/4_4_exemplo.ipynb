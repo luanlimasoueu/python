{
 "cells": [
  {
   "cell_type": "code",
   "execution_count": 1,
   "metadata": {},
   "outputs": [],
   "source": [
    "class OhMyJava:\n",
    "\n",
    "    def __init__(self):\n",
    "        self._foo = ''\n",
    "\n",
    "    def get_foo(self):\n",
    "        return self._foo\n",
    "\n",
    "    def set_foo(self, foo):\n",
    "        self._foo = foo"
   ]
  },
  {
   "cell_type": "code",
   "execution_count": 2,
   "metadata": {},
   "outputs": [],
   "source": [
    "class AwwYeah:\n",
    "\n",
    "    def __init__(self):\n",
    "        self.foo = ''"
   ]
  },
  {
   "cell_type": "code",
   "execution_count": null,
   "metadata": {},
   "outputs": [],
   "source": [
    "obj.set_result(other.get_foo() + other.get_bar())\n",
    "# vs.\n",
    "obj.result = other.foo + other.bar"
   ]
  },
  {
   "cell_type": "code",
   "execution_count": 3,
   "metadata": {},
   "outputs": [
    {
     "data": {
      "text/plain": [
       "'More awesome please: Python is great.'"
      ]
     },
     "execution_count": 3,
     "metadata": {},
     "output_type": "execute_result"
    }
   ],
   "source": [
    "class AwwYeah:\n",
    "\n",
    "    def __init__(self):\n",
    "        self._bar = ''\n",
    "\n",
    "    @property\n",
    "    def foo(self):\n",
    "        return 'More awesome please: {}'.format(self._bar)\n",
    "\n",
    "    @foo.setter\n",
    "    def foo(self, value):\n",
    "        self._bar = '{} is great.'.format(value)\n",
    "\n",
    "a = AwwYeah()\n",
    "a.foo = 'Python'\n",
    "a.foo"
   ]
  }
 ],
 "metadata": {
  "kernelspec": {
   "display_name": "Python 3",
   "language": "python",
   "name": "python3"
  },
  "language_info": {
   "codemirror_mode": {
    "name": "ipython",
    "version": 3
   },
   "file_extension": ".py",
   "mimetype": "text/x-python",
   "name": "python",
   "nbconvert_exporter": "python",
   "pygments_lexer": "ipython3",
   "version": "3.10.7"
  }
 },
 "nbformat": 4,
 "nbformat_minor": 2
}
