{
 "cells": [
  {
   "cell_type": "code",
   "execution_count": 1,
   "metadata": {},
   "outputs": [],
   "source": [
    "f = open('kitteh.jpg', 'rb')\n",
    "cat_pic = f.read()\n",
    "# Do other stuff with the cat picture."
   ]
  },
  {
   "cell_type": "code",
   "execution_count": 2,
   "metadata": {},
   "outputs": [],
   "source": [
    "f = open('kitteh.jpg', 'rb')\n",
    "cat_pic = f.read()\n",
    "# Do other stuff with the cat picture.\n",
    "f.close()"
   ]
  },
  {
   "cell_type": "code",
   "execution_count": 3,
   "metadata": {},
   "outputs": [],
   "source": [
    "try:\n",
    "    f = open('kitteh.jpg', 'rb')\n",
    "    cat_pic = f.read()\n",
    "    # Do other stuff with the cat picture.\n",
    "    f.close()\n",
    "except:\n",
    "    print('oops, something went wrong.')"
   ]
  },
  {
   "cell_type": "code",
   "execution_count": 4,
   "metadata": {},
   "outputs": [],
   "source": [
    "try:\n",
    "    f = open('kitteh.jpg', 'rb')\n",
    "    cat_pic = f.read()\n",
    "    # Do other stuff with the cat picture.\n",
    "except:\n",
    "    print('oops, something went wrong.')\n",
    "finally:\n",
    "    f.close()"
   ]
  },
  {
   "cell_type": "code",
   "execution_count": 5,
   "metadata": {},
   "outputs": [
    {
     "name": "stdout",
     "output_type": "stream",
     "text": [
      "You can do it.\n",
      "I am trying to code.\n",
      "You made it.\n"
     ]
    }
   ],
   "source": [
    "from contextlib import contextmanager\n",
    "\n",
    "@contextmanager\n",
    "def praise():\n",
    "     print('You can do it.')\n",
    "     yield\n",
    "     print('You made it.')\n",
    "\n",
    "with praise():\n",
    "     print('I am trying to code.')"
   ]
  }
 ],
 "metadata": {
  "kernelspec": {
   "display_name": "Python 3",
   "language": "python",
   "name": "python3"
  },
  "language_info": {
   "codemirror_mode": {
    "name": "ipython",
    "version": 3
   },
   "file_extension": ".py",
   "mimetype": "text/x-python",
   "name": "python",
   "nbconvert_exporter": "python",
   "pygments_lexer": "ipython3",
   "version": "3.10.7"
  }
 },
 "nbformat": 4,
 "nbformat_minor": 2
}
