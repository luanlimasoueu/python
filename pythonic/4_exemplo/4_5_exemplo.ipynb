{
 "cells": [
  {
   "cell_type": "code",
   "execution_count": null,
   "metadata": {},
   "outputs": [],
   "source": [
    "import csv\n",
    "\n",
    "with open('financials.csv') as csvfile:\n",
    "    reader = csv.DictReader(csvfile)\n",
    "    for row in reader:\n",
    "        print(row['profit'], row['revenue'])"
   ]
  },
  {
   "cell_type": "code",
   "execution_count": null,
   "metadata": {},
   "outputs": [],
   "source": [
    "# Don't do this.\n",
    "path = 'path/to/data.csv'\n",
    "# Instead, do this.\n",
    "path = os.path.join('path', 'to', 'data.csv')"
   ]
  },
  {
   "cell_type": "code",
   "execution_count": null,
   "metadata": {},
   "outputs": [],
   "source": [
    "from pathlib import Path\n",
    "p = Path('data')\n",
    "q = p / 'to' / 'data.csv'\n",
    "q\n",
    "PosixPath('data/to/data.csv')"
   ]
  },
  {
   "cell_type": "code",
   "execution_count": null,
   "metadata": {},
   "outputs": [],
   "source": [
    ">>> import re\n",
    ">>> pattern = re.compile('abc')\n",
    ">>> bool(pattern.match('abcde'))\n",
    "True\n",
    ">>> bool(pattern.match('def'))\n",
    "False\n",
    ">>> bool(pattern.match('ABC'))\n",
    "False\n",
    ">>> pattern = re.compile('abc', re.IGNORECASE)\n",
    ">>> bool(pattern.match('ABC'))\n",
    "True"
   ]
  },
  {
   "cell_type": "code",
   "execution_count": null,
   "metadata": {},
   "outputs": [],
   "source": [
    " pattern = re.compile('Hi, (\\w+)')\n",
    ">>> match = pattern.match('Hi, Matt')\n",
    ">>> match.group(1)"
   ]
  }
 ],
 "metadata": {
  "language_info": {
   "name": "python"
  }
 },
 "nbformat": 4,
 "nbformat_minor": 2
}
