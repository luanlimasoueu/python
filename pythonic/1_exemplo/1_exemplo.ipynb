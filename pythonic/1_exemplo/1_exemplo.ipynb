{
 "cells": [
  {
   "cell_type": "code",
   "execution_count": 1,
   "metadata": {},
   "outputs": [],
   "source": [
    "def foo():\n",
    "    print(\"Hello\")\n",
    "    print(\"World\")"
   ]
  },
  {
   "cell_type": "markdown",
   "metadata": {},
   "source": [
    "Limit all lines to a maximum of 79 characters."
   ]
  },
  {
   "cell_type": "code",
   "execution_count": 2,
   "metadata": {},
   "outputs": [
    {
     "name": "stdout",
     "output_type": "stream",
     "text": [
      "This is a very long line of code that exceeds the recommended limit of 79 characters\n",
      "This is a very long line of code that exceeds the recommended limit of 79 characters\n"
     ]
    }
   ],
   "source": [
    "# Bad practice\n",
    "print(\"This is a very long line of code that exceeds the recommended limit of 79 characters\")\n",
    "\n",
    "# Good practice\n",
    "print(\"This is a very long line of code that \"\n",
    "      \"exceeds the recommended limit of 79 characters\")"
   ]
  },
  {
   "cell_type": "markdown",
   "metadata": {},
   "source": [
    "Use blank lines to separate functions and classes, and larger blocks of code inside functions."
   ]
  },
  {
   "cell_type": "code",
   "execution_count": 1,
   "metadata": {},
   "outputs": [],
   "source": [
    "# Bad practice\n",
    "def add(x, y):\n",
    "    return x + y\n",
    "def subtract(x, y):\n",
    "    return x - y\n",
    "def multiply(x, y):\n",
    "    return x * y\n",
    "def divide(x, y):\n",
    "    return x / y\n",
    "\n",
    "# Good practice\n",
    "def add(x, y):\n",
    "    return x + y\n",
    "\n",
    "\n",
    "def subtract(x, y):\n",
    "    return x - y\n",
    "\n",
    "\n",
    "def multiply(x, y):\n",
    "    return x * y\n",
    "\n",
    "\n",
    "def divide(x, y):\n",
    "    return x / y"
   ]
  },
  {
   "cell_type": "markdown",
   "metadata": {},
   "source": [
    "Use lowercase letters for variables and functions, and uppercase letters for constants. Use underscores to separate words in names."
   ]
  },
  {
   "cell_type": "code",
   "execution_count": null,
   "metadata": {},
   "outputs": [],
   "source": [
    "# Bad practice\n",
    "MyVariable = 10 # variable name should be lowercase\n",
    "myFunction() # function name should be lowercase\n",
    "my constant = 20 # constant name should be uppercase\n",
    "\n",
    "# Good practice\n",
    "my_variable = 10 # variable name is lowercase\n",
    "my_function() # function name is lowercase\n",
    "MY_CONSTANT = 20 # constant name is uppercase"
   ]
  },
  {
   "cell_type": "markdown",
   "metadata": {},
   "source": [
    "Use descriptive names for variables and functions that reflect their purpose and meaning. Avoid using single letters or ambiguous names."
   ]
  },
  {
   "cell_type": "code",
   "execution_count": null,
   "metadata": {},
   "outputs": [],
   "source": [
    "# Bad practice\n",
    "x = 10 # what does x represent?\n",
    "f() # what does f do?\n",
    "n = 20 # what does n represent?\n",
    "\n",
    "# Good practice\n",
    "length = 10 # length is descriptive\n",
    "area(length, width) # area is descriptive\n",
    "is_prime(number) # is_prime is descriptive"
   ]
  },
  {
   "cell_type": "markdown",
   "metadata": {},
   "source": [
    "Use docstrings to document your functions and classes."
   ]
  },
  {
   "cell_type": "code",
   "execution_count": 3,
   "metadata": {},
   "outputs": [
    {
     "name": "stdout",
     "output_type": "stream",
     "text": [
      "Help on function area in module __main__:\n",
      "\n",
      "area(length, width)\n",
      "    Return the area of a rectangle.\n",
      "    \n",
      "    Parameters:\n",
      "    length (float): The length of the rectangle.\n",
      "    width (float): The width of the rectangle.\n",
      "    \n",
      "    Returns:\n",
      "    float: The area of the rectangle.\n",
      "\n"
     ]
    },
    {
     "data": {
      "text/plain": [
       "'Return the area of a rectangle.\\n\\n    Parameters:\\n    length (float): The length of the rectangle.\\n    width (float): The width of the rectangle.\\n\\n    Returns:\\n    float: The area of the rectangle.\\n    '"
      ]
     },
     "execution_count": 3,
     "metadata": {},
     "output_type": "execute_result"
    }
   ],
   "source": [
    "def area(length, width):\n",
    "    \"\"\"Return the area of a rectangle.\n",
    "\n",
    "    Parameters:\n",
    "    length (float): The length of the rectangle.\n",
    "    width (float): The width of the rectangle.\n",
    "\n",
    "    Returns:\n",
    "    float: The area of the rectangle.\n",
    "    \"\"\"\n",
    "    return length * width\n",
    "\n",
    "help(area) # displays the docstring\n",
    "area.__doc__ # returns the docstring"
   ]
  },
  {
   "cell_type": "markdown",
   "metadata": {},
   "source": [
    "Use comments to explain your code when necessary."
   ]
  },
  {
   "cell_type": "code",
   "execution_count": 2,
   "metadata": {},
   "outputs": [
    {
     "name": "stdout",
     "output_type": "stream",
     "text": [
      "15\n",
      "15\n"
     ]
    }
   ],
   "source": [
    "# Bad practice\n",
    "x = 10 # assign 10 to x\n",
    "y = x + 5 # add 5 to x and assign to y\n",
    "print(y) # print y\n",
    "\n",
    "# Good practice\n",
    "x = 10 # initial value\n",
    "y = x + 5 # increment by 5\n",
    "print(y) # display result"
   ]
  },
  {
   "cell_type": "markdown",
   "metadata": {},
   "source": [
    "Swap two variables without using a temporary variable."
   ]
  },
  {
   "cell_type": "code",
   "execution_count": 4,
   "metadata": {},
   "outputs": [],
   "source": [
    "# Bad practice\n",
    "temp = x\n",
    "x = y\n",
    "y = temp\n",
    "\n",
    "# Good practice\n",
    "x, y = y, x"
   ]
  },
  {
   "cell_type": "markdown",
   "metadata": {},
   "source": [
    "Assign multiple variables in one line."
   ]
  },
  {
   "cell_type": "code",
   "execution_count": null,
   "metadata": {},
   "outputs": [],
   "source": [
    "# Bad practice\n",
    "x = 1\n",
    "y = 2\n",
    "z = 3\n",
    "\n",
    "# Good practice\n",
    "x, y, z = 1, 2, 3"
   ]
  },
  {
   "cell_type": "markdown",
   "metadata": {},
   "source": [
    "Unpack a sequence into multiple variables."
   ]
  },
  {
   "cell_type": "code",
   "execution_count": 5,
   "metadata": {},
   "outputs": [],
   "source": [
    "# Bad practice\n",
    "my_list = [1, 2, 3]\n",
    "x = my_list[0]\n",
    "y = my_list[1]\n",
    "z = my_list[2]\n",
    "\n",
    "# Good practice\n",
    "my_list = [1, 2, 3]\n",
    "x, y, z = my_list"
   ]
  },
  {
   "cell_type": "markdown",
   "metadata": {},
   "source": [
    "Use the asterisk (*) operator to collect or unpack variable numbers of arguments."
   ]
  },
  {
   "cell_type": "code",
   "execution_count": 6,
   "metadata": {},
   "outputs": [
    {
     "data": {
      "text/plain": [
       "10"
      ]
     },
     "execution_count": 6,
     "metadata": {},
     "output_type": "execute_result"
    }
   ],
   "source": [
    "# Bad practice\n",
    "def add(a, b):\n",
    "    return a + b\n",
    "\n",
    "def add_many(*args):\n",
    "    result = 0\n",
    "    for arg in args:\n",
    "        result += arg\n",
    "    return result\n",
    "\n",
    "# Good practice\n",
    "def add(*args):\n",
    "    return sum(args)\n",
    "\n",
    "add(1, 2) # returns 3\n",
    "add(1, 2, 3) # returns 6\n",
    "add(1, 2, 3, 4) # returns 10"
   ]
  },
  {
   "cell_type": "markdown",
   "metadata": {},
   "source": [
    "Dealing With Lists"
   ]
  },
  {
   "cell_type": "markdown",
   "metadata": {},
   "source": [
    "Use list comprehensions to create new lists from existing iterables."
   ]
  },
  {
   "cell_type": "code",
   "execution_count": 7,
   "metadata": {},
   "outputs": [],
   "source": [
    "# Bad practice\n",
    "squares = []\n",
    "for x in range(10):\n",
    "    squares.append(x**2)\n",
    "\n",
    "# Good practice\n",
    "squares = [x**2 for x in range(10)]"
   ]
  },
  {
   "cell_type": "markdown",
   "metadata": {},
   "source": [
    "Use the in operator to check if an element is in a list."
   ]
  },
  {
   "cell_type": "code",
   "execution_count": null,
   "metadata": {},
   "outputs": [],
   "source": [
    "# Bad practice\n",
    "found = False\n",
    "for x in my_list:\n",
    "    if x == target:\n",
    "        found = True\n",
    "        break\n",
    "\n",
    "# Good practice\n",
    "found = target in my_list"
   ]
  },
  {
   "cell_type": "markdown",
   "metadata": {},
   "source": [
    "Use the enumerate function to loop over a list with indexes."
   ]
  },
  {
   "cell_type": "code",
   "execution_count": null,
   "metadata": {},
   "outputs": [],
   "source": [
    "# Bad practice\n",
    "index = 0\n",
    "for x in my_list:\n",
    "    print(index, x)\n",
    "    index += 1\n",
    "\n",
    "# Good practice\n",
    "for index, x in enumerate(my_list):\n",
    "    print(index, x)"
   ]
  },
  {
   "cell_type": "markdown",
   "metadata": {},
   "source": [
    "Use the zip function to loop over multiple lists in parallel."
   ]
  },
  {
   "cell_type": "code",
   "execution_count": null,
   "metadata": {},
   "outputs": [],
   "source": [
    "# Bad practice\n",
    "for i in range(len(names)):\n",
    "    print(names[i], ages[i])\n",
    "\n",
    "# Good practice\n",
    "for name, age in zip(names, ages):\n",
    "    print(name, age)"
   ]
  },
  {
   "cell_type": "markdown",
   "metadata": {},
   "source": [
    "Having Fun With Functions"
   ]
  },
  {
   "cell_type": "markdown",
   "metadata": {},
   "source": [
    "Use default arguments to provide optional parameters to your functions."
   ]
  },
  {
   "cell_type": "code",
   "execution_count": 8,
   "metadata": {},
   "outputs": [],
   "source": [
    "# Bad practice\n",
    "def greet(name):\n",
    "    if name:\n",
    "        print(f\"Hello, {name}!\")\n",
    "    else:\n",
    "        print(\"Hello, world!\")\n",
    "\n",
    "# Good practice\n",
    "def greet(name=\"world\"):\n",
    "    print(f\"Hello, {name}!\")"
   ]
  },
  {
   "cell_type": "markdown",
   "metadata": {},
   "source": [
    "Beautiful is better than ugly.\n",
    "Explicit is better than implicit.\n",
    "Simple is better than complex.\n",
    "Complex is better than complicated.\n",
    "Flat is better than nested.\n",
    "Sparse is better than dense.\n",
    "Readability counts.\n",
    "There should be one-- and preferably only one --obvious way to do it.\n",
    "If the implementation is hard to explain, it’s a bad idea.\n",
    "If the implementation is easy to explain, it may be a good idea."
   ]
  }
 ],
 "metadata": {
  "kernelspec": {
   "display_name": "Python 3",
   "language": "python",
   "name": "python3"
  },
  "language_info": {
   "codemirror_mode": {
    "name": "ipython",
    "version": 3
   },
   "file_extension": ".py",
   "mimetype": "text/x-python",
   "name": "python",
   "nbconvert_exporter": "python",
   "pygments_lexer": "ipython3",
   "version": "3.10.7"
  }
 },
 "nbformat": 4,
 "nbformat_minor": 2
}
